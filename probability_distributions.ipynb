{
 "cells": [
  {
   "cell_type": "code",
   "execution_count": 2,
   "id": "60448cfb",
   "metadata": {},
   "outputs": [],
   "source": [
    "# pyplot for plotting\n",
    "# numpy for vectorized array operations\n",
    "# pandas for proper tabular manipulation\n",
    "# scipy stats for our subversions\n",
    "import matplotlib.pyplot as plt\n",
    "import numpy as np\n",
    "import pandas as pd\n",
    "from scipy import stats\n",
    "import viz # curriculum viz example code\n",
    "\n",
    "np.random.seed(123)"
   ]
  },
  {
   "cell_type": "code",
   "execution_count": 3,
   "id": "ef11d7e0",
   "metadata": {},
   "outputs": [],
   "source": [
    "# 1 Poisson bank line 2 cars\n",
    "λ = 2\n",
    "cars = stats.poisson(λ)"
   ]
  },
  {
   "cell_type": "code",
   "execution_count": 13,
   "id": "31f00936",
   "metadata": {},
   "outputs": [
    {
     "data": {
      "text/plain": [
       "<matplotlib.collections.PathCollection at 0x154f52df0>"
      ]
     },
     "execution_count": 13,
     "metadata": {},
     "output_type": "execute_result"
    },
    {
     "data": {
      "image/png": "[encoded data removed]",
      "text/plain": [
       "<Figure size 900x600 with 1 Axes>"
      ]
     },
     "metadata": {},
     "output_type": "display_data"
    }
   ],
   "source": [
    "x = np.arange(0,8)\n",
    "y =[cars.pmf(i) for i in x]\n",
    "plt.scatter(x,y)"
   ]
  },
  {
   "cell_type": "code",
   "execution_count": 7,
   "id": "99832b37",
   "metadata": {},
   "outputs": [
    {
     "data": {
      "text/plain": [
       "0.1353352832366127"
      ]
     },
     "execution_count": 7,
     "metadata": {},
     "output_type": "execute_result"
    }
   ],
   "source": [
    "# Probability of ZERO cars in noon hour\n",
    "cars.cdf(0)"
   ]
  },
  {
   "cell_type": "code",
   "execution_count": 9,
   "id": "bb0381aa",
   "metadata": {},
   "outputs": [
    {
     "data": {
      "text/plain": [
       "0.1353352832366127"
      ]
     },
     "execution_count": 9,
     "metadata": {},
     "output_type": "execute_result"
    }
   ],
   "source": [
    "# can also be found with .pmf, because ZERO is the lowest possible value in set\n",
    "cars.pmf(0)"
   ]
  },
  {
   "cell_type": "code",
   "execution_count": 12,
   "id": "51f8f0be",
   "metadata": {},
   "outputs": [
    {
     "data": {
      "text/plain": [
       "0.32332358381693654"
      ]
     },
     "execution_count": 12,
     "metadata": {},
     "output_type": "execute_result"
    }
   ],
   "source": [
    "# Prob of 3 or more cars\n",
    "cars.sf(2)"
   ]
  },
  {
   "cell_type": "code",
   "execution_count": 15,
   "id": "9e07444f",
   "metadata": {},
   "outputs": [
    {
     "data": {
      "text/plain": [
       "0.5939941502901616"
      ]
     },
     "execution_count": 15,
     "metadata": {},
     "output_type": "execute_result"
    }
   ],
   "source": [
    "# Prob of 1 or more cars\n",
    "cars.sf(1)"
   ]
  },
  {
   "cell_type": "code",
   "execution_count": 16,
   "id": "df7ad873",
   "metadata": {},
   "outputs": [
    {
     "data": {
      "text/plain": [
       "0.40600584970983794"
      ]
     },
     "execution_count": 16,
     "metadata": {},
     "output_type": "execute_result"
    }
   ],
   "source": [
    "cars.cdf(1) #reciprocal"
   ]
  },
  {
   "cell_type": "code",
   "execution_count": 19,
   "id": "0aac7bca",
   "metadata": {},
   "outputs": [
    {
     "data": {
      "text/plain": [
       "<matplotlib.collections.PathCollection at 0x15590c550>"
      ]
     },
     "execution_count": 19,
     "metadata": {},
     "output_type": "execute_result"
    },
    {
     "data": {
      "image/png": "[encoded data removed]",
      "text/plain": [
       "<Figure size 900x600 with 1 Axes>"
      ]
     },
     "metadata": {},
     "output_type": "display_data"
    }
   ],
   "source": [
    "# 2 Grades of University students mean 3 stdv of 0.3\n",
    "grade_dist = stats.norm(3,0.3)\n",
    "x = np.arange(0,6,0.1)\n",
    "y =[grade_dist.pdf(i) for i in x]\n",
    "plt.scatter(x,y)"
   ]
  },
  {
   "cell_type": "code",
   "execution_count": 21,
   "id": "8b1c9da8",
   "metadata": {},
   "outputs": [
    {
     "data": {
      "text/plain": [
       "3.4934560880854417"
      ]
     },
     "execution_count": 21,
     "metadata": {},
     "output_type": "execute_result"
    }
   ],
   "source": [
    "# grade needed for top 5% of class\n",
    "grade_dist.isf(0.05)"
   ]
  },
  {
   "cell_type": "code",
   "execution_count": 23,
   "id": "3d941197",
   "metadata": {},
   "outputs": [
    {
     "data": {
      "text/plain": [
       "2.689069983151863"
      ]
     },
     "execution_count": 23,
     "metadata": {},
     "output_type": "execute_result"
    }
   ],
   "source": [
    "#what GPA is cutoff for bottom 15%?\n",
    "grade_dist.ppf(0.15)"
   ]
  },
  {
   "cell_type": "code",
   "execution_count": 25,
   "id": "bf0190bb",
   "metadata": {},
   "outputs": [
    {
     "data": {
      "text/plain": [
       "2.7475136299281258"
      ]
     },
     "execution_count": 25,
     "metadata": {},
     "output_type": "execute_result"
    }
   ],
   "source": [
    "# scholarship for students in third decile, ie 20-30 % of class rank...range of third decile?\n",
    "grade_dist.ppf(0.2) # 2.75   2.75 to 2.84"
   ]
  },
  {
   "cell_type": "code",
   "execution_count": 26,
   "id": "72e48fdb",
   "metadata": {},
   "outputs": [
    {
     "data": {
      "text/plain": [
       "2.842679846187588"
      ]
     },
     "execution_count": 26,
     "metadata": {},
     "output_type": "execute_result"
    }
   ],
   "source": [
    "grade_dist.ppf(0.3) # 2.84"
   ]
  },
  {
   "cell_type": "code",
   "execution_count": null,
   "id": "49ee3974",
   "metadata": {},
   "outputs": [],
   "source": [
    "# YES a 2.8 GPS qualifies for this scholarship"
   ]
  },
  {
   "cell_type": "code",
   "execution_count": 30,
   "id": "d719daec",
   "metadata": {},
   "outputs": [
    {
     "data": {
      "text/plain": [
       "0.9522096477271853"
      ]
     },
     "execution_count": 30,
     "metadata": {},
     "output_type": "execute_result"
    }
   ],
   "source": [
    "# a GPA of 3.5 is in which percentile?\n",
    "\n",
    "1 - grade_dist.sf(3.5) # 95th percentile.....95.2"
   ]
  },
  {
   "cell_type": "code",
   "execution_count": 31,
   "id": "d64bd5db",
   "metadata": {},
   "outputs": [
    {
     "data": {
      "text/plain": [
       "0.022422561257512713"
      ]
     },
     "execution_count": 31,
     "metadata": {},
     "output_type": "execute_result"
    }
   ],
   "source": [
    "# 3 Marketing Website click thru rate of 0.02 \n",
    "97 / 4326 # 0.022"
   ]
  },
  {
   "cell_type": "code",
   "execution_count": 45,
   "id": "9b5f5b72",
   "metadata": {},
   "outputs": [],
   "source": [
    "#Poisson clickthru rate 0.02\n",
    "λ = 2\n",
    "click = stats.poisson(λ)"
   ]
  },
  {
   "cell_type": "code",
   "execution_count": 49,
   "id": "048e1d93",
   "metadata": {},
   "outputs": [
    {
     "data": {
      "text/plain": [
       "[<matplotlib.lines.Line2D at 0x15540c220>]"
      ]
     },
     "execution_count": 49,
     "metadata": {},
     "output_type": "execute_result"
    },
    {
     "data": {
      "image/png": "[encoded data removed]",
      "text/plain": [
       "<Figure size 900x600 with 1 Axes>"
      ]
     },
     "metadata": {},
     "output_type": "display_data"
    }
   ],
   "source": [
    "x = np.arange(0,10)\n",
    "y =[click.pmf(i) for i in x]\n",
    "plt.plot(x,y)"
   ]
  },
  {
   "cell_type": "code",
   "execution_count": 47,
   "id": "0c121591",
   "metadata": {},
   "outputs": [
    {
     "data": {
      "text/plain": [
       "0.8646647167633873"
      ]
     },
     "execution_count": 47,
     "metadata": {},
     "output_type": "execute_result"
    }
   ],
   "source": [
    "click.sf(97 / 4326)"
   ]
  },
  {
   "cell_type": "code",
   "execution_count": 70,
   "id": "9410e68a",
   "metadata": {},
   "outputs": [],
   "source": [
    "# 4 Stats HW with random Guessses for prob rounded to .00 nearest hundreth\n",
    "# Binomial Parameters:\n",
    "random_prob = stats.binom(100,0.01) # number of trials and prob rate of win and (number of wins)"
   ]
  },
  {
   "cell_type": "code",
   "execution_count": 76,
   "id": "e93b6fc1",
   "metadata": {},
   "outputs": [
    {
     "data": {
      "text/plain": [
       "1.0"
      ]
     },
     "execution_count": 76,
     "metadata": {},
     "output_type": "execute_result"
    }
   ],
   "source": [
    "random_prob.cdf(60)"
   ]
  },
  {
   "cell_type": "code",
   "execution_count": 75,
   "id": "3d185ea4",
   "metadata": {},
   "outputs": [
    {
     "data": {
      "text/plain": [
       "<BarContainer object of 1 artists>"
      ]
     },
     "execution_count": 75,
     "metadata": {},
     "output_type": "execute_result"
    },
    {
     "data": {
      "image/png": "[encoded data removed]",
      "text/plain": [
       "<Figure size 900x600 with 1 Axes>"
      ]
     },
     "metadata": {},
     "output_type": "display_data"
    }
   ],
   "source": [
    "x = np.arange(1, 61)\n",
    "y = stats.binom(100, .01).pmf(x)\n",
    "plt.bar(x, y, width=1, edgecolor='black', color='white')\n",
    "\n",
    "plt.bar(0, stats.binom(100, .01).pmf(0), width=1, color='darkseagreen', edgecolor='black')\n",
    "#plt.title('Binomial Distribution for n=20, p=.05')\n",
    "# plt.xlabel('x')\n",
    "# plt.ylabel('pmf(x)')\n",
    "\n",
    "# plt.annotate('$P(X = 0) = {:.3f}$'.format(stats.binom(20, .05).pmf(0)),\n",
    "#              (0, stats.binom(20, .05).pmf(0)), xytext=(5, .25),\n",
    "#              arrowprops={'arrowstyle': '->'})"
   ]
  },
  {
   "cell_type": "code",
   "execution_count": 108,
   "id": "189fe941",
   "metadata": {},
   "outputs": [
    {
     "data": {
      "text/plain": [
       "0.30250590303772024"
      ]
     },
     "execution_count": 108,
     "metadata": {},
     "output_type": "execute_result"
    }
   ],
   "source": [
    "# 5 Cleanup Break Room... 0.03 chance that room is cleaned each day 59.4 students visit \n",
    "\n",
    "clean_room = stats.binom(59,0.03)\n",
    "clean_room.pmf(1)"
   ]
  },
  {
   "cell_type": "code",
   "execution_count": 124,
   "id": "52d48298",
   "metadata": {},
   "outputs": [
    {
     "data": {
      "text/plain": [
       "0.17903353696689692"
      ]
     },
     "execution_count": 124,
     "metadata": {},
     "output_type": "execute_result"
    }
   ],
   "source": [
    "clean_day = stats.binom(119,0.03)\n",
    "clean_day.pmf(2)"
   ]
  },
  {
   "cell_type": "code",
   "execution_count": 125,
   "id": "8b70d293",
   "metadata": {},
   "outputs": [
    {
     "data": {
      "text/plain": [
       "0.03273873669874952"
      ]
     },
     "execution_count": 125,
     "metadata": {},
     "output_type": "execute_result"
    }
   ],
   "source": [
    "clean_day = stats.binom(420,0.03)\n",
    "clean_day.pmf(7)"
   ]
  },
  {
   "cell_type": "code",
   "execution_count": 127,
   "id": "48b5e245",
   "metadata": {},
   "outputs": [
    {
     "data": {
      "text/plain": [
       "<matplotlib.collections.PathCollection at 0x168021550>"
      ]
     },
     "execution_count": 127,
     "metadata": {},
     "output_type": "execute_result"
    },
    {
     "data": {
      "image/png": "[encoded data removed]",
      "text/plain": [
       "<Figure size 900x600 with 1 Axes>"
      ]
     },
     "metadata": {},
     "output_type": "display_data"
    }
   ],
   "source": [
    "# 6 LUNCH with mean =15 stdv =3\n",
    "lunch_dist = stats.norm(15,3)\n",
    "x = np.arange(0,30)\n",
    "y =[lunch_dist.pdf(i) for i in x]\n",
    "plt.scatter(x,y)"
   ]
  },
  {
   "cell_type": "code",
   "execution_count": 132,
   "id": "85996e93",
   "metadata": {},
   "outputs": [
    {
     "data": {
      "text/plain": [
       "0.7475074624530771"
      ]
     },
     "execution_count": 132,
     "metadata": {},
     "output_type": "execute_result"
    }
   ],
   "source": [
    "lunch_dist.cdf(17)"
   ]
  },
  {
   "cell_type": "code",
   "execution_count": 134,
   "id": "25190656",
   "metadata": {},
   "outputs": [],
   "source": [
    "# 7 Connect to employees DB find avg and std of CURRENT salaries"
   ]
  },
  {
   "cell_type": "code",
   "execution_count": 135,
   "id": "80c116b1",
   "metadata": {},
   "outputs": [],
   "source": [
    "import env\n",
    "# [protocol]://[user]:[password]@[host]/[database_name]\n",
    "# mysql+pymysql://codeup:p@assw0rd@123.123.123.123/some_db"
   ]
  },
  {
   "cell_type": "code",
   "execution_count": null,
   "id": "8755a6fa",
   "metadata": {},
   "outputs": [],
   "source": [
    "# def get_db_url(u_name,pwd,h_name,db_name):\n",
    "#     url = f'mysql+pymysql://{u_name}:{pwd}@{h_name}/{db_name}'\n",
    "#     return url"
   ]
  },
  {
   "cell_type": "code",
   "execution_count": 137,
   "id": "ded38646",
   "metadata": {},
   "outputs": [
    {
     "data": {
      "text/html": [
       "<div>\n",
       "<style scoped>\n",
       "    .dataframe tbody tr th:only-of-type {\n",
       "        vertical-align: middle;\n",
       "    }\n",
       "\n",
       "    .dataframe tbody tr th {\n",
       "        vertical-align: top;\n",
       "    }\n",
       "\n",
       "    .dataframe thead th {\n",
       "        text-align: right;\n",
       "    }\n",
       "</style>\n",
       "<table border=\"1\" class=\"dataframe\">\n",
       "  <thead>\n",
       "    <tr style=\"text-align: right;\">\n",
       "      <th></th>\n",
       "      <th>AVG(salary)</th>\n",
       "      <th>STD(salary)</th>\n",
       "    </tr>\n",
       "  </thead>\n",
       "  <tbody>\n",
       "    <tr>\n",
       "      <th>0</th>\n",
       "      <td>72012.2359</td>\n",
       "      <td>17309.959336</td>\n",
       "    </tr>\n",
       "  </tbody>\n",
       "</table>\n",
       "</div>"
      ],
      "text/plain": [
       "   AVG(salary)   STD(salary)\n",
       "0   72012.2359  17309.959336"
      ]
     },
     "execution_count": 137,
     "metadata": {},
     "output_type": "execute_result"
    }
   ],
   "source": [
    "query_sal = 'SELECT AVG(salary), STD(salary) FROM salaries WHERE YEAR(to_date) = 9999;'\n",
    "emp_sql_df = pd.read_sql(query_sal,env.get_db_url(env.uname,env.pwd,env.host,'employees'))\n",
    "emp_sql_df"
   ]
  },
  {
   "cell_type": "code",
   "execution_count": 153,
   "id": "61b03f99",
   "metadata": {},
   "outputs": [],
   "source": [
    "emp_sql_df.rename(columns={\n",
    "    'AVG(salary)':'avg_sal',\n",
    "    'STD(salary)':'std_sal'\n",
    "},inplace=True\n",
    ")"
   ]
  },
  {
   "cell_type": "code",
   "execution_count": 154,
   "id": "b0be458a",
   "metadata": {},
   "outputs": [
    {
     "data": {
      "text/html": [
       "<div>\n",
       "<style scoped>\n",
       "    .dataframe tbody tr th:only-of-type {\n",
       "        vertical-align: middle;\n",
       "    }\n",
       "\n",
       "    .dataframe tbody tr th {\n",
       "        vertical-align: top;\n",
       "    }\n",
       "\n",
       "    .dataframe thead th {\n",
       "        text-align: right;\n",
       "    }\n",
       "</style>\n",
       "<table border=\"1\" class=\"dataframe\">\n",
       "  <thead>\n",
       "    <tr style=\"text-align: right;\">\n",
       "      <th></th>\n",
       "      <th>avg_sal</th>\n",
       "      <th>std_sal</th>\n",
       "    </tr>\n",
       "  </thead>\n",
       "  <tbody>\n",
       "    <tr>\n",
       "      <th>0</th>\n",
       "      <td>72012.2359</td>\n",
       "      <td>17309.959336</td>\n",
       "    </tr>\n",
       "  </tbody>\n",
       "</table>\n",
       "</div>"
      ],
      "text/plain": [
       "      avg_sal       std_sal\n",
       "0  72012.2359  17309.959336"
      ]
     },
     "execution_count": 154,
     "metadata": {},
     "output_type": "execute_result"
    }
   ],
   "source": [
    "emp_sql_df"
   ]
  },
  {
   "cell_type": "code",
   "execution_count": 171,
   "id": "a71b736e",
   "metadata": {},
   "outputs": [
    {
     "data": {
      "text/plain": [
       "<scipy.stats._distn_infrastructure.rv_continuous_frozen at 0x1753d66a0>"
      ]
     },
     "execution_count": 171,
     "metadata": {},
     "output_type": "execute_result"
    }
   ],
   "source": [
    "sal_dist = stats.norm(emp_sql_df.avg_sal,emp_sql_df.std_sal)\n",
    "sal_dist"
   ]
  },
  {
   "cell_type": "code",
   "execution_count": 166,
   "id": "9933f530",
   "metadata": {},
   "outputs": [
    {
     "data": {
      "text/plain": [
       "[<matplotlib.lines.Line2D at 0x175232fd0>]"
      ]
     },
     "execution_count": 166,
     "metadata": {},
     "output_type": "execute_result"
    },
    {
     "data": {
      "image/png": "[encoded data removed]",
      "text/plain": [
       "<Figure size 900x600 with 1 Axes>"
      ]
     },
     "metadata": {},
     "output_type": "display_data"
    }
   ],
   "source": [
    "x = np.arange(0,150_000)\n",
    "y =[sal_dist.pdf(i) for i in x]\n",
    "plt.plot(x,y)"
   ]
  },
  {
   "cell_type": "code",
   "execution_count": null,
   "id": "63dc9ff9",
   "metadata": {},
   "outputs": [],
   "source": []
  },
  {
   "cell_type": "code",
   "execution_count": 172,
   "id": "c320fb28",
   "metadata": {},
   "outputs": [
    {
     "data": {
      "text/plain": [
       "array([0.34270261])"
      ]
     },
     "execution_count": 172,
     "metadata": {},
     "output_type": "execute_result"
    }
   ],
   "source": [
    "# 7a PCT of employees earn less than 65k?\n",
    "sal_dist.cdf(65_000)"
   ]
  },
  {
   "cell_type": "code",
   "execution_count": 173,
   "id": "e9bd2c3a",
   "metadata": {},
   "outputs": [
    {
     "data": {
      "text/plain": [
       "array([0.09208774])"
      ]
     },
     "execution_count": 173,
     "metadata": {},
     "output_type": "execute_result"
    }
   ],
   "source": [
    "# 7b PCT of employees earn more than 95k?\n",
    "sal_dist.sf(95_000)"
   ]
  },
  {
   "cell_type": "code",
   "execution_count": 174,
   "id": "379a922c",
   "metadata": {},
   "outputs": [
    {
     "data": {
      "text/plain": [
       "array([0.33506122])"
      ]
     },
     "execution_count": 174,
     "metadata": {},
     "output_type": "execute_result"
    }
   ],
   "source": [
    "# 7c PCT employees earn between 65k and 80k?\n",
    "1- sal_dist.cdf(65_000) - sal_dist.sf(80_000)"
   ]
  },
  {
   "cell_type": "code",
   "execution_count": 175,
   "id": "559dcb86",
   "metadata": {},
   "outputs": [
    {
     "data": {
      "text/plain": [
       "array([100484.58529677])"
      ]
     },
     "execution_count": 175,
     "metadata": {},
     "output_type": "execute_result"
    }
   ],
   "source": [
    "# 7d What salary constitutes the top 5% of salaries?\n",
    "sal_dist.isf(0.05)"
   ]
  },
  {
   "cell_type": "code",
   "execution_count": null,
   "id": "863e3ef6",
   "metadata": {},
   "outputs": [],
   "source": []
  },
  {
   "cell_type": "code",
   "execution_count": null,
   "id": "ff74f228",
   "metadata": {},
   "outputs": [],
   "source": []
  },
  {
   "cell_type": "code",
   "execution_count": null,
   "id": "50089111",
   "metadata": {},
   "outputs": [],
   "source": []
  },
  {
   "cell_type": "code",
   "execution_count": null,
   "id": "aa1d784d",
   "metadata": {},
   "outputs": [],
   "source": []
  },
  {
   "cell_type": "code",
   "execution_count": null,
   "id": "2a932a1a",
   "metadata": {},
   "outputs": [],
   "source": []
  },
  {
   "cell_type": "code",
   "execution_count": null,
   "id": "b943b0d0",
   "metadata": {},
   "outputs": [],
   "source": []
  },
  {
   "cell_type": "code",
   "execution_count": null,
   "id": "cf76fc89",
   "metadata": {},
   "outputs": [],
   "source": []
  }
 ],
 "metadata": {
  "kernelspec": {
   "display_name": "Python 3 (ipykernel)",
   "language": "python",
   "name": "python3"
  },
  "language_info": {
   "codemirror_mode": {
    "name": "ipython",
    "version": 3
   },
   "file_extension": ".py",
   "mimetype": "text/x-python",
   "name": "python",
   "nbconvert_exporter": "python",
   "pygments_lexer": "ipython3",
   "version": "3.9.13"
  }
 },
 "nbformat": 4,
 "nbformat_minor": 5
}
