{
 "cells": [
  {
   "cell_type": "code",
   "execution_count": 1,
   "id": "5a61acb5",
   "metadata": {},
   "outputs": [],
   "source": [
    "import numpy as np\n",
    "import seaborn as sns\n",
    "import scipy.stats as stats\n",
    "import pandas as pd\n",
    "import matplotlib.pyplot as plt\n",
    "from pydataset import data"
   ]
  },
  {
   "cell_type": "markdown",
   "id": "e492600a",
   "metadata": {},
   "source": [
    "### COMPARISON OF MEANS EXERCISES"
   ]
  },
  {
   "cell_type": "code",
   "execution_count": null,
   "id": "7331c633",
   "metadata": {},
   "outputs": [],
   "source": [
    "# 1 a type oftest for:\n",
    "# sig DIFF in student grades on second floor compared to ALL studenrts?\n",
    "\n",
    "# ANSwER: 1-Sample(2nd-floor), 2-Tailed T-Test\n",
    "\n",
    "# 1 b\n",
    "# Adults who drink Milk TALLER than adults who do not?\n",
    "\n",
    "# ANSWER: 2-Sample(drink,non-drink), 1-Tailed(Taller) T-Test\n",
    "\n",
    "# 1 c\n",
    "# Price of gas higher in TX or NM?\n",
    "\n",
    "# ANSWER: 2-Sample(TX, NM), 1-Tailed (higher price) T-Test\n",
    "\n",
    "# 1 d DIFF in stress among DS studs and WDev studs and CA studs\n",
    "\n",
    "# ANSWER multi-sample (ttest_ind)(DS, WDEV, CA), 2-TAILED(DIFFERENCES, NO DIRECTIONALITY IMPLIED) t_test"
   ]
  },
  {
   "cell_type": "code",
   "execution_count": null,
   "id": "47b9e150",
   "metadata": {},
   "outputs": [],
   "source": []
  },
  {
   "cell_type": "markdown",
   "id": "e4e54b58",
   "metadata": {},
   "source": [
    "#### ACE REALTY DIFF between two OFFICES"
   ]
  },
  {
   "cell_type": "code",
   "execution_count": null,
   "id": "1fc691b9",
   "metadata": {},
   "outputs": [],
   "source": [
    "# 2-Sample, 2-Tailed .ttest_ind\n",
    "# OFFICE 1: mean=90 days, sd=15 days\n",
    "# OFFICE 2: mean=10 days, sd=20 days \n",
    "# Does STATISTICALLY SIG DIFF EXIST?\n"
   ]
  },
  {
   "cell_type": "code",
   "execution_count": 2,
   "id": "f67df163",
   "metadata": {},
   "outputs": [
    {
     "data": {
      "text/plain": [
       "array([ 83.52849432, 109.43236621])"
      ]
     },
     "execution_count": 2,
     "metadata": {},
     "output_type": "execute_result"
    }
   ],
   "source": [
    "check_α = 0.05\n",
    "np.random.normal(90,15,2)"
   ]
  },
  {
   "cell_type": "code",
   "execution_count": 3,
   "id": "ebd3efbd",
   "metadata": {},
   "outputs": [
    {
     "data": {
      "text/plain": [
       "array([ 96.40277547,  96.17769952, 110.02433335, 123.77456922,\n",
       "       101.59885011, 118.65466334,  78.55401833,  80.09327093,\n",
       "        92.00721154, 103.58068642,  81.33236022,  93.91047378,\n",
       "        71.57911342, 108.14223368,  81.75064271,  91.76522994,\n",
       "       110.95136835, 120.56774433,  89.09898827,  91.56795505,\n",
       "       108.38300508,  88.21195526, 111.12128304,  80.3160334 ,\n",
       "        84.30539371, 100.27953898,  80.27074222,  85.24960053,\n",
       "        75.60706847,  85.20256122, 102.37008397,  96.53642436,\n",
       "        85.85633346, 103.42703384,  78.88623973,  71.78356094,\n",
       "        77.88121451,  75.78772625,  79.60181411,  99.57668008])"
      ]
     },
     "execution_count": 3,
     "metadata": {},
     "output_type": "execute_result"
    }
   ],
   "source": [
    "# GENERATE ARRAYS\n",
    "office_1 = np.random.normal(90,15,40)\n",
    "office_1"
   ]
  },
  {
   "cell_type": "code",
   "execution_count": 4,
   "id": "6f6a7e13",
   "metadata": {},
   "outputs": [
    {
     "data": {
      "text/plain": [
       "array([ 81.55114762, 126.78172248,  45.66149794, 123.8130968 ,\n",
       "       111.7802805 , 108.32439614,  56.59361486,  94.07160682,\n",
       "       107.86442171,  94.01790245,  82.52564179, 144.59575659,\n",
       "        82.85731788,  78.7026143 , 141.84514352,  87.54472855,\n",
       "        96.62738399,  73.55081713,  97.8505057 , 105.58076573,\n",
       "        99.34086398,  70.64913527,  78.10083813,  83.66465561,\n",
       "        93.53446872, 104.69200009, 118.55676512, 149.84936963,\n",
       "       126.12471558, 116.13451745, 126.31670061, 109.74376814,\n",
       "        80.59690571,  99.46840939, 102.99085236, 111.02343806,\n",
       "       108.39473698, 108.71109204,  97.52756279, 104.62976037,\n",
       "        69.70905949, 133.15216722,  78.66073444,  95.5909608 ,\n",
       "       103.7183906 , 115.75229134,  97.02795905, 118.37459706,\n",
       "       110.26659742, 128.07276573])"
      ]
     },
     "execution_count": 4,
     "metadata": {},
     "output_type": "execute_result"
    }
   ],
   "source": [
    "office_2 = np.random.normal(100,20,50)\n",
    "office_2"
   ]
  },
  {
   "cell_type": "code",
   "execution_count": 5,
   "id": "b542f4f7",
   "metadata": {},
   "outputs": [
    {
     "data": {
      "text/plain": [
       "True"
      ]
     },
     "execution_count": 5,
     "metadata": {},
     "output_type": "execute_result"
    }
   ],
   "source": [
    "# Levene test to test for statistically significant diff in var's\n",
    "_, levene_p = stats.levene(office_1,office_2)\n",
    "levene_p < check_α"
   ]
  },
  {
   "cell_type": "code",
   "execution_count": 7,
   "id": "50a8dfb7",
   "metadata": {},
   "outputs": [
    {
     "name": "stdout",
     "output_type": "stream",
     "text": [
      "191.2467477495167\n",
      "465.3361310555441\n"
     ]
    }
   ],
   "source": [
    "print(office_1.var())\n",
    "print(office_2.var())"
   ]
  },
  {
   "cell_type": "code",
   "execution_count": 6,
   "id": "0ae5a49d",
   "metadata": {},
   "outputs": [
    {
     "data": {
      "text/plain": [
       "(4.749319187042252, 0.031981272200627964)"
      ]
     },
     "execution_count": 6,
     "metadata": {},
     "output_type": "execute_result"
    }
   ],
   "source": [
    "_,levene_p"
   ]
  },
  {
   "cell_type": "code",
   "execution_count": 12,
   "id": "732bdf96",
   "metadata": {},
   "outputs": [],
   "source": [
    "# Actually, we can just run the test given thatwe have the SUmmary Statistics\n",
    "# ok ACTUAL TEST NOW!!!!\n",
    "\n",
    "t_stat, p_val = stats.ttest_ind(office_1,\n",
    "                                office_2,\n",
    "                               equal_var=False)"
   ]
  },
  {
   "cell_type": "code",
   "execution_count": 13,
   "id": "2e153434",
   "metadata": {},
   "outputs": [
    {
     "data": {
      "text/plain": [
       "(-2.330990829217819, 0.022138958711740906)"
      ]
     },
     "execution_count": 13,
     "metadata": {},
     "output_type": "execute_result"
    }
   ],
   "source": [
    "t_stat, p_val"
   ]
  },
  {
   "cell_type": "code",
   "execution_count": 15,
   "id": "34bf8f1f",
   "metadata": {},
   "outputs": [
    {
     "data": {
      "text/plain": [
       "True"
      ]
     },
     "execution_count": 15,
     "metadata": {},
     "output_type": "execute_result"
    }
   ],
   "source": [
    "p_val < check_α # with a p_value smaller than alpha level of 0.05 reject the null (Ho) assertion that the two \n",
    "# samples (office 1 and office 2) come from the same distributon.  With an alpha of 0.05, this conclusion \n",
    "# will be untrue 5% of the time."
   ]
  },
  {
   "cell_type": "markdown",
   "id": "82972fd1",
   "metadata": {},
   "source": [
    "### MPG DATA QUESTIONS"
   ]
  },
  {
   "cell_type": "code",
   "execution_count": 16,
   "id": "880d7da9",
   "metadata": {},
   "outputs": [
    {
     "name": "stdout",
     "output_type": "stream",
     "text": [
      "<class 'pandas.core.frame.DataFrame'>\n",
      "Int64Index: 234 entries, 1 to 234\n",
      "Data columns (total 11 columns):\n",
      " #   Column        Non-Null Count  Dtype  \n",
      "---  ------        --------------  -----  \n",
      " 0   manufacturer  234 non-null    object \n",
      " 1   model         234 non-null    object \n",
      " 2   displ         234 non-null    float64\n",
      " 3   year          234 non-null    int64  \n",
      " 4   cyl           234 non-null    int64  \n",
      " 5   trans         234 non-null    object \n",
      " 6   drv           234 non-null    object \n",
      " 7   cty           234 non-null    int64  \n",
      " 8   hwy           234 non-null    int64  \n",
      " 9   fl            234 non-null    object \n",
      " 10  class         234 non-null    object \n",
      "dtypes: float64(1), int64(4), object(6)\n",
      "memory usage: 21.9+ KB\n"
     ]
    }
   ],
   "source": [
    "mpg = data('mpg')\n",
    "mpg.info()"
   ]
  },
  {
   "cell_type": "code",
   "execution_count": 17,
   "id": "37e95dbb",
   "metadata": {},
   "outputs": [
    {
     "data": {
      "text/html": [
       "<div>\n",
       "<style scoped>\n",
       "    .dataframe tbody tr th:only-of-type {\n",
       "        vertical-align: middle;\n",
       "    }\n",
       "\n",
       "    .dataframe tbody tr th {\n",
       "        vertical-align: top;\n",
       "    }\n",
       "\n",
       "    .dataframe thead th {\n",
       "        text-align: right;\n",
       "    }\n",
       "</style>\n",
       "<table border=\"1\" class=\"dataframe\">\n",
       "  <thead>\n",
       "    <tr style=\"text-align: right;\">\n",
       "      <th></th>\n",
       "      <th>manufacturer</th>\n",
       "      <th>model</th>\n",
       "      <th>displ</th>\n",
       "      <th>year</th>\n",
       "      <th>cyl</th>\n",
       "      <th>trans</th>\n",
       "      <th>drv</th>\n",
       "      <th>cty</th>\n",
       "      <th>hwy</th>\n",
       "      <th>fl</th>\n",
       "      <th>class</th>\n",
       "    </tr>\n",
       "  </thead>\n",
       "  <tbody>\n",
       "    <tr>\n",
       "      <th>1</th>\n",
       "      <td>audi</td>\n",
       "      <td>a4</td>\n",
       "      <td>1.8</td>\n",
       "      <td>1999</td>\n",
       "      <td>4</td>\n",
       "      <td>auto(l5)</td>\n",
       "      <td>f</td>\n",
       "      <td>18</td>\n",
       "      <td>29</td>\n",
       "      <td>p</td>\n",
       "      <td>compact</td>\n",
       "    </tr>\n",
       "    <tr>\n",
       "      <th>2</th>\n",
       "      <td>audi</td>\n",
       "      <td>a4</td>\n",
       "      <td>1.8</td>\n",
       "      <td>1999</td>\n",
       "      <td>4</td>\n",
       "      <td>manual(m5)</td>\n",
       "      <td>f</td>\n",
       "      <td>21</td>\n",
       "      <td>29</td>\n",
       "      <td>p</td>\n",
       "      <td>compact</td>\n",
       "    </tr>\n",
       "    <tr>\n",
       "      <th>3</th>\n",
       "      <td>audi</td>\n",
       "      <td>a4</td>\n",
       "      <td>2.0</td>\n",
       "      <td>2008</td>\n",
       "      <td>4</td>\n",
       "      <td>manual(m6)</td>\n",
       "      <td>f</td>\n",
       "      <td>20</td>\n",
       "      <td>31</td>\n",
       "      <td>p</td>\n",
       "      <td>compact</td>\n",
       "    </tr>\n",
       "    <tr>\n",
       "      <th>4</th>\n",
       "      <td>audi</td>\n",
       "      <td>a4</td>\n",
       "      <td>2.0</td>\n",
       "      <td>2008</td>\n",
       "      <td>4</td>\n",
       "      <td>auto(av)</td>\n",
       "      <td>f</td>\n",
       "      <td>21</td>\n",
       "      <td>30</td>\n",
       "      <td>p</td>\n",
       "      <td>compact</td>\n",
       "    </tr>\n",
       "    <tr>\n",
       "      <th>5</th>\n",
       "      <td>audi</td>\n",
       "      <td>a4</td>\n",
       "      <td>2.8</td>\n",
       "      <td>1999</td>\n",
       "      <td>6</td>\n",
       "      <td>auto(l5)</td>\n",
       "      <td>f</td>\n",
       "      <td>16</td>\n",
       "      <td>26</td>\n",
       "      <td>p</td>\n",
       "      <td>compact</td>\n",
       "    </tr>\n",
       "    <tr>\n",
       "      <th>6</th>\n",
       "      <td>audi</td>\n",
       "      <td>a4</td>\n",
       "      <td>2.8</td>\n",
       "      <td>1999</td>\n",
       "      <td>6</td>\n",
       "      <td>manual(m5)</td>\n",
       "      <td>f</td>\n",
       "      <td>18</td>\n",
       "      <td>26</td>\n",
       "      <td>p</td>\n",
       "      <td>compact</td>\n",
       "    </tr>\n",
       "    <tr>\n",
       "      <th>7</th>\n",
       "      <td>audi</td>\n",
       "      <td>a4</td>\n",
       "      <td>3.1</td>\n",
       "      <td>2008</td>\n",
       "      <td>6</td>\n",
       "      <td>auto(av)</td>\n",
       "      <td>f</td>\n",
       "      <td>18</td>\n",
       "      <td>27</td>\n",
       "      <td>p</td>\n",
       "      <td>compact</td>\n",
       "    </tr>\n",
       "    <tr>\n",
       "      <th>8</th>\n",
       "      <td>audi</td>\n",
       "      <td>a4 quattro</td>\n",
       "      <td>1.8</td>\n",
       "      <td>1999</td>\n",
       "      <td>4</td>\n",
       "      <td>manual(m5)</td>\n",
       "      <td>4</td>\n",
       "      <td>18</td>\n",
       "      <td>26</td>\n",
       "      <td>p</td>\n",
       "      <td>compact</td>\n",
       "    </tr>\n",
       "    <tr>\n",
       "      <th>9</th>\n",
       "      <td>audi</td>\n",
       "      <td>a4 quattro</td>\n",
       "      <td>1.8</td>\n",
       "      <td>1999</td>\n",
       "      <td>4</td>\n",
       "      <td>auto(l5)</td>\n",
       "      <td>4</td>\n",
       "      <td>16</td>\n",
       "      <td>25</td>\n",
       "      <td>p</td>\n",
       "      <td>compact</td>\n",
       "    </tr>\n",
       "    <tr>\n",
       "      <th>10</th>\n",
       "      <td>audi</td>\n",
       "      <td>a4 quattro</td>\n",
       "      <td>2.0</td>\n",
       "      <td>2008</td>\n",
       "      <td>4</td>\n",
       "      <td>manual(m6)</td>\n",
       "      <td>4</td>\n",
       "      <td>20</td>\n",
       "      <td>28</td>\n",
       "      <td>p</td>\n",
       "      <td>compact</td>\n",
       "    </tr>\n",
       "  </tbody>\n",
       "</table>\n",
       "</div>"
      ],
      "text/plain": [
       "   manufacturer       model  displ  year  cyl       trans drv  cty  hwy fl  \\\n",
       "1          audi          a4    1.8  1999    4    auto(l5)   f   18   29  p   \n",
       "2          audi          a4    1.8  1999    4  manual(m5)   f   21   29  p   \n",
       "3          audi          a4    2.0  2008    4  manual(m6)   f   20   31  p   \n",
       "4          audi          a4    2.0  2008    4    auto(av)   f   21   30  p   \n",
       "5          audi          a4    2.8  1999    6    auto(l5)   f   16   26  p   \n",
       "6          audi          a4    2.8  1999    6  manual(m5)   f   18   26  p   \n",
       "7          audi          a4    3.1  2008    6    auto(av)   f   18   27  p   \n",
       "8          audi  a4 quattro    1.8  1999    4  manual(m5)   4   18   26  p   \n",
       "9          audi  a4 quattro    1.8  1999    4    auto(l5)   4   16   25  p   \n",
       "10         audi  a4 quattro    2.0  2008    4  manual(m6)   4   20   28  p   \n",
       "\n",
       "      class  \n",
       "1   compact  \n",
       "2   compact  \n",
       "3   compact  \n",
       "4   compact  \n",
       "5   compact  \n",
       "6   compact  \n",
       "7   compact  \n",
       "8   compact  \n",
       "9   compact  \n",
       "10  compact  "
      ]
     },
     "execution_count": 17,
     "metadata": {},
     "output_type": "execute_result"
    }
   ],
   "source": [
    "mpg.head(10)"
   ]
  },
  {
   "cell_type": "code",
   "execution_count": 18,
   "id": "8c934dcd",
   "metadata": {},
   "outputs": [
    {
     "data": {
      "text/html": [
       "<div>\n",
       "<style scoped>\n",
       "    .dataframe tbody tr th:only-of-type {\n",
       "        vertical-align: middle;\n",
       "    }\n",
       "\n",
       "    .dataframe tbody tr th {\n",
       "        vertical-align: top;\n",
       "    }\n",
       "\n",
       "    .dataframe thead th {\n",
       "        text-align: right;\n",
       "    }\n",
       "</style>\n",
       "<table border=\"1\" class=\"dataframe\">\n",
       "  <thead>\n",
       "    <tr style=\"text-align: right;\">\n",
       "      <th></th>\n",
       "      <th>manufacturer</th>\n",
       "      <th>model</th>\n",
       "      <th>displ</th>\n",
       "      <th>year</th>\n",
       "      <th>cyl</th>\n",
       "      <th>trans</th>\n",
       "      <th>drv</th>\n",
       "      <th>cty</th>\n",
       "      <th>hwy</th>\n",
       "      <th>fl</th>\n",
       "      <th>class</th>\n",
       "      <th>avg_mpg</th>\n",
       "    </tr>\n",
       "  </thead>\n",
       "  <tbody>\n",
       "    <tr>\n",
       "      <th>1</th>\n",
       "      <td>audi</td>\n",
       "      <td>a4</td>\n",
       "      <td>1.8</td>\n",
       "      <td>1999</td>\n",
       "      <td>4</td>\n",
       "      <td>auto(l5)</td>\n",
       "      <td>f</td>\n",
       "      <td>18</td>\n",
       "      <td>29</td>\n",
       "      <td>p</td>\n",
       "      <td>compact</td>\n",
       "      <td>23.5</td>\n",
       "    </tr>\n",
       "    <tr>\n",
       "      <th>2</th>\n",
       "      <td>audi</td>\n",
       "      <td>a4</td>\n",
       "      <td>1.8</td>\n",
       "      <td>1999</td>\n",
       "      <td>4</td>\n",
       "      <td>manual(m5)</td>\n",
       "      <td>f</td>\n",
       "      <td>21</td>\n",
       "      <td>29</td>\n",
       "      <td>p</td>\n",
       "      <td>compact</td>\n",
       "      <td>25.0</td>\n",
       "    </tr>\n",
       "    <tr>\n",
       "      <th>3</th>\n",
       "      <td>audi</td>\n",
       "      <td>a4</td>\n",
       "      <td>2.0</td>\n",
       "      <td>2008</td>\n",
       "      <td>4</td>\n",
       "      <td>manual(m6)</td>\n",
       "      <td>f</td>\n",
       "      <td>20</td>\n",
       "      <td>31</td>\n",
       "      <td>p</td>\n",
       "      <td>compact</td>\n",
       "      <td>25.5</td>\n",
       "    </tr>\n",
       "    <tr>\n",
       "      <th>4</th>\n",
       "      <td>audi</td>\n",
       "      <td>a4</td>\n",
       "      <td>2.0</td>\n",
       "      <td>2008</td>\n",
       "      <td>4</td>\n",
       "      <td>auto(av)</td>\n",
       "      <td>f</td>\n",
       "      <td>21</td>\n",
       "      <td>30</td>\n",
       "      <td>p</td>\n",
       "      <td>compact</td>\n",
       "      <td>25.5</td>\n",
       "    </tr>\n",
       "    <tr>\n",
       "      <th>5</th>\n",
       "      <td>audi</td>\n",
       "      <td>a4</td>\n",
       "      <td>2.8</td>\n",
       "      <td>1999</td>\n",
       "      <td>6</td>\n",
       "      <td>auto(l5)</td>\n",
       "      <td>f</td>\n",
       "      <td>16</td>\n",
       "      <td>26</td>\n",
       "      <td>p</td>\n",
       "      <td>compact</td>\n",
       "      <td>21.0</td>\n",
       "    </tr>\n",
       "    <tr>\n",
       "      <th>6</th>\n",
       "      <td>audi</td>\n",
       "      <td>a4</td>\n",
       "      <td>2.8</td>\n",
       "      <td>1999</td>\n",
       "      <td>6</td>\n",
       "      <td>manual(m5)</td>\n",
       "      <td>f</td>\n",
       "      <td>18</td>\n",
       "      <td>26</td>\n",
       "      <td>p</td>\n",
       "      <td>compact</td>\n",
       "      <td>22.0</td>\n",
       "    </tr>\n",
       "    <tr>\n",
       "      <th>7</th>\n",
       "      <td>audi</td>\n",
       "      <td>a4</td>\n",
       "      <td>3.1</td>\n",
       "      <td>2008</td>\n",
       "      <td>6</td>\n",
       "      <td>auto(av)</td>\n",
       "      <td>f</td>\n",
       "      <td>18</td>\n",
       "      <td>27</td>\n",
       "      <td>p</td>\n",
       "      <td>compact</td>\n",
       "      <td>22.5</td>\n",
       "    </tr>\n",
       "    <tr>\n",
       "      <th>8</th>\n",
       "      <td>audi</td>\n",
       "      <td>a4 quattro</td>\n",
       "      <td>1.8</td>\n",
       "      <td>1999</td>\n",
       "      <td>4</td>\n",
       "      <td>manual(m5)</td>\n",
       "      <td>4</td>\n",
       "      <td>18</td>\n",
       "      <td>26</td>\n",
       "      <td>p</td>\n",
       "      <td>compact</td>\n",
       "      <td>22.0</td>\n",
       "    </tr>\n",
       "    <tr>\n",
       "      <th>9</th>\n",
       "      <td>audi</td>\n",
       "      <td>a4 quattro</td>\n",
       "      <td>1.8</td>\n",
       "      <td>1999</td>\n",
       "      <td>4</td>\n",
       "      <td>auto(l5)</td>\n",
       "      <td>4</td>\n",
       "      <td>16</td>\n",
       "      <td>25</td>\n",
       "      <td>p</td>\n",
       "      <td>compact</td>\n",
       "      <td>20.5</td>\n",
       "    </tr>\n",
       "    <tr>\n",
       "      <th>10</th>\n",
       "      <td>audi</td>\n",
       "      <td>a4 quattro</td>\n",
       "      <td>2.0</td>\n",
       "      <td>2008</td>\n",
       "      <td>4</td>\n",
       "      <td>manual(m6)</td>\n",
       "      <td>4</td>\n",
       "      <td>20</td>\n",
       "      <td>28</td>\n",
       "      <td>p</td>\n",
       "      <td>compact</td>\n",
       "      <td>24.0</td>\n",
       "    </tr>\n",
       "  </tbody>\n",
       "</table>\n",
       "</div>"
      ],
      "text/plain": [
       "   manufacturer       model  displ  year  cyl       trans drv  cty  hwy fl  \\\n",
       "1          audi          a4    1.8  1999    4    auto(l5)   f   18   29  p   \n",
       "2          audi          a4    1.8  1999    4  manual(m5)   f   21   29  p   \n",
       "3          audi          a4    2.0  2008    4  manual(m6)   f   20   31  p   \n",
       "4          audi          a4    2.0  2008    4    auto(av)   f   21   30  p   \n",
       "5          audi          a4    2.8  1999    6    auto(l5)   f   16   26  p   \n",
       "6          audi          a4    2.8  1999    6  manual(m5)   f   18   26  p   \n",
       "7          audi          a4    3.1  2008    6    auto(av)   f   18   27  p   \n",
       "8          audi  a4 quattro    1.8  1999    4  manual(m5)   4   18   26  p   \n",
       "9          audi  a4 quattro    1.8  1999    4    auto(l5)   4   16   25  p   \n",
       "10         audi  a4 quattro    2.0  2008    4  manual(m6)   4   20   28  p   \n",
       "\n",
       "      class  avg_mpg  \n",
       "1   compact     23.5  \n",
       "2   compact     25.0  \n",
       "3   compact     25.5  \n",
       "4   compact     25.5  \n",
       "5   compact     21.0  \n",
       "6   compact     22.0  \n",
       "7   compact     22.5  \n",
       "8   compact     22.0  \n",
       "9   compact     20.5  \n",
       "10  compact     24.0  "
      ]
     },
     "execution_count": 18,
     "metadata": {},
     "output_type": "execute_result"
    }
   ],
   "source": [
    "# new column named avg_mileage = mean of both city and hwy mpg\n",
    "mpg['avg_mpg'] = round((mpg.hwy + mpg.cty) / 2,1)\n",
    "mpg.head(10)"
   ]
  },
  {
   "cell_type": "code",
   "execution_count": 19,
   "id": "0aad2021",
   "metadata": {},
   "outputs": [
    {
     "data": {
      "text/html": [
       "<div>\n",
       "<style scoped>\n",
       "    .dataframe tbody tr th:only-of-type {\n",
       "        vertical-align: middle;\n",
       "    }\n",
       "\n",
       "    .dataframe tbody tr th {\n",
       "        vertical-align: top;\n",
       "    }\n",
       "\n",
       "    .dataframe thead th {\n",
       "        text-align: right;\n",
       "    }\n",
       "</style>\n",
       "<table border=\"1\" class=\"dataframe\">\n",
       "  <thead>\n",
       "    <tr style=\"text-align: right;\">\n",
       "      <th></th>\n",
       "      <th>manufacturer</th>\n",
       "      <th>model</th>\n",
       "      <th>displ</th>\n",
       "      <th>year</th>\n",
       "      <th>cyl</th>\n",
       "      <th>trans</th>\n",
       "      <th>drv</th>\n",
       "      <th>cty</th>\n",
       "      <th>hwy</th>\n",
       "      <th>fl</th>\n",
       "      <th>class</th>\n",
       "      <th>avg_mpg</th>\n",
       "    </tr>\n",
       "  </thead>\n",
       "  <tbody>\n",
       "    <tr>\n",
       "      <th>1</th>\n",
       "      <td>audi</td>\n",
       "      <td>a4</td>\n",
       "      <td>1.8</td>\n",
       "      <td>1999</td>\n",
       "      <td>4</td>\n",
       "      <td>auto(l5)</td>\n",
       "      <td>f</td>\n",
       "      <td>18</td>\n",
       "      <td>29</td>\n",
       "      <td>p</td>\n",
       "      <td>compact</td>\n",
       "      <td>23.5</td>\n",
       "    </tr>\n",
       "    <tr>\n",
       "      <th>2</th>\n",
       "      <td>audi</td>\n",
       "      <td>a4</td>\n",
       "      <td>1.8</td>\n",
       "      <td>1999</td>\n",
       "      <td>4</td>\n",
       "      <td>manual(m5)</td>\n",
       "      <td>f</td>\n",
       "      <td>21</td>\n",
       "      <td>29</td>\n",
       "      <td>p</td>\n",
       "      <td>compact</td>\n",
       "      <td>25.0</td>\n",
       "    </tr>\n",
       "    <tr>\n",
       "      <th>5</th>\n",
       "      <td>audi</td>\n",
       "      <td>a4</td>\n",
       "      <td>2.8</td>\n",
       "      <td>1999</td>\n",
       "      <td>6</td>\n",
       "      <td>auto(l5)</td>\n",
       "      <td>f</td>\n",
       "      <td>16</td>\n",
       "      <td>26</td>\n",
       "      <td>p</td>\n",
       "      <td>compact</td>\n",
       "      <td>21.0</td>\n",
       "    </tr>\n",
       "    <tr>\n",
       "      <th>6</th>\n",
       "      <td>audi</td>\n",
       "      <td>a4</td>\n",
       "      <td>2.8</td>\n",
       "      <td>1999</td>\n",
       "      <td>6</td>\n",
       "      <td>manual(m5)</td>\n",
       "      <td>f</td>\n",
       "      <td>18</td>\n",
       "      <td>26</td>\n",
       "      <td>p</td>\n",
       "      <td>compact</td>\n",
       "      <td>22.0</td>\n",
       "    </tr>\n",
       "    <tr>\n",
       "      <th>8</th>\n",
       "      <td>audi</td>\n",
       "      <td>a4 quattro</td>\n",
       "      <td>1.8</td>\n",
       "      <td>1999</td>\n",
       "      <td>4</td>\n",
       "      <td>manual(m5)</td>\n",
       "      <td>4</td>\n",
       "      <td>18</td>\n",
       "      <td>26</td>\n",
       "      <td>p</td>\n",
       "      <td>compact</td>\n",
       "      <td>22.0</td>\n",
       "    </tr>\n",
       "  </tbody>\n",
       "</table>\n",
       "</div>"
      ],
      "text/plain": [
       "  manufacturer       model  displ  year  cyl       trans drv  cty  hwy fl  \\\n",
       "1         audi          a4    1.8  1999    4    auto(l5)   f   18   29  p   \n",
       "2         audi          a4    1.8  1999    4  manual(m5)   f   21   29  p   \n",
       "5         audi          a4    2.8  1999    6    auto(l5)   f   16   26  p   \n",
       "6         audi          a4    2.8  1999    6  manual(m5)   f   18   26  p   \n",
       "8         audi  a4 quattro    1.8  1999    4  manual(m5)   4   18   26  p   \n",
       "\n",
       "     class  avg_mpg  \n",
       "1  compact     23.5  \n",
       "2  compact     25.0  \n",
       "5  compact     21.0  \n",
       "6  compact     22.0  \n",
       "8  compact     22.0  "
      ]
     },
     "execution_count": 19,
     "metadata": {},
     "output_type": "execute_result"
    }
   ],
   "source": [
    "#DF for 1999 cars\n",
    "mpg_1999 = mpg[mpg['year'] == 1999]\n",
    "mpg_1999.head()"
   ]
  },
  {
   "cell_type": "code",
   "execution_count": 20,
   "id": "ec12b0fe",
   "metadata": {},
   "outputs": [
    {
     "data": {
      "text/html": [
       "<div>\n",
       "<style scoped>\n",
       "    .dataframe tbody tr th:only-of-type {\n",
       "        vertical-align: middle;\n",
       "    }\n",
       "\n",
       "    .dataframe tbody tr th {\n",
       "        vertical-align: top;\n",
       "    }\n",
       "\n",
       "    .dataframe thead th {\n",
       "        text-align: right;\n",
       "    }\n",
       "</style>\n",
       "<table border=\"1\" class=\"dataframe\">\n",
       "  <thead>\n",
       "    <tr style=\"text-align: right;\">\n",
       "      <th></th>\n",
       "      <th>manufacturer</th>\n",
       "      <th>model</th>\n",
       "      <th>displ</th>\n",
       "      <th>year</th>\n",
       "      <th>cyl</th>\n",
       "      <th>trans</th>\n",
       "      <th>drv</th>\n",
       "      <th>cty</th>\n",
       "      <th>hwy</th>\n",
       "      <th>fl</th>\n",
       "      <th>class</th>\n",
       "      <th>avg_mpg</th>\n",
       "    </tr>\n",
       "  </thead>\n",
       "  <tbody>\n",
       "    <tr>\n",
       "      <th>3</th>\n",
       "      <td>audi</td>\n",
       "      <td>a4</td>\n",
       "      <td>2.0</td>\n",
       "      <td>2008</td>\n",
       "      <td>4</td>\n",
       "      <td>manual(m6)</td>\n",
       "      <td>f</td>\n",
       "      <td>20</td>\n",
       "      <td>31</td>\n",
       "      <td>p</td>\n",
       "      <td>compact</td>\n",
       "      <td>25.5</td>\n",
       "    </tr>\n",
       "    <tr>\n",
       "      <th>4</th>\n",
       "      <td>audi</td>\n",
       "      <td>a4</td>\n",
       "      <td>2.0</td>\n",
       "      <td>2008</td>\n",
       "      <td>4</td>\n",
       "      <td>auto(av)</td>\n",
       "      <td>f</td>\n",
       "      <td>21</td>\n",
       "      <td>30</td>\n",
       "      <td>p</td>\n",
       "      <td>compact</td>\n",
       "      <td>25.5</td>\n",
       "    </tr>\n",
       "    <tr>\n",
       "      <th>7</th>\n",
       "      <td>audi</td>\n",
       "      <td>a4</td>\n",
       "      <td>3.1</td>\n",
       "      <td>2008</td>\n",
       "      <td>6</td>\n",
       "      <td>auto(av)</td>\n",
       "      <td>f</td>\n",
       "      <td>18</td>\n",
       "      <td>27</td>\n",
       "      <td>p</td>\n",
       "      <td>compact</td>\n",
       "      <td>22.5</td>\n",
       "    </tr>\n",
       "    <tr>\n",
       "      <th>10</th>\n",
       "      <td>audi</td>\n",
       "      <td>a4 quattro</td>\n",
       "      <td>2.0</td>\n",
       "      <td>2008</td>\n",
       "      <td>4</td>\n",
       "      <td>manual(m6)</td>\n",
       "      <td>4</td>\n",
       "      <td>20</td>\n",
       "      <td>28</td>\n",
       "      <td>p</td>\n",
       "      <td>compact</td>\n",
       "      <td>24.0</td>\n",
       "    </tr>\n",
       "    <tr>\n",
       "      <th>11</th>\n",
       "      <td>audi</td>\n",
       "      <td>a4 quattro</td>\n",
       "      <td>2.0</td>\n",
       "      <td>2008</td>\n",
       "      <td>4</td>\n",
       "      <td>auto(s6)</td>\n",
       "      <td>4</td>\n",
       "      <td>19</td>\n",
       "      <td>27</td>\n",
       "      <td>p</td>\n",
       "      <td>compact</td>\n",
       "      <td>23.0</td>\n",
       "    </tr>\n",
       "  </tbody>\n",
       "</table>\n",
       "</div>"
      ],
      "text/plain": [
       "   manufacturer       model  displ  year  cyl       trans drv  cty  hwy fl  \\\n",
       "3          audi          a4    2.0  2008    4  manual(m6)   f   20   31  p   \n",
       "4          audi          a4    2.0  2008    4    auto(av)   f   21   30  p   \n",
       "7          audi          a4    3.1  2008    6    auto(av)   f   18   27  p   \n",
       "10         audi  a4 quattro    2.0  2008    4  manual(m6)   4   20   28  p   \n",
       "11         audi  a4 quattro    2.0  2008    4    auto(s6)   4   19   27  p   \n",
       "\n",
       "      class  avg_mpg  \n",
       "3   compact     25.5  \n",
       "4   compact     25.5  \n",
       "7   compact     22.5  \n",
       "10  compact     24.0  \n",
       "11  compact     23.0  "
      ]
     },
     "execution_count": 20,
     "metadata": {},
     "output_type": "execute_result"
    }
   ],
   "source": [
    "# DF for 2008 cars\n",
    "mpg_2008 = mpg[mpg['year'] == 2008]\n",
    "mpg_2008.head()"
   ]
  },
  {
   "cell_type": "markdown",
   "id": "617fe66f",
   "metadata": {},
   "source": [
    "#### DIFF EXIST in FUEL_EFFIECIECY (avg_mpg)  betweem 1999 cars and 2008 cars"
   ]
  },
  {
   "cell_type": "code",
   "execution_count": 21,
   "id": "76f349b7",
   "metadata": {},
   "outputs": [
    {
     "data": {
      "text/plain": [
       "False"
      ]
     },
     "execution_count": 21,
     "metadata": {},
     "output_type": "execute_result"
    }
   ],
   "source": [
    "# 3 a DIFF in fuel efficiency between 1999 and 2008\n",
    "# First, lets check our variance between the groups\n",
    "\n",
    "_, levene_p = stats.levene(mpg_1999.avg_mpg,mpg_2008.avg_mpg)\n",
    "levene_p < check_α"
   ]
  },
  {
   "cell_type": "code",
   "execution_count": 24,
   "id": "c4557a6c",
   "metadata": {},
   "outputs": [
    {
     "data": {
      "text/plain": [
       "0.855517569468803"
      ]
     },
     "execution_count": 24,
     "metadata": {},
     "output_type": "execute_result"
    }
   ],
   "source": [
    "levene_p"
   ]
  },
  {
   "cell_type": "code",
   "execution_count": 22,
   "id": "89bf0a86",
   "metadata": {
    "scrolled": true
   },
   "outputs": [
    {
     "data": {
      "text/plain": [
       "count    117.000000\n",
       "mean      20.222222\n",
       "std        5.207937\n",
       "min       13.000000\n",
       "25%       15.500000\n",
       "50%       21.000000\n",
       "75%       22.500000\n",
       "max       39.500000\n",
       "Name: avg_mpg, dtype: float64"
      ]
     },
     "execution_count": 22,
     "metadata": {},
     "output_type": "execute_result"
    }
   ],
   "source": [
    "mpg_1999.avg_mpg.describe()"
   ]
  },
  {
   "cell_type": "code",
   "execution_count": 23,
   "id": "9be49189",
   "metadata": {},
   "outputs": [
    {
     "data": {
      "text/plain": [
       "count    117.000000\n",
       "mean      20.076923\n",
       "std        4.908918\n",
       "min       10.500000\n",
       "25%       16.000000\n",
       "50%       20.500000\n",
       "75%       23.500000\n",
       "max       32.500000\n",
       "Name: avg_mpg, dtype: float64"
      ]
     },
     "execution_count": 23,
     "metadata": {},
     "output_type": "execute_result"
    }
   ],
   "source": [
    "mpg_2008.avg_mpg.describe()"
   ]
  },
  {
   "cell_type": "code",
   "execution_count": 25,
   "id": "406689a8",
   "metadata": {},
   "outputs": [
    {
     "data": {
      "text/plain": [
       "0.855517569468803"
      ]
     },
     "execution_count": 25,
     "metadata": {},
     "output_type": "execute_result"
    }
   ],
   "source": [
    "levene_p # Variance is similar and checks out"
   ]
  },
  {
   "cell_type": "code",
   "execution_count": 31,
   "id": "0817e656",
   "metadata": {},
   "outputs": [],
   "source": [
    "# ok ACTUAL TEST NOW!!!!\n",
    "# Let us use multi-sample (ttest_ind), 2 -tailed(does diff exist?) ttest \n",
    "\n",
    "t_stat, p_val = stats.ttest_ind(mpg_1999.avg_mpg,\n",
    "                                mpg_2008.avg_mpg,\n",
    "                               equal_var=True)"
   ]
  },
  {
   "cell_type": "code",
   "execution_count": 32,
   "id": "65ae28eb",
   "metadata": {},
   "outputs": [
    {
     "data": {
      "text/plain": [
       "(0.21960177245940962, 0.8263744040323578)"
      ]
     },
     "execution_count": 32,
     "metadata": {},
     "output_type": "execute_result"
    }
   ],
   "source": [
    "t_stat, p_val"
   ]
  },
  {
   "cell_type": "code",
   "execution_count": 28,
   "id": "29b7e4dc",
   "metadata": {},
   "outputs": [
    {
     "data": {
      "text/plain": [
       "False"
      ]
     },
     "execution_count": 28,
     "metadata": {},
     "output_type": "execute_result"
    }
   ],
   "source": [
    "p_val < check_α # this makes sense, givent hat the two means are almost on top of one another with similar \n",
    "# standard dist FAIL TO REJECT the NULL...both measurements come from SaME Distribution"
   ]
  },
  {
   "cell_type": "markdown",
   "id": "a23cb8b8",
   "metadata": {},
   "source": [
    "#### COMPACT cars MORE Fuel-Efficcient than ALL cars?\n",
    "This will be 1-sample (one class vs ALL), 1-tailed(MORE Fuel_Efficient) TTest"
   ]
  },
  {
   "cell_type": "code",
   "execution_count": 33,
   "id": "c9c001d6",
   "metadata": {},
   "outputs": [
    {
     "data": {
      "text/html": [
       "<div>\n",
       "<style scoped>\n",
       "    .dataframe tbody tr th:only-of-type {\n",
       "        vertical-align: middle;\n",
       "    }\n",
       "\n",
       "    .dataframe tbody tr th {\n",
       "        vertical-align: top;\n",
       "    }\n",
       "\n",
       "    .dataframe thead th {\n",
       "        text-align: right;\n",
       "    }\n",
       "</style>\n",
       "<table border=\"1\" class=\"dataframe\">\n",
       "  <thead>\n",
       "    <tr style=\"text-align: right;\">\n",
       "      <th></th>\n",
       "      <th>manufacturer</th>\n",
       "      <th>model</th>\n",
       "      <th>displ</th>\n",
       "      <th>year</th>\n",
       "      <th>cyl</th>\n",
       "      <th>trans</th>\n",
       "      <th>drv</th>\n",
       "      <th>cty</th>\n",
       "      <th>hwy</th>\n",
       "      <th>fl</th>\n",
       "      <th>class</th>\n",
       "      <th>avg_mpg</th>\n",
       "    </tr>\n",
       "  </thead>\n",
       "  <tbody>\n",
       "    <tr>\n",
       "      <th>1</th>\n",
       "      <td>audi</td>\n",
       "      <td>a4</td>\n",
       "      <td>1.8</td>\n",
       "      <td>1999</td>\n",
       "      <td>4</td>\n",
       "      <td>auto(l5)</td>\n",
       "      <td>f</td>\n",
       "      <td>18</td>\n",
       "      <td>29</td>\n",
       "      <td>p</td>\n",
       "      <td>compact</td>\n",
       "      <td>23.5</td>\n",
       "    </tr>\n",
       "    <tr>\n",
       "      <th>2</th>\n",
       "      <td>audi</td>\n",
       "      <td>a4</td>\n",
       "      <td>1.8</td>\n",
       "      <td>1999</td>\n",
       "      <td>4</td>\n",
       "      <td>manual(m5)</td>\n",
       "      <td>f</td>\n",
       "      <td>21</td>\n",
       "      <td>29</td>\n",
       "      <td>p</td>\n",
       "      <td>compact</td>\n",
       "      <td>25.0</td>\n",
       "    </tr>\n",
       "    <tr>\n",
       "      <th>3</th>\n",
       "      <td>audi</td>\n",
       "      <td>a4</td>\n",
       "      <td>2.0</td>\n",
       "      <td>2008</td>\n",
       "      <td>4</td>\n",
       "      <td>manual(m6)</td>\n",
       "      <td>f</td>\n",
       "      <td>20</td>\n",
       "      <td>31</td>\n",
       "      <td>p</td>\n",
       "      <td>compact</td>\n",
       "      <td>25.5</td>\n",
       "    </tr>\n",
       "    <tr>\n",
       "      <th>4</th>\n",
       "      <td>audi</td>\n",
       "      <td>a4</td>\n",
       "      <td>2.0</td>\n",
       "      <td>2008</td>\n",
       "      <td>4</td>\n",
       "      <td>auto(av)</td>\n",
       "      <td>f</td>\n",
       "      <td>21</td>\n",
       "      <td>30</td>\n",
       "      <td>p</td>\n",
       "      <td>compact</td>\n",
       "      <td>25.5</td>\n",
       "    </tr>\n",
       "    <tr>\n",
       "      <th>5</th>\n",
       "      <td>audi</td>\n",
       "      <td>a4</td>\n",
       "      <td>2.8</td>\n",
       "      <td>1999</td>\n",
       "      <td>6</td>\n",
       "      <td>auto(l5)</td>\n",
       "      <td>f</td>\n",
       "      <td>16</td>\n",
       "      <td>26</td>\n",
       "      <td>p</td>\n",
       "      <td>compact</td>\n",
       "      <td>21.0</td>\n",
       "    </tr>\n",
       "  </tbody>\n",
       "</table>\n",
       "</div>"
      ],
      "text/plain": [
       "  manufacturer model  displ  year  cyl       trans drv  cty  hwy fl    class  \\\n",
       "1         audi    a4    1.8  1999    4    auto(l5)   f   18   29  p  compact   \n",
       "2         audi    a4    1.8  1999    4  manual(m5)   f   21   29  p  compact   \n",
       "3         audi    a4    2.0  2008    4  manual(m6)   f   20   31  p  compact   \n",
       "4         audi    a4    2.0  2008    4    auto(av)   f   21   30  p  compact   \n",
       "5         audi    a4    2.8  1999    6    auto(l5)   f   16   26  p  compact   \n",
       "\n",
       "   avg_mpg  \n",
       "1     23.5  \n",
       "2     25.0  \n",
       "3     25.5  \n",
       "4     25.5  \n",
       "5     21.0  "
      ]
     },
     "execution_count": 33,
     "metadata": {},
     "output_type": "execute_result"
    }
   ],
   "source": [
    "# 3 b COMPACT cars MORE Fuel-Efficcient than ALL cars?\n",
    "# Ho: COMPACT cars are equally or less fuel-efficient than ALL cars in aggregate\n",
    "# Ha: COMPACT cars MORE fuel-eficient than ALL cars in aggregate\n",
    "#DF for COMPACT cars\n",
    "mpg_compact = mpg[mpg['class'] == 'compact']\n",
    "mpg_compact.head()\n"
   ]
  },
  {
   "cell_type": "code",
   "execution_count": 34,
   "id": "3ad7e64f",
   "metadata": {},
   "outputs": [
    {
     "name": "stdout",
     "output_type": "stream",
     "text": [
      "<class 'pandas.core.frame.DataFrame'>\n",
      "Int64Index: 47 entries, 1 to 221\n",
      "Data columns (total 12 columns):\n",
      " #   Column        Non-Null Count  Dtype  \n",
      "---  ------        --------------  -----  \n",
      " 0   manufacturer  47 non-null     object \n",
      " 1   model         47 non-null     object \n",
      " 2   displ         47 non-null     float64\n",
      " 3   year          47 non-null     int64  \n",
      " 4   cyl           47 non-null     int64  \n",
      " 5   trans         47 non-null     object \n",
      " 6   drv           47 non-null     object \n",
      " 7   cty           47 non-null     int64  \n",
      " 8   hwy           47 non-null     int64  \n",
      " 9   fl            47 non-null     object \n",
      " 10  class         47 non-null     object \n",
      " 11  avg_mpg       47 non-null     float64\n",
      "dtypes: float64(2), int64(4), object(6)\n",
      "memory usage: 4.8+ KB\n"
     ]
    }
   ],
   "source": [
    "mpg_compact.info() "
   ]
  },
  {
   "cell_type": "code",
   "execution_count": 35,
   "id": "7b51d061",
   "metadata": {},
   "outputs": [
    {
     "data": {
      "text/plain": [
       "True"
      ]
     },
     "execution_count": 35,
     "metadata": {},
     "output_type": "execute_result"
    }
   ],
   "source": [
    "# lets check our variance between the group of interest and ALL Cars\n",
    "_, levene_p = stats.levene(mpg_compact.avg_mpg,mpg.avg_mpg)\n",
    "levene_p < check_α"
   ]
  },
  {
   "cell_type": "code",
   "execution_count": 36,
   "id": "5ca972c9",
   "metadata": {},
   "outputs": [
    {
     "data": {
      "text/plain": [
       "0.0006283349942996054"
      ]
     },
     "execution_count": 36,
     "metadata": {},
     "output_type": "execute_result"
    }
   ],
   "source": [
    "levene_p"
   ]
  },
  {
   "cell_type": "code",
   "execution_count": 37,
   "id": "3c934ff2",
   "metadata": {},
   "outputs": [
    {
     "data": {
      "text/plain": [
       "count    47.000000\n",
       "mean     24.212766\n",
       "std       3.527446\n",
       "min      19.500000\n",
       "25%      22.000000\n",
       "50%      23.500000\n",
       "75%      25.250000\n",
       "max      38.500000\n",
       "Name: avg_mpg, dtype: float64"
      ]
     },
     "execution_count": 37,
     "metadata": {},
     "output_type": "execute_result"
    }
   ],
   "source": [
    "mpg_compact.avg_mpg.describe()"
   ]
  },
  {
   "cell_type": "code",
   "execution_count": 38,
   "id": "13ff1f03",
   "metadata": {},
   "outputs": [
    {
     "data": {
      "text/plain": [
       "count    234.000000\n",
       "mean      20.149573\n",
       "std        5.050290\n",
       "min       10.500000\n",
       "25%       15.500000\n",
       "50%       20.500000\n",
       "75%       23.500000\n",
       "max       39.500000\n",
       "Name: avg_mpg, dtype: float64"
      ]
     },
     "execution_count": 38,
     "metadata": {},
     "output_type": "execute_result"
    }
   ],
   "source": [
    "mpg.avg_mpg.describe()"
   ]
  },
  {
   "cell_type": "code",
   "execution_count": 39,
   "id": "e8c098a2",
   "metadata": {},
   "outputs": [
    {
     "data": {
      "text/plain": [
       "(7.896888573132533, 2.0992818971585743e-10)"
      ]
     },
     "execution_count": 39,
     "metadata": {},
     "output_type": "execute_result"
    }
   ],
   "source": [
    "# ok ACTUAL TEST NOW!!!!\n",
    "# Let us use 1-sample (ttest_1samp), 1-tailed(MORE fuel-efficient) ttest \n",
    "\n",
    "t_stat, p_val = stats.ttest_1samp(mpg_compact.avg_mpg,mpg.avg_mpg.mean())\n",
    "t_stat,p_val/2"
   ]
  },
  {
   "cell_type": "code",
   "execution_count": 40,
   "id": "8c3c0224",
   "metadata": {},
   "outputs": [
    {
     "data": {
      "text/plain": [
       "20.14957264957265"
      ]
     },
     "execution_count": 40,
     "metadata": {},
     "output_type": "execute_result"
    }
   ],
   "source": [
    "mpg.avg_mpg.mean()"
   ]
  },
  {
   "cell_type": "code",
   "execution_count": 42,
   "id": "0e5419a7",
   "metadata": {},
   "outputs": [
    {
     "data": {
      "text/plain": [
       "4.1985637943171486e-10"
      ]
     },
     "execution_count": 42,
     "metadata": {},
     "output_type": "execute_result"
    }
   ],
   "source": [
    "p_val\n",
    "#t_stat"
   ]
  },
  {
   "cell_type": "code",
   "execution_count": 43,
   "id": "a5bc27bd",
   "metadata": {},
   "outputs": [
    {
     "data": {
      "text/plain": [
       "2.0992818971585743e-10"
      ]
     },
     "execution_count": 43,
     "metadata": {},
     "output_type": "execute_result"
    }
   ],
   "source": [
    "(p_val/2)"
   ]
  },
  {
   "cell_type": "code",
   "execution_count": 46,
   "id": "90098290",
   "metadata": {},
   "outputs": [
    {
     "data": {
      "text/plain": [
       "True"
      ]
     },
     "execution_count": 46,
     "metadata": {},
     "output_type": "execute_result"
    }
   ],
   "source": [
    "(p_val/2) < check_α # with a p_value of close to 0, reject the NULL and assert there is evidence\n",
    "#to suggest that COMPACT cars are MORE fuel-efficient than ALL cars in aggregate"
   ]
  },
  {
   "cell_type": "code",
   "execution_count": 47,
   "id": "4fb1a0a1",
   "metadata": {},
   "outputs": [
    {
     "data": {
      "text/plain": [
       "24.21276595744681"
      ]
     },
     "execution_count": 47,
     "metadata": {},
     "output_type": "execute_result"
    }
   ],
   "source": [
    "mpg.avg_mpg.mean()\n",
    "mpg_compact.avg_mpg.mean()"
   ]
  },
  {
   "cell_type": "code",
   "execution_count": null,
   "id": "d14fd02c",
   "metadata": {},
   "outputs": [],
   "source": []
  },
  {
   "cell_type": "markdown",
   "id": "31086cb3",
   "metadata": {},
   "source": [
    "#### MANUAL cars BETTER fuel-efficiency than AUTO cars\n",
    "This will be 2-sample (one class vs another class), 1-tailed(MORE Fuel_Efficient) TTest"
   ]
  },
  {
   "cell_type": "code",
   "execution_count": 48,
   "id": "c5ff3746",
   "metadata": {},
   "outputs": [],
   "source": [
    "# 3 c MANUAL cars MORE Fuel-Efficcient than AUTO cars?\n",
    "# Ho: MANUAL cars are equally or less fuel-efficient than AUTO cars\n",
    "# Ha: MANUAL cars MORE fuel-eficient than AUTO cars \n",
    "#DFs for MANUAL and AUTO transmission cars\n",
    "mpg_manual = mpg[mpg.trans.str.startswith('manu')]\n",
    "mpg_auto = mpg[mpg.trans.str.startswith('auto')]\n",
    "\n"
   ]
  },
  {
   "cell_type": "code",
   "execution_count": 49,
   "id": "4c03c280",
   "metadata": {},
   "outputs": [
    {
     "data": {
      "text/html": [
       "<div>\n",
       "<style scoped>\n",
       "    .dataframe tbody tr th:only-of-type {\n",
       "        vertical-align: middle;\n",
       "    }\n",
       "\n",
       "    .dataframe tbody tr th {\n",
       "        vertical-align: top;\n",
       "    }\n",
       "\n",
       "    .dataframe thead th {\n",
       "        text-align: right;\n",
       "    }\n",
       "</style>\n",
       "<table border=\"1\" class=\"dataframe\">\n",
       "  <thead>\n",
       "    <tr style=\"text-align: right;\">\n",
       "      <th></th>\n",
       "      <th>manufacturer</th>\n",
       "      <th>model</th>\n",
       "      <th>displ</th>\n",
       "      <th>year</th>\n",
       "      <th>cyl</th>\n",
       "      <th>trans</th>\n",
       "      <th>drv</th>\n",
       "      <th>cty</th>\n",
       "      <th>hwy</th>\n",
       "      <th>fl</th>\n",
       "      <th>class</th>\n",
       "      <th>avg_mpg</th>\n",
       "    </tr>\n",
       "  </thead>\n",
       "  <tbody>\n",
       "    <tr>\n",
       "      <th>2</th>\n",
       "      <td>audi</td>\n",
       "      <td>a4</td>\n",
       "      <td>1.8</td>\n",
       "      <td>1999</td>\n",
       "      <td>4</td>\n",
       "      <td>manual(m5)</td>\n",
       "      <td>f</td>\n",
       "      <td>21</td>\n",
       "      <td>29</td>\n",
       "      <td>p</td>\n",
       "      <td>compact</td>\n",
       "      <td>25.0</td>\n",
       "    </tr>\n",
       "    <tr>\n",
       "      <th>3</th>\n",
       "      <td>audi</td>\n",
       "      <td>a4</td>\n",
       "      <td>2.0</td>\n",
       "      <td>2008</td>\n",
       "      <td>4</td>\n",
       "      <td>manual(m6)</td>\n",
       "      <td>f</td>\n",
       "      <td>20</td>\n",
       "      <td>31</td>\n",
       "      <td>p</td>\n",
       "      <td>compact</td>\n",
       "      <td>25.5</td>\n",
       "    </tr>\n",
       "    <tr>\n",
       "      <th>6</th>\n",
       "      <td>audi</td>\n",
       "      <td>a4</td>\n",
       "      <td>2.8</td>\n",
       "      <td>1999</td>\n",
       "      <td>6</td>\n",
       "      <td>manual(m5)</td>\n",
       "      <td>f</td>\n",
       "      <td>18</td>\n",
       "      <td>26</td>\n",
       "      <td>p</td>\n",
       "      <td>compact</td>\n",
       "      <td>22.0</td>\n",
       "    </tr>\n",
       "    <tr>\n",
       "      <th>8</th>\n",
       "      <td>audi</td>\n",
       "      <td>a4 quattro</td>\n",
       "      <td>1.8</td>\n",
       "      <td>1999</td>\n",
       "      <td>4</td>\n",
       "      <td>manual(m5)</td>\n",
       "      <td>4</td>\n",
       "      <td>18</td>\n",
       "      <td>26</td>\n",
       "      <td>p</td>\n",
       "      <td>compact</td>\n",
       "      <td>22.0</td>\n",
       "    </tr>\n",
       "    <tr>\n",
       "      <th>10</th>\n",
       "      <td>audi</td>\n",
       "      <td>a4 quattro</td>\n",
       "      <td>2.0</td>\n",
       "      <td>2008</td>\n",
       "      <td>4</td>\n",
       "      <td>manual(m6)</td>\n",
       "      <td>4</td>\n",
       "      <td>20</td>\n",
       "      <td>28</td>\n",
       "      <td>p</td>\n",
       "      <td>compact</td>\n",
       "      <td>24.0</td>\n",
       "    </tr>\n",
       "  </tbody>\n",
       "</table>\n",
       "</div>"
      ],
      "text/plain": [
       "   manufacturer       model  displ  year  cyl       trans drv  cty  hwy fl  \\\n",
       "2          audi          a4    1.8  1999    4  manual(m5)   f   21   29  p   \n",
       "3          audi          a4    2.0  2008    4  manual(m6)   f   20   31  p   \n",
       "6          audi          a4    2.8  1999    6  manual(m5)   f   18   26  p   \n",
       "8          audi  a4 quattro    1.8  1999    4  manual(m5)   4   18   26  p   \n",
       "10         audi  a4 quattro    2.0  2008    4  manual(m6)   4   20   28  p   \n",
       "\n",
       "      class  avg_mpg  \n",
       "2   compact     25.0  \n",
       "3   compact     25.5  \n",
       "6   compact     22.0  \n",
       "8   compact     22.0  \n",
       "10  compact     24.0  "
      ]
     },
     "execution_count": 49,
     "metadata": {},
     "output_type": "execute_result"
    }
   ],
   "source": [
    "mpg_manual.head()"
   ]
  },
  {
   "cell_type": "code",
   "execution_count": 50,
   "id": "0b4881ad",
   "metadata": {},
   "outputs": [
    {
     "data": {
      "text/html": [
       "<div>\n",
       "<style scoped>\n",
       "    .dataframe tbody tr th:only-of-type {\n",
       "        vertical-align: middle;\n",
       "    }\n",
       "\n",
       "    .dataframe tbody tr th {\n",
       "        vertical-align: top;\n",
       "    }\n",
       "\n",
       "    .dataframe thead th {\n",
       "        text-align: right;\n",
       "    }\n",
       "</style>\n",
       "<table border=\"1\" class=\"dataframe\">\n",
       "  <thead>\n",
       "    <tr style=\"text-align: right;\">\n",
       "      <th></th>\n",
       "      <th>manufacturer</th>\n",
       "      <th>model</th>\n",
       "      <th>displ</th>\n",
       "      <th>year</th>\n",
       "      <th>cyl</th>\n",
       "      <th>trans</th>\n",
       "      <th>drv</th>\n",
       "      <th>cty</th>\n",
       "      <th>hwy</th>\n",
       "      <th>fl</th>\n",
       "      <th>class</th>\n",
       "      <th>avg_mpg</th>\n",
       "    </tr>\n",
       "  </thead>\n",
       "  <tbody>\n",
       "    <tr>\n",
       "      <th>1</th>\n",
       "      <td>audi</td>\n",
       "      <td>a4</td>\n",
       "      <td>1.8</td>\n",
       "      <td>1999</td>\n",
       "      <td>4</td>\n",
       "      <td>auto(l5)</td>\n",
       "      <td>f</td>\n",
       "      <td>18</td>\n",
       "      <td>29</td>\n",
       "      <td>p</td>\n",
       "      <td>compact</td>\n",
       "      <td>23.5</td>\n",
       "    </tr>\n",
       "    <tr>\n",
       "      <th>4</th>\n",
       "      <td>audi</td>\n",
       "      <td>a4</td>\n",
       "      <td>2.0</td>\n",
       "      <td>2008</td>\n",
       "      <td>4</td>\n",
       "      <td>auto(av)</td>\n",
       "      <td>f</td>\n",
       "      <td>21</td>\n",
       "      <td>30</td>\n",
       "      <td>p</td>\n",
       "      <td>compact</td>\n",
       "      <td>25.5</td>\n",
       "    </tr>\n",
       "    <tr>\n",
       "      <th>5</th>\n",
       "      <td>audi</td>\n",
       "      <td>a4</td>\n",
       "      <td>2.8</td>\n",
       "      <td>1999</td>\n",
       "      <td>6</td>\n",
       "      <td>auto(l5)</td>\n",
       "      <td>f</td>\n",
       "      <td>16</td>\n",
       "      <td>26</td>\n",
       "      <td>p</td>\n",
       "      <td>compact</td>\n",
       "      <td>21.0</td>\n",
       "    </tr>\n",
       "    <tr>\n",
       "      <th>7</th>\n",
       "      <td>audi</td>\n",
       "      <td>a4</td>\n",
       "      <td>3.1</td>\n",
       "      <td>2008</td>\n",
       "      <td>6</td>\n",
       "      <td>auto(av)</td>\n",
       "      <td>f</td>\n",
       "      <td>18</td>\n",
       "      <td>27</td>\n",
       "      <td>p</td>\n",
       "      <td>compact</td>\n",
       "      <td>22.5</td>\n",
       "    </tr>\n",
       "    <tr>\n",
       "      <th>9</th>\n",
       "      <td>audi</td>\n",
       "      <td>a4 quattro</td>\n",
       "      <td>1.8</td>\n",
       "      <td>1999</td>\n",
       "      <td>4</td>\n",
       "      <td>auto(l5)</td>\n",
       "      <td>4</td>\n",
       "      <td>16</td>\n",
       "      <td>25</td>\n",
       "      <td>p</td>\n",
       "      <td>compact</td>\n",
       "      <td>20.5</td>\n",
       "    </tr>\n",
       "  </tbody>\n",
       "</table>\n",
       "</div>"
      ],
      "text/plain": [
       "  manufacturer       model  displ  year  cyl     trans drv  cty  hwy fl  \\\n",
       "1         audi          a4    1.8  1999    4  auto(l5)   f   18   29  p   \n",
       "4         audi          a4    2.0  2008    4  auto(av)   f   21   30  p   \n",
       "5         audi          a4    2.8  1999    6  auto(l5)   f   16   26  p   \n",
       "7         audi          a4    3.1  2008    6  auto(av)   f   18   27  p   \n",
       "9         audi  a4 quattro    1.8  1999    4  auto(l5)   4   16   25  p   \n",
       "\n",
       "     class  avg_mpg  \n",
       "1  compact     23.5  \n",
       "4  compact     25.5  \n",
       "5  compact     21.0  \n",
       "7  compact     22.5  \n",
       "9  compact     20.5  "
      ]
     },
     "execution_count": 50,
     "metadata": {},
     "output_type": "execute_result"
    }
   ],
   "source": [
    "mpg_auto.head()"
   ]
  },
  {
   "cell_type": "code",
   "execution_count": 51,
   "id": "79c89776",
   "metadata": {},
   "outputs": [
    {
     "data": {
      "text/plain": [
       "False"
      ]
     },
     "execution_count": 51,
     "metadata": {},
     "output_type": "execute_result"
    }
   ],
   "source": [
    "# lets check our variance between the group of interest and ALL Cars\n",
    "_, levene_p = stats.levene(mpg_manual.avg_mpg,mpg_auto.avg_mpg)\n",
    "levene_p < check_α"
   ]
  },
  {
   "cell_type": "code",
   "execution_count": 52,
   "id": "3265bb61",
   "metadata": {},
   "outputs": [
    {
     "data": {
      "text/plain": [
       "0.6545276355131857"
      ]
     },
     "execution_count": 52,
     "metadata": {},
     "output_type": "execute_result"
    }
   ],
   "source": [
    "levene_p # variance is similar within each group"
   ]
  },
  {
   "cell_type": "code",
   "execution_count": 53,
   "id": "050682ae",
   "metadata": {},
   "outputs": [
    {
     "data": {
      "text/plain": [
       "count    77.000000\n",
       "mean     22.227273\n",
       "std       5.160927\n",
       "min      10.500000\n",
       "25%      19.500000\n",
       "50%      22.000000\n",
       "75%      25.000000\n",
       "max      39.500000\n",
       "Name: avg_mpg, dtype: float64"
      ]
     },
     "execution_count": 53,
     "metadata": {},
     "output_type": "execute_result"
    }
   ],
   "source": [
    "mpg_manual.avg_mpg.describe()"
   ]
  },
  {
   "cell_type": "code",
   "execution_count": 54,
   "id": "e8f1169f",
   "metadata": {},
   "outputs": [
    {
     "data": {
      "text/plain": [
       "count    157.000000\n",
       "mean      19.130573\n",
       "std        4.684312\n",
       "min       10.500000\n",
       "25%       15.000000\n",
       "50%       19.000000\n",
       "75%       22.500000\n",
       "max       35.000000\n",
       "Name: avg_mpg, dtype: float64"
      ]
     },
     "execution_count": 54,
     "metadata": {},
     "output_type": "execute_result"
    }
   ],
   "source": [
    "mpg_auto.avg_mpg.describe()"
   ]
  },
  {
   "cell_type": "code",
   "execution_count": 55,
   "id": "181104a0",
   "metadata": {},
   "outputs": [
    {
     "data": {
      "text/plain": [
       "(-4.593437735750014, 7.154374401145685e-06)"
      ]
     },
     "execution_count": 55,
     "metadata": {},
     "output_type": "execute_result"
    }
   ],
   "source": [
    "# ok ACTUAL TEST NOW!!!!\n",
    "# Let us use multi-sample (ttest_ind), 1-tailed(MORE fuel-efficient) ttest \n",
    "\n",
    "t_stat, p_val = stats.ttest_ind(mpg_auto.avg_mpg,\n",
    "                                mpg_manual.avg_mpg,\n",
    "                               equal_var=True)\n",
    "t_stat,p_val"
   ]
  },
  {
   "cell_type": "code",
   "execution_count": 56,
   "id": "53c5dd0d",
   "metadata": {},
   "outputs": [
    {
     "data": {
      "text/plain": [
       "True"
      ]
     },
     "execution_count": 56,
     "metadata": {},
     "output_type": "execute_result"
    }
   ],
   "source": [
    "(p_val) < check_α # REJECT the NULL and assert that a statistically significant difference exists.  Therefore, we\n",
    "# have evidence to suggest that MANUAL cars get better fuel-efficiency than AUTO cars, p_value close to 0"
   ]
  },
  {
   "cell_type": "markdown",
   "id": "5de5752d",
   "metadata": {},
   "source": [
    "#### CORRELATION EXERCISES"
   ]
  },
  {
   "cell_type": "code",
   "execution_count": null,
   "id": "898a3a34",
   "metadata": {},
   "outputs": [],
   "source": [
    "# 1a Length of arm and length of foot...Pearsons R to tet relationship between 2 continuous variables\n",
    "# 1b Quit Rate (continuous) and gender (discrete)...T test\n",
    "# 1c Time of lecture and student grade are both continuous...Pearsons R "
   ]
  },
  {
   "cell_type": "code",
   "execution_count": 57,
   "id": "daa92579",
   "metadata": {},
   "outputs": [],
   "source": [
    "import csv"
   ]
  },
  {
   "cell_type": "code",
   "execution_count": 58,
   "id": "bb7af197",
   "metadata": {},
   "outputs": [],
   "source": [
    "telco = pd.read_csv(\"telco_data.csv\",delimiter='\\t',encoding='UTF 16')"
   ]
  },
  {
   "cell_type": "code",
   "execution_count": 59,
   "id": "bcf00f7d",
   "metadata": {},
   "outputs": [
    {
     "data": {
      "text/html": [
       "<div>\n",
       "<style scoped>\n",
       "    .dataframe tbody tr th:only-of-type {\n",
       "        vertical-align: middle;\n",
       "    }\n",
       "\n",
       "    .dataframe tbody tr th {\n",
       "        vertical-align: top;\n",
       "    }\n",
       "\n",
       "    .dataframe thead th {\n",
       "        text-align: right;\n",
       "    }\n",
       "</style>\n",
       "<table border=\"1\" class=\"dataframe\">\n",
       "  <thead>\n",
       "    <tr style=\"text-align: right;\">\n",
       "      <th></th>\n",
       "      <th>Add-on Count</th>\n",
       "      <th>Churn</th>\n",
       "      <th>Contract</th>\n",
       "      <th>Customer ID</th>\n",
       "      <th>Dependents</th>\n",
       "      <th>Device Protection</th>\n",
       "      <th>Gender</th>\n",
       "      <th>Internet Service</th>\n",
       "      <th>Multiple Lines</th>\n",
       "      <th>Online Backup</th>\n",
       "      <th>...</th>\n",
       "      <th>Tech Support</th>\n",
       "      <th>with Online Backup</th>\n",
       "      <th>with Online Security</th>\n",
       "      <th>with Streaming Movies</th>\n",
       "      <th>with Streaming TV</th>\n",
       "      <th>with Tech Support</th>\n",
       "      <th>Estimated Tenure(months)</th>\n",
       "      <th>Monthly Charges</th>\n",
       "      <th>Tenure</th>\n",
       "      <th>Total Charges</th>\n",
       "    </tr>\n",
       "  </thead>\n",
       "  <tbody>\n",
       "    <tr>\n",
       "      <th>0</th>\n",
       "      <td>0</td>\n",
       "      <td>No</td>\n",
       "      <td>Month-to-month</td>\n",
       "      <td>7590-VHVEG</td>\n",
       "      <td>None</td>\n",
       "      <td>Device Wiithout Protection</td>\n",
       "      <td>Female</td>\n",
       "      <td>DSL</td>\n",
       "      <td>No phone service</td>\n",
       "      <td>Online Backup</td>\n",
       "      <td>...</td>\n",
       "      <td>Support Not Contacted</td>\n",
       "      <td>0</td>\n",
       "      <td>0</td>\n",
       "      <td>0</td>\n",
       "      <td>0</td>\n",
       "      <td>0</td>\n",
       "      <td>1.0</td>\n",
       "      <td>29.85</td>\n",
       "      <td>1</td>\n",
       "      <td>29.85</td>\n",
       "    </tr>\n",
       "    <tr>\n",
       "      <th>1</th>\n",
       "      <td>0</td>\n",
       "      <td>No</td>\n",
       "      <td>One year</td>\n",
       "      <td>5575-GNVDE</td>\n",
       "      <td>None</td>\n",
       "      <td>Protected Device</td>\n",
       "      <td>Male</td>\n",
       "      <td>DSL</td>\n",
       "      <td>Single Line</td>\n",
       "      <td>Internet With No Backup</td>\n",
       "      <td>...</td>\n",
       "      <td>Support Not Contacted</td>\n",
       "      <td>0</td>\n",
       "      <td>0</td>\n",
       "      <td>0</td>\n",
       "      <td>0</td>\n",
       "      <td>0</td>\n",
       "      <td>33.0</td>\n",
       "      <td>56.95</td>\n",
       "      <td>34</td>\n",
       "      <td>1889.50</td>\n",
       "    </tr>\n",
       "  </tbody>\n",
       "</table>\n",
       "<p>2 rows × 29 columns</p>\n",
       "</div>"
      ],
      "text/plain": [
       "   Add-on Count Churn        Contract Customer ID Dependents  \\\n",
       "0             0    No  Month-to-month  7590-VHVEG       None   \n",
       "1             0    No        One year  5575-GNVDE       None   \n",
       "\n",
       "            Device Protection  Gender Internet Service    Multiple Lines  \\\n",
       "0  Device Wiithout Protection  Female              DSL  No phone service   \n",
       "1            Protected Device    Male              DSL       Single Line   \n",
       "\n",
       "             Online Backup  ...           Tech Support with Online Backup  \\\n",
       "0            Online Backup  ...  Support Not Contacted                  0   \n",
       "1  Internet With No Backup  ...  Support Not Contacted                  0   \n",
       "\n",
       "  with Online Security with Streaming Movies with Streaming TV  \\\n",
       "0                    0                     0                 0   \n",
       "1                    0                     0                 0   \n",
       "\n",
       "  with Tech Support Estimated Tenure(months) Monthly Charges Tenure  \\\n",
       "0                 0                      1.0           29.85      1   \n",
       "1                 0                     33.0           56.95     34   \n",
       "\n",
       "  Total Charges  \n",
       "0         29.85  \n",
       "1       1889.50  \n",
       "\n",
       "[2 rows x 29 columns]"
      ]
     },
     "execution_count": 59,
     "metadata": {},
     "output_type": "execute_result"
    }
   ],
   "source": [
    "telco.head(2)"
   ]
  },
  {
   "cell_type": "code",
   "execution_count": 60,
   "id": "b881677d",
   "metadata": {},
   "outputs": [],
   "source": [
    "telco.drop(columns= ['Add-on Count',\n",
    "                    'Contract',\n",
    "                    'Customer ID',\n",
    "                    'Dependents',\n",
    "                    'Device Protection',\n",
    "                    'Gender',\n",
    "                    'Multiple Lines',\n",
    "                    'Online Backup',\n",
    "                    'Tech Support',\n",
    "                    'with Online Backup',\n",
    "                    'with Online Security',\n",
    "                     'with Streaming Movies',\n",
    "                     'with Streaming TV',\n",
    "                     'with Tech Support',\n",
    "                     'Estimated Tenure(months)'\n",
    "                    ],inplace=True)"
   ]
  },
  {
   "cell_type": "code",
   "execution_count": 61,
   "id": "dd5cc377",
   "metadata": {},
   "outputs": [
    {
     "data": {
      "text/html": [
       "<div>\n",
       "<style scoped>\n",
       "    .dataframe tbody tr th:only-of-type {\n",
       "        vertical-align: middle;\n",
       "    }\n",
       "\n",
       "    .dataframe tbody tr th {\n",
       "        vertical-align: top;\n",
       "    }\n",
       "\n",
       "    .dataframe thead th {\n",
       "        text-align: right;\n",
       "    }\n",
       "</style>\n",
       "<table border=\"1\" class=\"dataframe\">\n",
       "  <thead>\n",
       "    <tr style=\"text-align: right;\">\n",
       "      <th></th>\n",
       "      <th>Churn</th>\n",
       "      <th>Internet Service</th>\n",
       "      <th>Online Security</th>\n",
       "      <th>Paperless Billing</th>\n",
       "      <th>Partner</th>\n",
       "      <th>Payment Method</th>\n",
       "      <th>Payment Type</th>\n",
       "      <th>Phone Service</th>\n",
       "      <th>Senior Citizen</th>\n",
       "      <th>Streaming Movies</th>\n",
       "      <th>Streaming TV</th>\n",
       "      <th>Monthly Charges</th>\n",
       "      <th>Tenure</th>\n",
       "      <th>Total Charges</th>\n",
       "    </tr>\n",
       "  </thead>\n",
       "  <tbody>\n",
       "    <tr>\n",
       "      <th>0</th>\n",
       "      <td>No</td>\n",
       "      <td>DSL</td>\n",
       "      <td>Internet Without Security</td>\n",
       "      <td>Enabled</td>\n",
       "      <td>Partnered</td>\n",
       "      <td>Electronic check</td>\n",
       "      <td>Manual Payment</td>\n",
       "      <td>Unsubscribed</td>\n",
       "      <td>Non-senior</td>\n",
       "      <td>Without Movie Subscription</td>\n",
       "      <td>Without TV Subscription</td>\n",
       "      <td>29.85</td>\n",
       "      <td>1</td>\n",
       "      <td>29.85</td>\n",
       "    </tr>\n",
       "    <tr>\n",
       "      <th>1</th>\n",
       "      <td>No</td>\n",
       "      <td>DSL</td>\n",
       "      <td>Online Security</td>\n",
       "      <td>Disabled</td>\n",
       "      <td>Contractless</td>\n",
       "      <td>Mailed check</td>\n",
       "      <td>Manual Payment</td>\n",
       "      <td>Subscribed</td>\n",
       "      <td>Non-senior</td>\n",
       "      <td>Without Movie Subscription</td>\n",
       "      <td>Without TV Subscription</td>\n",
       "      <td>56.95</td>\n",
       "      <td>34</td>\n",
       "      <td>1889.50</td>\n",
       "    </tr>\n",
       "    <tr>\n",
       "      <th>2</th>\n",
       "      <td>Yes</td>\n",
       "      <td>DSL</td>\n",
       "      <td>Online Security</td>\n",
       "      <td>Enabled</td>\n",
       "      <td>Contractless</td>\n",
       "      <td>Mailed check</td>\n",
       "      <td>Manual Payment</td>\n",
       "      <td>Subscribed</td>\n",
       "      <td>Non-senior</td>\n",
       "      <td>Without Movie Subscription</td>\n",
       "      <td>Without TV Subscription</td>\n",
       "      <td>53.85</td>\n",
       "      <td>2</td>\n",
       "      <td>108.15</td>\n",
       "    </tr>\n",
       "    <tr>\n",
       "      <th>3</th>\n",
       "      <td>No</td>\n",
       "      <td>DSL</td>\n",
       "      <td>Online Security</td>\n",
       "      <td>Disabled</td>\n",
       "      <td>Contractless</td>\n",
       "      <td>Bank transfer (automatic)</td>\n",
       "      <td>Automatic Payment</td>\n",
       "      <td>Unsubscribed</td>\n",
       "      <td>Non-senior</td>\n",
       "      <td>Without Movie Subscription</td>\n",
       "      <td>Without TV Subscription</td>\n",
       "      <td>42.30</td>\n",
       "      <td>45</td>\n",
       "      <td>1840.75</td>\n",
       "    </tr>\n",
       "    <tr>\n",
       "      <th>4</th>\n",
       "      <td>Yes</td>\n",
       "      <td>Fiber optic</td>\n",
       "      <td>Internet Without Security</td>\n",
       "      <td>Enabled</td>\n",
       "      <td>Contractless</td>\n",
       "      <td>Electronic check</td>\n",
       "      <td>Manual Payment</td>\n",
       "      <td>Subscribed</td>\n",
       "      <td>Non-senior</td>\n",
       "      <td>Without Movie Subscription</td>\n",
       "      <td>Without TV Subscription</td>\n",
       "      <td>70.70</td>\n",
       "      <td>2</td>\n",
       "      <td>151.65</td>\n",
       "    </tr>\n",
       "  </tbody>\n",
       "</table>\n",
       "</div>"
      ],
      "text/plain": [
       "  Churn Internet Service            Online Security Paperless Billing  \\\n",
       "0    No              DSL  Internet Without Security           Enabled   \n",
       "1    No              DSL            Online Security          Disabled   \n",
       "2   Yes              DSL            Online Security           Enabled   \n",
       "3    No              DSL            Online Security          Disabled   \n",
       "4   Yes      Fiber optic  Internet Without Security           Enabled   \n",
       "\n",
       "        Partner             Payment Method       Payment Type Phone Service  \\\n",
       "0     Partnered           Electronic check     Manual Payment  Unsubscribed   \n",
       "1  Contractless               Mailed check     Manual Payment    Subscribed   \n",
       "2  Contractless               Mailed check     Manual Payment    Subscribed   \n",
       "3  Contractless  Bank transfer (automatic)  Automatic Payment  Unsubscribed   \n",
       "4  Contractless           Electronic check     Manual Payment    Subscribed   \n",
       "\n",
       "  Senior Citizen            Streaming Movies             Streaming TV  \\\n",
       "0     Non-senior  Without Movie Subscription  Without TV Subscription   \n",
       "1     Non-senior  Without Movie Subscription  Without TV Subscription   \n",
       "2     Non-senior  Without Movie Subscription  Without TV Subscription   \n",
       "3     Non-senior  Without Movie Subscription  Without TV Subscription   \n",
       "4     Non-senior  Without Movie Subscription  Without TV Subscription   \n",
       "\n",
       "   Monthly Charges  Tenure  Total Charges  \n",
       "0            29.85       1          29.85  \n",
       "1            56.95      34        1889.50  \n",
       "2            53.85       2         108.15  \n",
       "3            42.30      45        1840.75  \n",
       "4            70.70       2         151.65  "
      ]
     },
     "execution_count": 61,
     "metadata": {},
     "output_type": "execute_result"
    }
   ],
   "source": [
    "telco.head()"
   ]
  },
  {
   "cell_type": "code",
   "execution_count": null,
   "id": "d6797ff4",
   "metadata": {},
   "outputs": [],
   "source": [
    "telco.head()"
   ]
  },
  {
   "cell_type": "code",
   "execution_count": 62,
   "id": "e2d202be",
   "metadata": {},
   "outputs": [],
   "source": [
    "telco.drop(columns=['Online Security',\n",
    "                   'Paperless Billing',\n",
    "                   'Partner',\n",
    "                    'Payment Method',\n",
    "                    'Payment Type',\n",
    "                    'Phone Service',\n",
    "                    'Senior Citizen',\n",
    "                    'Streaming Movies',\n",
    "                   'Streaming TV'\n",
    "                   ], inplace=True)"
   ]
  },
  {
   "cell_type": "code",
   "execution_count": 63,
   "id": "46803f0a",
   "metadata": {},
   "outputs": [
    {
     "data": {
      "text/html": [
       "<div>\n",
       "<style scoped>\n",
       "    .dataframe tbody tr th:only-of-type {\n",
       "        vertical-align: middle;\n",
       "    }\n",
       "\n",
       "    .dataframe tbody tr th {\n",
       "        vertical-align: top;\n",
       "    }\n",
       "\n",
       "    .dataframe thead th {\n",
       "        text-align: right;\n",
       "    }\n",
       "</style>\n",
       "<table border=\"1\" class=\"dataframe\">\n",
       "  <thead>\n",
       "    <tr style=\"text-align: right;\">\n",
       "      <th></th>\n",
       "      <th>Churn</th>\n",
       "      <th>Internet Service</th>\n",
       "      <th>Monthly Charges</th>\n",
       "      <th>Tenure</th>\n",
       "      <th>Total Charges</th>\n",
       "    </tr>\n",
       "  </thead>\n",
       "  <tbody>\n",
       "    <tr>\n",
       "      <th>0</th>\n",
       "      <td>No</td>\n",
       "      <td>DSL</td>\n",
       "      <td>29.85</td>\n",
       "      <td>1</td>\n",
       "      <td>29.85</td>\n",
       "    </tr>\n",
       "    <tr>\n",
       "      <th>1</th>\n",
       "      <td>No</td>\n",
       "      <td>DSL</td>\n",
       "      <td>56.95</td>\n",
       "      <td>34</td>\n",
       "      <td>1889.50</td>\n",
       "    </tr>\n",
       "    <tr>\n",
       "      <th>2</th>\n",
       "      <td>Yes</td>\n",
       "      <td>DSL</td>\n",
       "      <td>53.85</td>\n",
       "      <td>2</td>\n",
       "      <td>108.15</td>\n",
       "    </tr>\n",
       "    <tr>\n",
       "      <th>3</th>\n",
       "      <td>No</td>\n",
       "      <td>DSL</td>\n",
       "      <td>42.30</td>\n",
       "      <td>45</td>\n",
       "      <td>1840.75</td>\n",
       "    </tr>\n",
       "    <tr>\n",
       "      <th>4</th>\n",
       "      <td>Yes</td>\n",
       "      <td>Fiber optic</td>\n",
       "      <td>70.70</td>\n",
       "      <td>2</td>\n",
       "      <td>151.65</td>\n",
       "    </tr>\n",
       "  </tbody>\n",
       "</table>\n",
       "</div>"
      ],
      "text/plain": [
       "  Churn Internet Service  Monthly Charges  Tenure  Total Charges\n",
       "0    No              DSL            29.85       1          29.85\n",
       "1    No              DSL            56.95      34        1889.50\n",
       "2   Yes              DSL            53.85       2         108.15\n",
       "3    No              DSL            42.30      45        1840.75\n",
       "4   Yes      Fiber optic            70.70       2         151.65"
      ]
     },
     "execution_count": 63,
     "metadata": {},
     "output_type": "execute_result"
    }
   ],
   "source": [
    "telco.head()"
   ]
  },
  {
   "cell_type": "code",
   "execution_count": 64,
   "id": "1b88fed4",
   "metadata": {},
   "outputs": [
    {
     "data": {
      "image/png": "[encoded data removed]",
      "text/plain": [
       "<Figure size 750x750 with 9 Axes>"
      ]
     },
     "metadata": {},
     "output_type": "display_data"
    }
   ],
   "source": [
    "sns.pairplot(telco, corner=True)\n",
    "plt.show()"
   ]
  },
  {
   "cell_type": "markdown",
   "id": "d4259b25",
   "metadata": {},
   "source": [
    "H$_o$ : No linear relationship exists between tenure and monthly_charge\n",
    "\n",
    "H$_a$ : A linear relationship exists between tenure and monthly charge"
   ]
  },
  {
   "cell_type": "code",
   "execution_count": 65,
   "id": "14e2a09f",
   "metadata": {},
   "outputs": [
    {
     "data": {
      "text/plain": [
       "(0.2478998562861518, 4.094044991484879e-99)"
      ]
     },
     "execution_count": 65,
     "metadata": {},
     "output_type": "execute_result"
    }
   ],
   "source": [
    "# DOES TENURE CORRELATE with MONLTHY CHARGE?\n",
    "\n",
    "tnure = telco.Tenure\n",
    "mo_charge = telco['Monthly Charges']\n",
    "\n",
    "r,p = stats.pearsonr(tnure,mo_charge)\n",
    "r,p"
   ]
  },
  {
   "cell_type": "code",
   "execution_count": 66,
   "id": "f3534975",
   "metadata": {},
   "outputs": [
    {
     "data": {
      "text/plain": [
       "True"
      ]
     },
     "execution_count": 66,
     "metadata": {},
     "output_type": "execute_result"
    }
   ],
   "source": [
    "p < check_α # a very weak correlation  r = 0.248"
   ]
  },
  {
   "cell_type": "code",
   "execution_count": 67,
   "id": "230f00a1",
   "metadata": {},
   "outputs": [],
   "source": [
    "# confidence level : 0.95\n",
    "check_α = 0.05"
   ]
  },
  {
   "cell_type": "markdown",
   "id": "3ec715b6",
   "metadata": {},
   "source": [
    "H$_o$ : No linear relationship exists between tenure and total_charge\n",
    "\n",
    "H$_a$ : A linear relationship exists between tenure and total charge"
   ]
  },
  {
   "cell_type": "code",
   "execution_count": 68,
   "id": "f311192b",
   "metadata": {},
   "outputs": [
    {
     "name": "stdout",
     "output_type": "stream",
     "text": [
      "<class 'pandas.core.series.Series'>\n",
      "RangeIndex: 7043 entries, 0 to 7042\n",
      "Series name: Total Charges\n",
      "Non-Null Count  Dtype  \n",
      "--------------  -----  \n",
      "7032 non-null   float64\n",
      "dtypes: float64(1)\n",
      "memory usage: 55.1 KB\n"
     ]
    }
   ],
   "source": [
    "telco['Total Charges'].info()"
   ]
  },
  {
   "cell_type": "code",
   "execution_count": 69,
   "id": "ce571996",
   "metadata": {},
   "outputs": [
    {
     "data": {
      "text/html": [
       "<div>\n",
       "<style scoped>\n",
       "    .dataframe tbody tr th:only-of-type {\n",
       "        vertical-align: middle;\n",
       "    }\n",
       "\n",
       "    .dataframe tbody tr th {\n",
       "        vertical-align: top;\n",
       "    }\n",
       "\n",
       "    .dataframe thead th {\n",
       "        text-align: right;\n",
       "    }\n",
       "</style>\n",
       "<table border=\"1\" class=\"dataframe\">\n",
       "  <thead>\n",
       "    <tr style=\"text-align: right;\">\n",
       "      <th></th>\n",
       "      <th>Churn</th>\n",
       "      <th>Internet Service</th>\n",
       "      <th>Monthly Charges</th>\n",
       "      <th>Tenure</th>\n",
       "      <th>Total Charges</th>\n",
       "    </tr>\n",
       "  </thead>\n",
       "  <tbody>\n",
       "    <tr>\n",
       "      <th>0</th>\n",
       "      <td>No</td>\n",
       "      <td>DSL</td>\n",
       "      <td>29.85</td>\n",
       "      <td>1</td>\n",
       "      <td>29.85</td>\n",
       "    </tr>\n",
       "    <tr>\n",
       "      <th>1</th>\n",
       "      <td>No</td>\n",
       "      <td>DSL</td>\n",
       "      <td>56.95</td>\n",
       "      <td>34</td>\n",
       "      <td>1889.50</td>\n",
       "    </tr>\n",
       "    <tr>\n",
       "      <th>2</th>\n",
       "      <td>Yes</td>\n",
       "      <td>DSL</td>\n",
       "      <td>53.85</td>\n",
       "      <td>2</td>\n",
       "      <td>108.15</td>\n",
       "    </tr>\n",
       "    <tr>\n",
       "      <th>3</th>\n",
       "      <td>No</td>\n",
       "      <td>DSL</td>\n",
       "      <td>42.30</td>\n",
       "      <td>45</td>\n",
       "      <td>1840.75</td>\n",
       "    </tr>\n",
       "    <tr>\n",
       "      <th>4</th>\n",
       "      <td>Yes</td>\n",
       "      <td>Fiber optic</td>\n",
       "      <td>70.70</td>\n",
       "      <td>2</td>\n",
       "      <td>151.65</td>\n",
       "    </tr>\n",
       "    <tr>\n",
       "      <th>...</th>\n",
       "      <td>...</td>\n",
       "      <td>...</td>\n",
       "      <td>...</td>\n",
       "      <td>...</td>\n",
       "      <td>...</td>\n",
       "    </tr>\n",
       "    <tr>\n",
       "      <th>7038</th>\n",
       "      <td>Yes</td>\n",
       "      <td>Fiber optic</td>\n",
       "      <td>99.50</td>\n",
       "      <td>66</td>\n",
       "      <td>6822.15</td>\n",
       "    </tr>\n",
       "    <tr>\n",
       "      <th>7039</th>\n",
       "      <td>Yes</td>\n",
       "      <td>Fiber optic</td>\n",
       "      <td>84.20</td>\n",
       "      <td>51</td>\n",
       "      <td>4146.05</td>\n",
       "    </tr>\n",
       "    <tr>\n",
       "      <th>7040</th>\n",
       "      <td>Yes</td>\n",
       "      <td>Fiber optic</td>\n",
       "      <td>111.95</td>\n",
       "      <td>41</td>\n",
       "      <td>4534.90</td>\n",
       "    </tr>\n",
       "    <tr>\n",
       "      <th>7041</th>\n",
       "      <td>Yes</td>\n",
       "      <td>Fiber optic</td>\n",
       "      <td>105.10</td>\n",
       "      <td>71</td>\n",
       "      <td>7548.10</td>\n",
       "    </tr>\n",
       "    <tr>\n",
       "      <th>7042</th>\n",
       "      <td>Yes</td>\n",
       "      <td>Fiber optic</td>\n",
       "      <td>100.70</td>\n",
       "      <td>46</td>\n",
       "      <td>4541.20</td>\n",
       "    </tr>\n",
       "  </tbody>\n",
       "</table>\n",
       "<p>7032 rows × 5 columns</p>\n",
       "</div>"
      ],
      "text/plain": [
       "     Churn Internet Service  Monthly Charges  Tenure  Total Charges\n",
       "0       No              DSL            29.85       1          29.85\n",
       "1       No              DSL            56.95      34        1889.50\n",
       "2      Yes              DSL            53.85       2         108.15\n",
       "3       No              DSL            42.30      45        1840.75\n",
       "4      Yes      Fiber optic            70.70       2         151.65\n",
       "...    ...              ...              ...     ...            ...\n",
       "7038   Yes      Fiber optic            99.50      66        6822.15\n",
       "7039   Yes      Fiber optic            84.20      51        4146.05\n",
       "7040   Yes      Fiber optic           111.95      41        4534.90\n",
       "7041   Yes      Fiber optic           105.10      71        7548.10\n",
       "7042   Yes      Fiber optic           100.70      46        4541.20\n",
       "\n",
       "[7032 rows x 5 columns]"
      ]
     },
     "execution_count": 69,
     "metadata": {},
     "output_type": "execute_result"
    }
   ],
   "source": [
    "telco[telco['Total Charges'] >= 0]"
   ]
  },
  {
   "cell_type": "code",
   "execution_count": 70,
   "id": "df5a2bf1",
   "metadata": {},
   "outputs": [
    {
     "data": {
      "text/html": [
       "<div>\n",
       "<style scoped>\n",
       "    .dataframe tbody tr th:only-of-type {\n",
       "        vertical-align: middle;\n",
       "    }\n",
       "\n",
       "    .dataframe tbody tr th {\n",
       "        vertical-align: top;\n",
       "    }\n",
       "\n",
       "    .dataframe thead th {\n",
       "        text-align: right;\n",
       "    }\n",
       "</style>\n",
       "<table border=\"1\" class=\"dataframe\">\n",
       "  <thead>\n",
       "    <tr style=\"text-align: right;\">\n",
       "      <th></th>\n",
       "      <th>Churn</th>\n",
       "      <th>Internet Service</th>\n",
       "      <th>Monthly Charges</th>\n",
       "      <th>Tenure</th>\n",
       "      <th>Total Charges</th>\n",
       "    </tr>\n",
       "  </thead>\n",
       "  <tbody>\n",
       "    <tr>\n",
       "      <th>0</th>\n",
       "      <td>No</td>\n",
       "      <td>DSL</td>\n",
       "      <td>29.85</td>\n",
       "      <td>1</td>\n",
       "      <td>29.85</td>\n",
       "    </tr>\n",
       "    <tr>\n",
       "      <th>1</th>\n",
       "      <td>No</td>\n",
       "      <td>DSL</td>\n",
       "      <td>56.95</td>\n",
       "      <td>34</td>\n",
       "      <td>1889.50</td>\n",
       "    </tr>\n",
       "    <tr>\n",
       "      <th>2</th>\n",
       "      <td>Yes</td>\n",
       "      <td>DSL</td>\n",
       "      <td>53.85</td>\n",
       "      <td>2</td>\n",
       "      <td>108.15</td>\n",
       "    </tr>\n",
       "    <tr>\n",
       "      <th>3</th>\n",
       "      <td>No</td>\n",
       "      <td>DSL</td>\n",
       "      <td>42.30</td>\n",
       "      <td>45</td>\n",
       "      <td>1840.75</td>\n",
       "    </tr>\n",
       "    <tr>\n",
       "      <th>4</th>\n",
       "      <td>Yes</td>\n",
       "      <td>Fiber optic</td>\n",
       "      <td>70.70</td>\n",
       "      <td>2</td>\n",
       "      <td>151.65</td>\n",
       "    </tr>\n",
       "    <tr>\n",
       "      <th>...</th>\n",
       "      <td>...</td>\n",
       "      <td>...</td>\n",
       "      <td>...</td>\n",
       "      <td>...</td>\n",
       "      <td>...</td>\n",
       "    </tr>\n",
       "    <tr>\n",
       "      <th>7038</th>\n",
       "      <td>Yes</td>\n",
       "      <td>Fiber optic</td>\n",
       "      <td>99.50</td>\n",
       "      <td>66</td>\n",
       "      <td>6822.15</td>\n",
       "    </tr>\n",
       "    <tr>\n",
       "      <th>7039</th>\n",
       "      <td>Yes</td>\n",
       "      <td>Fiber optic</td>\n",
       "      <td>84.20</td>\n",
       "      <td>51</td>\n",
       "      <td>4146.05</td>\n",
       "    </tr>\n",
       "    <tr>\n",
       "      <th>7040</th>\n",
       "      <td>Yes</td>\n",
       "      <td>Fiber optic</td>\n",
       "      <td>111.95</td>\n",
       "      <td>41</td>\n",
       "      <td>4534.90</td>\n",
       "    </tr>\n",
       "    <tr>\n",
       "      <th>7041</th>\n",
       "      <td>Yes</td>\n",
       "      <td>Fiber optic</td>\n",
       "      <td>105.10</td>\n",
       "      <td>71</td>\n",
       "      <td>7548.10</td>\n",
       "    </tr>\n",
       "    <tr>\n",
       "      <th>7042</th>\n",
       "      <td>Yes</td>\n",
       "      <td>Fiber optic</td>\n",
       "      <td>100.70</td>\n",
       "      <td>46</td>\n",
       "      <td>4541.20</td>\n",
       "    </tr>\n",
       "  </tbody>\n",
       "</table>\n",
       "<p>7032 rows × 5 columns</p>\n",
       "</div>"
      ],
      "text/plain": [
       "     Churn Internet Service  Monthly Charges  Tenure  Total Charges\n",
       "0       No              DSL            29.85       1          29.85\n",
       "1       No              DSL            56.95      34        1889.50\n",
       "2      Yes              DSL            53.85       2         108.15\n",
       "3       No              DSL            42.30      45        1840.75\n",
       "4      Yes      Fiber optic            70.70       2         151.65\n",
       "...    ...              ...              ...     ...            ...\n",
       "7038   Yes      Fiber optic            99.50      66        6822.15\n",
       "7039   Yes      Fiber optic            84.20      51        4146.05\n",
       "7040   Yes      Fiber optic           111.95      41        4534.90\n",
       "7041   Yes      Fiber optic           105.10      71        7548.10\n",
       "7042   Yes      Fiber optic           100.70      46        4541.20\n",
       "\n",
       "[7032 rows x 5 columns]"
      ]
     },
     "execution_count": 70,
     "metadata": {},
     "output_type": "execute_result"
    }
   ],
   "source": [
    "telco_mini_clean = telco[telco['Total Charges'] >= 0]\n",
    "telco_mini_clean"
   ]
  },
  {
   "cell_type": "code",
   "execution_count": 71,
   "id": "a3a2edf9",
   "metadata": {},
   "outputs": [
    {
     "data": {
      "text/plain": [
       "(0.8258804609332091, 0.0)"
      ]
     },
     "execution_count": 71,
     "metadata": {},
     "output_type": "execute_result"
    }
   ],
   "source": [
    "# DOES TENURE CORRELATE with TOTAL CHARGE?\n",
    "\n",
    "tnure = telco_mini_clean.Tenure\n",
    "tot_charge = telco_mini_clean['Total Charges']\n",
    "\n",
    "r,p = stats.pearsonr(tnure,tot_charge)\n",
    "r,p"
   ]
  },
  {
   "cell_type": "code",
   "execution_count": null,
   "id": "cf3d685a",
   "metadata": {},
   "outputs": [],
   "source": [
    "# Yes a statistically significant correlation exists between Tenure and Total Charges"
   ]
  },
  {
   "cell_type": "code",
   "execution_count": null,
   "id": "416b4724",
   "metadata": {},
   "outputs": [],
   "source": []
  },
  {
   "cell_type": "code",
   "execution_count": null,
   "id": "f56dec37",
   "metadata": {},
   "outputs": [],
   "source": [
    "# CONTROL for INTERNET SERVICE"
   ]
  },
  {
   "cell_type": "code",
   "execution_count": 72,
   "id": "ccbe88d6",
   "metadata": {},
   "outputs": [
    {
     "data": {
      "text/plain": [
       "array(['DSL', 'Fiber optic', 'No'], dtype=object)"
      ]
     },
     "execution_count": 72,
     "metadata": {},
     "output_type": "execute_result"
    }
   ],
   "source": [
    "telco_mini_clean['Internet Service'].unique()"
   ]
  },
  {
   "cell_type": "code",
   "execution_count": 73,
   "id": "150fc3c5",
   "metadata": {},
   "outputs": [
    {
     "name": "stderr",
     "output_type": "stream",
     "text": [
      "/var/folders/ty/2pnn6wsj06n_glzjgbmxzlkw0000gn/T/ipykernel_1376/1120762598.py:1: SettingWithCopyWarning: \n",
      "A value is trying to be set on a copy of a slice from a DataFrame.\n",
      "Try using .loc[row_indexer,col_indexer] = value instead\n",
      "\n",
      "See the caveats in the documentation: https://pandas.pydata.org/pandas-docs/stable/user_guide/indexing.html#returning-a-view-versus-a-copy\n",
      "  telco_mini_clean['churn_bool'] = np.where(telco_mini_clean.Churn == 'Yes',1,0)\n"
     ]
    },
    {
     "data": {
      "text/html": [
       "<div>\n",
       "<style scoped>\n",
       "    .dataframe tbody tr th:only-of-type {\n",
       "        vertical-align: middle;\n",
       "    }\n",
       "\n",
       "    .dataframe tbody tr th {\n",
       "        vertical-align: top;\n",
       "    }\n",
       "\n",
       "    .dataframe thead th {\n",
       "        text-align: right;\n",
       "    }\n",
       "</style>\n",
       "<table border=\"1\" class=\"dataframe\">\n",
       "  <thead>\n",
       "    <tr style=\"text-align: right;\">\n",
       "      <th></th>\n",
       "      <th>Churn</th>\n",
       "      <th>Internet Service</th>\n",
       "      <th>Monthly Charges</th>\n",
       "      <th>Tenure</th>\n",
       "      <th>Total Charges</th>\n",
       "      <th>churn_bool</th>\n",
       "    </tr>\n",
       "  </thead>\n",
       "  <tbody>\n",
       "    <tr>\n",
       "      <th>0</th>\n",
       "      <td>No</td>\n",
       "      <td>DSL</td>\n",
       "      <td>29.85</td>\n",
       "      <td>1</td>\n",
       "      <td>29.85</td>\n",
       "      <td>0</td>\n",
       "    </tr>\n",
       "    <tr>\n",
       "      <th>1</th>\n",
       "      <td>No</td>\n",
       "      <td>DSL</td>\n",
       "      <td>56.95</td>\n",
       "      <td>34</td>\n",
       "      <td>1889.50</td>\n",
       "      <td>0</td>\n",
       "    </tr>\n",
       "    <tr>\n",
       "      <th>2</th>\n",
       "      <td>Yes</td>\n",
       "      <td>DSL</td>\n",
       "      <td>53.85</td>\n",
       "      <td>2</td>\n",
       "      <td>108.15</td>\n",
       "      <td>1</td>\n",
       "    </tr>\n",
       "    <tr>\n",
       "      <th>3</th>\n",
       "      <td>No</td>\n",
       "      <td>DSL</td>\n",
       "      <td>42.30</td>\n",
       "      <td>45</td>\n",
       "      <td>1840.75</td>\n",
       "      <td>0</td>\n",
       "    </tr>\n",
       "    <tr>\n",
       "      <th>4</th>\n",
       "      <td>Yes</td>\n",
       "      <td>Fiber optic</td>\n",
       "      <td>70.70</td>\n",
       "      <td>2</td>\n",
       "      <td>151.65</td>\n",
       "      <td>1</td>\n",
       "    </tr>\n",
       "    <tr>\n",
       "      <th>...</th>\n",
       "      <td>...</td>\n",
       "      <td>...</td>\n",
       "      <td>...</td>\n",
       "      <td>...</td>\n",
       "      <td>...</td>\n",
       "      <td>...</td>\n",
       "    </tr>\n",
       "    <tr>\n",
       "      <th>7038</th>\n",
       "      <td>Yes</td>\n",
       "      <td>Fiber optic</td>\n",
       "      <td>99.50</td>\n",
       "      <td>66</td>\n",
       "      <td>6822.15</td>\n",
       "      <td>1</td>\n",
       "    </tr>\n",
       "    <tr>\n",
       "      <th>7039</th>\n",
       "      <td>Yes</td>\n",
       "      <td>Fiber optic</td>\n",
       "      <td>84.20</td>\n",
       "      <td>51</td>\n",
       "      <td>4146.05</td>\n",
       "      <td>1</td>\n",
       "    </tr>\n",
       "    <tr>\n",
       "      <th>7040</th>\n",
       "      <td>Yes</td>\n",
       "      <td>Fiber optic</td>\n",
       "      <td>111.95</td>\n",
       "      <td>41</td>\n",
       "      <td>4534.90</td>\n",
       "      <td>1</td>\n",
       "    </tr>\n",
       "    <tr>\n",
       "      <th>7041</th>\n",
       "      <td>Yes</td>\n",
       "      <td>Fiber optic</td>\n",
       "      <td>105.10</td>\n",
       "      <td>71</td>\n",
       "      <td>7548.10</td>\n",
       "      <td>1</td>\n",
       "    </tr>\n",
       "    <tr>\n",
       "      <th>7042</th>\n",
       "      <td>Yes</td>\n",
       "      <td>Fiber optic</td>\n",
       "      <td>100.70</td>\n",
       "      <td>46</td>\n",
       "      <td>4541.20</td>\n",
       "      <td>1</td>\n",
       "    </tr>\n",
       "  </tbody>\n",
       "</table>\n",
       "<p>7032 rows × 6 columns</p>\n",
       "</div>"
      ],
      "text/plain": [
       "     Churn Internet Service  Monthly Charges  Tenure  Total Charges  \\\n",
       "0       No              DSL            29.85       1          29.85   \n",
       "1       No              DSL            56.95      34        1889.50   \n",
       "2      Yes              DSL            53.85       2         108.15   \n",
       "3       No              DSL            42.30      45        1840.75   \n",
       "4      Yes      Fiber optic            70.70       2         151.65   \n",
       "...    ...              ...              ...     ...            ...   \n",
       "7038   Yes      Fiber optic            99.50      66        6822.15   \n",
       "7039   Yes      Fiber optic            84.20      51        4146.05   \n",
       "7040   Yes      Fiber optic           111.95      41        4534.90   \n",
       "7041   Yes      Fiber optic           105.10      71        7548.10   \n",
       "7042   Yes      Fiber optic           100.70      46        4541.20   \n",
       "\n",
       "      churn_bool  \n",
       "0              0  \n",
       "1              0  \n",
       "2              1  \n",
       "3              0  \n",
       "4              1  \n",
       "...          ...  \n",
       "7038           1  \n",
       "7039           1  \n",
       "7040           1  \n",
       "7041           1  \n",
       "7042           1  \n",
       "\n",
       "[7032 rows x 6 columns]"
      ]
     },
     "execution_count": 73,
     "metadata": {},
     "output_type": "execute_result"
    }
   ],
   "source": [
    "telco_mini_clean['churn_bool'] = np.where(telco_mini_clean.Churn == 'Yes',1,0)\n",
    "telco_mini_clean"
   ]
  },
  {
   "cell_type": "code",
   "execution_count": 74,
   "id": "09a57c92",
   "metadata": {},
   "outputs": [
    {
     "data": {
      "text/plain": [
       "Fiber optic    3096\n",
       "DSL            2416\n",
       "No             1520\n",
       "Name: Internet Service, dtype: int64"
      ]
     },
     "execution_count": 74,
     "metadata": {},
     "output_type": "execute_result"
    }
   ],
   "source": [
    "telco_mini_clean['Internet Service'].value_counts()"
   ]
  },
  {
   "cell_type": "code",
   "execution_count": 75,
   "id": "078205ae",
   "metadata": {
    "scrolled": true
   },
   "outputs": [
    {
     "data": {
      "text/html": [
       "<div>\n",
       "<style scoped>\n",
       "    .dataframe tbody tr th:only-of-type {\n",
       "        vertical-align: middle;\n",
       "    }\n",
       "\n",
       "    .dataframe tbody tr th {\n",
       "        vertical-align: top;\n",
       "    }\n",
       "\n",
       "    .dataframe thead th {\n",
       "        text-align: right;\n",
       "    }\n",
       "</style>\n",
       "<table border=\"1\" class=\"dataframe\">\n",
       "  <thead>\n",
       "    <tr style=\"text-align: right;\">\n",
       "      <th></th>\n",
       "      <th>Churn</th>\n",
       "      <th>Internet Service</th>\n",
       "      <th>Monthly Charges</th>\n",
       "      <th>Tenure</th>\n",
       "      <th>Total Charges</th>\n",
       "      <th>churn_bool</th>\n",
       "    </tr>\n",
       "  </thead>\n",
       "  <tbody>\n",
       "    <tr>\n",
       "      <th>0</th>\n",
       "      <td>No</td>\n",
       "      <td>DSL</td>\n",
       "      <td>29.85</td>\n",
       "      <td>1</td>\n",
       "      <td>29.85</td>\n",
       "      <td>0</td>\n",
       "    </tr>\n",
       "    <tr>\n",
       "      <th>1</th>\n",
       "      <td>No</td>\n",
       "      <td>DSL</td>\n",
       "      <td>56.95</td>\n",
       "      <td>34</td>\n",
       "      <td>1889.50</td>\n",
       "      <td>0</td>\n",
       "    </tr>\n",
       "    <tr>\n",
       "      <th>2</th>\n",
       "      <td>Yes</td>\n",
       "      <td>DSL</td>\n",
       "      <td>53.85</td>\n",
       "      <td>2</td>\n",
       "      <td>108.15</td>\n",
       "      <td>1</td>\n",
       "    </tr>\n",
       "    <tr>\n",
       "      <th>3</th>\n",
       "      <td>No</td>\n",
       "      <td>DSL</td>\n",
       "      <td>42.30</td>\n",
       "      <td>45</td>\n",
       "      <td>1840.75</td>\n",
       "      <td>0</td>\n",
       "    </tr>\n",
       "    <tr>\n",
       "      <th>7</th>\n",
       "      <td>No</td>\n",
       "      <td>DSL</td>\n",
       "      <td>29.75</td>\n",
       "      <td>10</td>\n",
       "      <td>301.90</td>\n",
       "      <td>0</td>\n",
       "    </tr>\n",
       "    <tr>\n",
       "      <th>...</th>\n",
       "      <td>...</td>\n",
       "      <td>...</td>\n",
       "      <td>...</td>\n",
       "      <td>...</td>\n",
       "      <td>...</td>\n",
       "      <td>...</td>\n",
       "    </tr>\n",
       "    <tr>\n",
       "      <th>7022</th>\n",
       "      <td>No</td>\n",
       "      <td>DSL</td>\n",
       "      <td>51.00</td>\n",
       "      <td>28</td>\n",
       "      <td>1381.80</td>\n",
       "      <td>0</td>\n",
       "    </tr>\n",
       "    <tr>\n",
       "      <th>7023</th>\n",
       "      <td>No</td>\n",
       "      <td>DSL</td>\n",
       "      <td>80.85</td>\n",
       "      <td>52</td>\n",
       "      <td>4079.55</td>\n",
       "      <td>0</td>\n",
       "    </tr>\n",
       "    <tr>\n",
       "      <th>7024</th>\n",
       "      <td>No</td>\n",
       "      <td>DSL</td>\n",
       "      <td>72.90</td>\n",
       "      <td>71</td>\n",
       "      <td>5139.65</td>\n",
       "      <td>0</td>\n",
       "    </tr>\n",
       "    <tr>\n",
       "      <th>7025</th>\n",
       "      <td>No</td>\n",
       "      <td>DSL</td>\n",
       "      <td>75.15</td>\n",
       "      <td>50</td>\n",
       "      <td>3822.45</td>\n",
       "      <td>0</td>\n",
       "    </tr>\n",
       "    <tr>\n",
       "      <th>7036</th>\n",
       "      <td>Yes</td>\n",
       "      <td>DSL</td>\n",
       "      <td>49.25</td>\n",
       "      <td>1</td>\n",
       "      <td>49.25</td>\n",
       "      <td>1</td>\n",
       "    </tr>\n",
       "  </tbody>\n",
       "</table>\n",
       "<p>2416 rows × 6 columns</p>\n",
       "</div>"
      ],
      "text/plain": [
       "     Churn Internet Service  Monthly Charges  Tenure  Total Charges  \\\n",
       "0       No              DSL            29.85       1          29.85   \n",
       "1       No              DSL            56.95      34        1889.50   \n",
       "2      Yes              DSL            53.85       2         108.15   \n",
       "3       No              DSL            42.30      45        1840.75   \n",
       "7       No              DSL            29.75      10         301.90   \n",
       "...    ...              ...              ...     ...            ...   \n",
       "7022    No              DSL            51.00      28        1381.80   \n",
       "7023    No              DSL            80.85      52        4079.55   \n",
       "7024    No              DSL            72.90      71        5139.65   \n",
       "7025    No              DSL            75.15      50        3822.45   \n",
       "7036   Yes              DSL            49.25       1          49.25   \n",
       "\n",
       "      churn_bool  \n",
       "0              0  \n",
       "1              0  \n",
       "2              1  \n",
       "3              0  \n",
       "7              0  \n",
       "...          ...  \n",
       "7022           0  \n",
       "7023           0  \n",
       "7024           0  \n",
       "7025           0  \n",
       "7036           1  \n",
       "\n",
       "[2416 rows x 6 columns]"
      ]
     },
     "execution_count": 75,
     "metadata": {},
     "output_type": "execute_result"
    }
   ],
   "source": [
    "telco_dsl = telco_mini_clean[telco_mini_clean['Internet Service'] == 'DSL']\n",
    "telco_dsl"
   ]
  },
  {
   "cell_type": "code",
   "execution_count": 76,
   "id": "d77f4517",
   "metadata": {},
   "outputs": [
    {
     "name": "stderr",
     "output_type": "stream",
     "text": [
      "/var/folders/ty/2pnn6wsj06n_glzjgbmxzlkw0000gn/T/ipykernel_1376/2793346251.py:1: SettingWithCopyWarning: \n",
      "A value is trying to be set on a copy of a slice from a DataFrame.\n",
      "Try using .loc[row_indexer,col_indexer] = value instead\n",
      "\n",
      "See the caveats in the documentation: https://pandas.pydata.org/pandas-docs/stable/user_guide/indexing.html#returning-a-view-versus-a-copy\n",
      "  telco_dsl['churn_bool'] = np.where(telco_dsl.Churn == 'Yes',1,0)\n"
     ]
    },
    {
     "data": {
      "text/html": [
       "<div>\n",
       "<style scoped>\n",
       "    .dataframe tbody tr th:only-of-type {\n",
       "        vertical-align: middle;\n",
       "    }\n",
       "\n",
       "    .dataframe tbody tr th {\n",
       "        vertical-align: top;\n",
       "    }\n",
       "\n",
       "    .dataframe thead th {\n",
       "        text-align: right;\n",
       "    }\n",
       "</style>\n",
       "<table border=\"1\" class=\"dataframe\">\n",
       "  <thead>\n",
       "    <tr style=\"text-align: right;\">\n",
       "      <th></th>\n",
       "      <th>Churn</th>\n",
       "      <th>Internet Service</th>\n",
       "      <th>Monthly Charges</th>\n",
       "      <th>Tenure</th>\n",
       "      <th>Total Charges</th>\n",
       "      <th>churn_bool</th>\n",
       "    </tr>\n",
       "  </thead>\n",
       "  <tbody>\n",
       "    <tr>\n",
       "      <th>0</th>\n",
       "      <td>No</td>\n",
       "      <td>DSL</td>\n",
       "      <td>29.85</td>\n",
       "      <td>1</td>\n",
       "      <td>29.85</td>\n",
       "      <td>0</td>\n",
       "    </tr>\n",
       "    <tr>\n",
       "      <th>1</th>\n",
       "      <td>No</td>\n",
       "      <td>DSL</td>\n",
       "      <td>56.95</td>\n",
       "      <td>34</td>\n",
       "      <td>1889.50</td>\n",
       "      <td>0</td>\n",
       "    </tr>\n",
       "    <tr>\n",
       "      <th>2</th>\n",
       "      <td>Yes</td>\n",
       "      <td>DSL</td>\n",
       "      <td>53.85</td>\n",
       "      <td>2</td>\n",
       "      <td>108.15</td>\n",
       "      <td>1</td>\n",
       "    </tr>\n",
       "    <tr>\n",
       "      <th>3</th>\n",
       "      <td>No</td>\n",
       "      <td>DSL</td>\n",
       "      <td>42.30</td>\n",
       "      <td>45</td>\n",
       "      <td>1840.75</td>\n",
       "      <td>0</td>\n",
       "    </tr>\n",
       "    <tr>\n",
       "      <th>7</th>\n",
       "      <td>No</td>\n",
       "      <td>DSL</td>\n",
       "      <td>29.75</td>\n",
       "      <td>10</td>\n",
       "      <td>301.90</td>\n",
       "      <td>0</td>\n",
       "    </tr>\n",
       "    <tr>\n",
       "      <th>...</th>\n",
       "      <td>...</td>\n",
       "      <td>...</td>\n",
       "      <td>...</td>\n",
       "      <td>...</td>\n",
       "      <td>...</td>\n",
       "      <td>...</td>\n",
       "    </tr>\n",
       "    <tr>\n",
       "      <th>7022</th>\n",
       "      <td>No</td>\n",
       "      <td>DSL</td>\n",
       "      <td>51.00</td>\n",
       "      <td>28</td>\n",
       "      <td>1381.80</td>\n",
       "      <td>0</td>\n",
       "    </tr>\n",
       "    <tr>\n",
       "      <th>7023</th>\n",
       "      <td>No</td>\n",
       "      <td>DSL</td>\n",
       "      <td>80.85</td>\n",
       "      <td>52</td>\n",
       "      <td>4079.55</td>\n",
       "      <td>0</td>\n",
       "    </tr>\n",
       "    <tr>\n",
       "      <th>7024</th>\n",
       "      <td>No</td>\n",
       "      <td>DSL</td>\n",
       "      <td>72.90</td>\n",
       "      <td>71</td>\n",
       "      <td>5139.65</td>\n",
       "      <td>0</td>\n",
       "    </tr>\n",
       "    <tr>\n",
       "      <th>7025</th>\n",
       "      <td>No</td>\n",
       "      <td>DSL</td>\n",
       "      <td>75.15</td>\n",
       "      <td>50</td>\n",
       "      <td>3822.45</td>\n",
       "      <td>0</td>\n",
       "    </tr>\n",
       "    <tr>\n",
       "      <th>7036</th>\n",
       "      <td>Yes</td>\n",
       "      <td>DSL</td>\n",
       "      <td>49.25</td>\n",
       "      <td>1</td>\n",
       "      <td>49.25</td>\n",
       "      <td>1</td>\n",
       "    </tr>\n",
       "  </tbody>\n",
       "</table>\n",
       "<p>2416 rows × 6 columns</p>\n",
       "</div>"
      ],
      "text/plain": [
       "     Churn Internet Service  Monthly Charges  Tenure  Total Charges  \\\n",
       "0       No              DSL            29.85       1          29.85   \n",
       "1       No              DSL            56.95      34        1889.50   \n",
       "2      Yes              DSL            53.85       2         108.15   \n",
       "3       No              DSL            42.30      45        1840.75   \n",
       "7       No              DSL            29.75      10         301.90   \n",
       "...    ...              ...              ...     ...            ...   \n",
       "7022    No              DSL            51.00      28        1381.80   \n",
       "7023    No              DSL            80.85      52        4079.55   \n",
       "7024    No              DSL            72.90      71        5139.65   \n",
       "7025    No              DSL            75.15      50        3822.45   \n",
       "7036   Yes              DSL            49.25       1          49.25   \n",
       "\n",
       "      churn_bool  \n",
       "0              0  \n",
       "1              0  \n",
       "2              1  \n",
       "3              0  \n",
       "7              0  \n",
       "...          ...  \n",
       "7022           0  \n",
       "7023           0  \n",
       "7024           0  \n",
       "7025           0  \n",
       "7036           1  \n",
       "\n",
       "[2416 rows x 6 columns]"
      ]
     },
     "execution_count": 76,
     "metadata": {},
     "output_type": "execute_result"
    }
   ],
   "source": [
    "telco_dsl['churn_bool'] = np.where(telco_dsl.Churn == 'Yes',1,0)\n",
    "telco_dsl"
   ]
  },
  {
   "cell_type": "code",
   "execution_count": 77,
   "id": "ab4ee06b",
   "metadata": {},
   "outputs": [
    {
     "data": {
      "text/html": [
       "<div>\n",
       "<style scoped>\n",
       "    .dataframe tbody tr th:only-of-type {\n",
       "        vertical-align: middle;\n",
       "    }\n",
       "\n",
       "    .dataframe tbody tr th {\n",
       "        vertical-align: top;\n",
       "    }\n",
       "\n",
       "    .dataframe thead th {\n",
       "        text-align: right;\n",
       "    }\n",
       "</style>\n",
       "<table border=\"1\" class=\"dataframe\">\n",
       "  <thead>\n",
       "    <tr style=\"text-align: right;\">\n",
       "      <th></th>\n",
       "      <th>Churn</th>\n",
       "      <th>Internet Service</th>\n",
       "      <th>Monthly Charges</th>\n",
       "      <th>Tenure</th>\n",
       "      <th>Total Charges</th>\n",
       "      <th>churn_bool</th>\n",
       "    </tr>\n",
       "  </thead>\n",
       "  <tbody>\n",
       "    <tr>\n",
       "      <th>4</th>\n",
       "      <td>Yes</td>\n",
       "      <td>Fiber optic</td>\n",
       "      <td>70.70</td>\n",
       "      <td>2</td>\n",
       "      <td>151.65</td>\n",
       "      <td>1</td>\n",
       "    </tr>\n",
       "    <tr>\n",
       "      <th>5</th>\n",
       "      <td>Yes</td>\n",
       "      <td>Fiber optic</td>\n",
       "      <td>99.65</td>\n",
       "      <td>8</td>\n",
       "      <td>820.50</td>\n",
       "      <td>1</td>\n",
       "    </tr>\n",
       "    <tr>\n",
       "      <th>6</th>\n",
       "      <td>No</td>\n",
       "      <td>Fiber optic</td>\n",
       "      <td>89.10</td>\n",
       "      <td>22</td>\n",
       "      <td>1949.40</td>\n",
       "      <td>0</td>\n",
       "    </tr>\n",
       "    <tr>\n",
       "      <th>8</th>\n",
       "      <td>Yes</td>\n",
       "      <td>Fiber optic</td>\n",
       "      <td>104.80</td>\n",
       "      <td>28</td>\n",
       "      <td>3046.05</td>\n",
       "      <td>1</td>\n",
       "    </tr>\n",
       "    <tr>\n",
       "      <th>12</th>\n",
       "      <td>No</td>\n",
       "      <td>Fiber optic</td>\n",
       "      <td>100.35</td>\n",
       "      <td>58</td>\n",
       "      <td>5681.10</td>\n",
       "      <td>0</td>\n",
       "    </tr>\n",
       "    <tr>\n",
       "      <th>...</th>\n",
       "      <td>...</td>\n",
       "      <td>...</td>\n",
       "      <td>...</td>\n",
       "      <td>...</td>\n",
       "      <td>...</td>\n",
       "      <td>...</td>\n",
       "    </tr>\n",
       "    <tr>\n",
       "      <th>7038</th>\n",
       "      <td>Yes</td>\n",
       "      <td>Fiber optic</td>\n",
       "      <td>99.50</td>\n",
       "      <td>66</td>\n",
       "      <td>6822.15</td>\n",
       "      <td>1</td>\n",
       "    </tr>\n",
       "    <tr>\n",
       "      <th>7039</th>\n",
       "      <td>Yes</td>\n",
       "      <td>Fiber optic</td>\n",
       "      <td>84.20</td>\n",
       "      <td>51</td>\n",
       "      <td>4146.05</td>\n",
       "      <td>1</td>\n",
       "    </tr>\n",
       "    <tr>\n",
       "      <th>7040</th>\n",
       "      <td>Yes</td>\n",
       "      <td>Fiber optic</td>\n",
       "      <td>111.95</td>\n",
       "      <td>41</td>\n",
       "      <td>4534.90</td>\n",
       "      <td>1</td>\n",
       "    </tr>\n",
       "    <tr>\n",
       "      <th>7041</th>\n",
       "      <td>Yes</td>\n",
       "      <td>Fiber optic</td>\n",
       "      <td>105.10</td>\n",
       "      <td>71</td>\n",
       "      <td>7548.10</td>\n",
       "      <td>1</td>\n",
       "    </tr>\n",
       "    <tr>\n",
       "      <th>7042</th>\n",
       "      <td>Yes</td>\n",
       "      <td>Fiber optic</td>\n",
       "      <td>100.70</td>\n",
       "      <td>46</td>\n",
       "      <td>4541.20</td>\n",
       "      <td>1</td>\n",
       "    </tr>\n",
       "  </tbody>\n",
       "</table>\n",
       "<p>3096 rows × 6 columns</p>\n",
       "</div>"
      ],
      "text/plain": [
       "     Churn Internet Service  Monthly Charges  Tenure  Total Charges  \\\n",
       "4      Yes      Fiber optic            70.70       2         151.65   \n",
       "5      Yes      Fiber optic            99.65       8         820.50   \n",
       "6       No      Fiber optic            89.10      22        1949.40   \n",
       "8      Yes      Fiber optic           104.80      28        3046.05   \n",
       "12      No      Fiber optic           100.35      58        5681.10   \n",
       "...    ...              ...              ...     ...            ...   \n",
       "7038   Yes      Fiber optic            99.50      66        6822.15   \n",
       "7039   Yes      Fiber optic            84.20      51        4146.05   \n",
       "7040   Yes      Fiber optic           111.95      41        4534.90   \n",
       "7041   Yes      Fiber optic           105.10      71        7548.10   \n",
       "7042   Yes      Fiber optic           100.70      46        4541.20   \n",
       "\n",
       "      churn_bool  \n",
       "4              1  \n",
       "5              1  \n",
       "6              0  \n",
       "8              1  \n",
       "12             0  \n",
       "...          ...  \n",
       "7038           1  \n",
       "7039           1  \n",
       "7040           1  \n",
       "7041           1  \n",
       "7042           1  \n",
       "\n",
       "[3096 rows x 6 columns]"
      ]
     },
     "execution_count": 77,
     "metadata": {},
     "output_type": "execute_result"
    }
   ],
   "source": [
    "telco_fiber = telco_mini_clean[telco_mini_clean['Internet Service'] == 'Fiber optic']\n",
    "telco_fiber"
   ]
  },
  {
   "cell_type": "code",
   "execution_count": 78,
   "id": "387b8d87",
   "metadata": {},
   "outputs": [
    {
     "name": "stderr",
     "output_type": "stream",
     "text": [
      "/var/folders/ty/2pnn6wsj06n_glzjgbmxzlkw0000gn/T/ipykernel_1376/2868321839.py:1: SettingWithCopyWarning: \n",
      "A value is trying to be set on a copy of a slice from a DataFrame.\n",
      "Try using .loc[row_indexer,col_indexer] = value instead\n",
      "\n",
      "See the caveats in the documentation: https://pandas.pydata.org/pandas-docs/stable/user_guide/indexing.html#returning-a-view-versus-a-copy\n",
      "  telco_fiber['churn_bool'] = np.where(telco_fiber.Churn == 'Yes',1,0)\n"
     ]
    },
    {
     "data": {
      "text/html": [
       "<div>\n",
       "<style scoped>\n",
       "    .dataframe tbody tr th:only-of-type {\n",
       "        vertical-align: middle;\n",
       "    }\n",
       "\n",
       "    .dataframe tbody tr th {\n",
       "        vertical-align: top;\n",
       "    }\n",
       "\n",
       "    .dataframe thead th {\n",
       "        text-align: right;\n",
       "    }\n",
       "</style>\n",
       "<table border=\"1\" class=\"dataframe\">\n",
       "  <thead>\n",
       "    <tr style=\"text-align: right;\">\n",
       "      <th></th>\n",
       "      <th>Churn</th>\n",
       "      <th>Internet Service</th>\n",
       "      <th>Monthly Charges</th>\n",
       "      <th>Tenure</th>\n",
       "      <th>Total Charges</th>\n",
       "      <th>churn_bool</th>\n",
       "    </tr>\n",
       "  </thead>\n",
       "  <tbody>\n",
       "    <tr>\n",
       "      <th>4</th>\n",
       "      <td>Yes</td>\n",
       "      <td>Fiber optic</td>\n",
       "      <td>70.70</td>\n",
       "      <td>2</td>\n",
       "      <td>151.65</td>\n",
       "      <td>1</td>\n",
       "    </tr>\n",
       "    <tr>\n",
       "      <th>5</th>\n",
       "      <td>Yes</td>\n",
       "      <td>Fiber optic</td>\n",
       "      <td>99.65</td>\n",
       "      <td>8</td>\n",
       "      <td>820.50</td>\n",
       "      <td>1</td>\n",
       "    </tr>\n",
       "    <tr>\n",
       "      <th>6</th>\n",
       "      <td>No</td>\n",
       "      <td>Fiber optic</td>\n",
       "      <td>89.10</td>\n",
       "      <td>22</td>\n",
       "      <td>1949.40</td>\n",
       "      <td>0</td>\n",
       "    </tr>\n",
       "    <tr>\n",
       "      <th>8</th>\n",
       "      <td>Yes</td>\n",
       "      <td>Fiber optic</td>\n",
       "      <td>104.80</td>\n",
       "      <td>28</td>\n",
       "      <td>3046.05</td>\n",
       "      <td>1</td>\n",
       "    </tr>\n",
       "    <tr>\n",
       "      <th>12</th>\n",
       "      <td>No</td>\n",
       "      <td>Fiber optic</td>\n",
       "      <td>100.35</td>\n",
       "      <td>58</td>\n",
       "      <td>5681.10</td>\n",
       "      <td>0</td>\n",
       "    </tr>\n",
       "    <tr>\n",
       "      <th>...</th>\n",
       "      <td>...</td>\n",
       "      <td>...</td>\n",
       "      <td>...</td>\n",
       "      <td>...</td>\n",
       "      <td>...</td>\n",
       "      <td>...</td>\n",
       "    </tr>\n",
       "    <tr>\n",
       "      <th>7038</th>\n",
       "      <td>Yes</td>\n",
       "      <td>Fiber optic</td>\n",
       "      <td>99.50</td>\n",
       "      <td>66</td>\n",
       "      <td>6822.15</td>\n",
       "      <td>1</td>\n",
       "    </tr>\n",
       "    <tr>\n",
       "      <th>7039</th>\n",
       "      <td>Yes</td>\n",
       "      <td>Fiber optic</td>\n",
       "      <td>84.20</td>\n",
       "      <td>51</td>\n",
       "      <td>4146.05</td>\n",
       "      <td>1</td>\n",
       "    </tr>\n",
       "    <tr>\n",
       "      <th>7040</th>\n",
       "      <td>Yes</td>\n",
       "      <td>Fiber optic</td>\n",
       "      <td>111.95</td>\n",
       "      <td>41</td>\n",
       "      <td>4534.90</td>\n",
       "      <td>1</td>\n",
       "    </tr>\n",
       "    <tr>\n",
       "      <th>7041</th>\n",
       "      <td>Yes</td>\n",
       "      <td>Fiber optic</td>\n",
       "      <td>105.10</td>\n",
       "      <td>71</td>\n",
       "      <td>7548.10</td>\n",
       "      <td>1</td>\n",
       "    </tr>\n",
       "    <tr>\n",
       "      <th>7042</th>\n",
       "      <td>Yes</td>\n",
       "      <td>Fiber optic</td>\n",
       "      <td>100.70</td>\n",
       "      <td>46</td>\n",
       "      <td>4541.20</td>\n",
       "      <td>1</td>\n",
       "    </tr>\n",
       "  </tbody>\n",
       "</table>\n",
       "<p>3096 rows × 6 columns</p>\n",
       "</div>"
      ],
      "text/plain": [
       "     Churn Internet Service  Monthly Charges  Tenure  Total Charges  \\\n",
       "4      Yes      Fiber optic            70.70       2         151.65   \n",
       "5      Yes      Fiber optic            99.65       8         820.50   \n",
       "6       No      Fiber optic            89.10      22        1949.40   \n",
       "8      Yes      Fiber optic           104.80      28        3046.05   \n",
       "12      No      Fiber optic           100.35      58        5681.10   \n",
       "...    ...              ...              ...     ...            ...   \n",
       "7038   Yes      Fiber optic            99.50      66        6822.15   \n",
       "7039   Yes      Fiber optic            84.20      51        4146.05   \n",
       "7040   Yes      Fiber optic           111.95      41        4534.90   \n",
       "7041   Yes      Fiber optic           105.10      71        7548.10   \n",
       "7042   Yes      Fiber optic           100.70      46        4541.20   \n",
       "\n",
       "      churn_bool  \n",
       "4              1  \n",
       "5              1  \n",
       "6              0  \n",
       "8              1  \n",
       "12             0  \n",
       "...          ...  \n",
       "7038           1  \n",
       "7039           1  \n",
       "7040           1  \n",
       "7041           1  \n",
       "7042           1  \n",
       "\n",
       "[3096 rows x 6 columns]"
      ]
     },
     "execution_count": 78,
     "metadata": {},
     "output_type": "execute_result"
    }
   ],
   "source": [
    "telco_fiber['churn_bool'] = np.where(telco_fiber.Churn == 'Yes',1,0)\n",
    "telco_fiber"
   ]
  },
  {
   "cell_type": "code",
   "execution_count": 79,
   "id": "8c947634",
   "metadata": {},
   "outputs": [
    {
     "data": {
      "text/html": [
       "<div>\n",
       "<style scoped>\n",
       "    .dataframe tbody tr th:only-of-type {\n",
       "        vertical-align: middle;\n",
       "    }\n",
       "\n",
       "    .dataframe tbody tr th {\n",
       "        vertical-align: top;\n",
       "    }\n",
       "\n",
       "    .dataframe thead th {\n",
       "        text-align: right;\n",
       "    }\n",
       "</style>\n",
       "<table border=\"1\" class=\"dataframe\">\n",
       "  <thead>\n",
       "    <tr style=\"text-align: right;\">\n",
       "      <th></th>\n",
       "      <th>Churn</th>\n",
       "      <th>Internet Service</th>\n",
       "      <th>Monthly Charges</th>\n",
       "      <th>Tenure</th>\n",
       "      <th>Total Charges</th>\n",
       "      <th>churn_bool</th>\n",
       "    </tr>\n",
       "  </thead>\n",
       "  <tbody>\n",
       "    <tr>\n",
       "      <th>11</th>\n",
       "      <td>No</td>\n",
       "      <td>No</td>\n",
       "      <td>18.95</td>\n",
       "      <td>16</td>\n",
       "      <td>326.80</td>\n",
       "      <td>0</td>\n",
       "    </tr>\n",
       "    <tr>\n",
       "      <th>16</th>\n",
       "      <td>No</td>\n",
       "      <td>No</td>\n",
       "      <td>20.65</td>\n",
       "      <td>52</td>\n",
       "      <td>1022.95</td>\n",
       "      <td>0</td>\n",
       "    </tr>\n",
       "    <tr>\n",
       "      <th>21</th>\n",
       "      <td>No</td>\n",
       "      <td>No</td>\n",
       "      <td>19.80</td>\n",
       "      <td>12</td>\n",
       "      <td>202.25</td>\n",
       "      <td>0</td>\n",
       "    </tr>\n",
       "    <tr>\n",
       "      <th>22</th>\n",
       "      <td>Yes</td>\n",
       "      <td>No</td>\n",
       "      <td>20.15</td>\n",
       "      <td>1</td>\n",
       "      <td>20.15</td>\n",
       "      <td>1</td>\n",
       "    </tr>\n",
       "    <tr>\n",
       "      <th>33</th>\n",
       "      <td>No</td>\n",
       "      <td>No</td>\n",
       "      <td>20.20</td>\n",
       "      <td>1</td>\n",
       "      <td>20.20</td>\n",
       "      <td>0</td>\n",
       "    </tr>\n",
       "    <tr>\n",
       "      <th>...</th>\n",
       "      <td>...</td>\n",
       "      <td>...</td>\n",
       "      <td>...</td>\n",
       "      <td>...</td>\n",
       "      <td>...</td>\n",
       "      <td>...</td>\n",
       "    </tr>\n",
       "    <tr>\n",
       "      <th>6871</th>\n",
       "      <td>No</td>\n",
       "      <td>No</td>\n",
       "      <td>19.35</td>\n",
       "      <td>44</td>\n",
       "      <td>847.25</td>\n",
       "      <td>0</td>\n",
       "    </tr>\n",
       "    <tr>\n",
       "      <th>6938</th>\n",
       "      <td>No</td>\n",
       "      <td>No</td>\n",
       "      <td>25.00</td>\n",
       "      <td>72</td>\n",
       "      <td>1802.55</td>\n",
       "      <td>0</td>\n",
       "    </tr>\n",
       "    <tr>\n",
       "      <th>7015</th>\n",
       "      <td>No</td>\n",
       "      <td>No</td>\n",
       "      <td>19.50</td>\n",
       "      <td>68</td>\n",
       "      <td>1193.55</td>\n",
       "      <td>0</td>\n",
       "    </tr>\n",
       "    <tr>\n",
       "      <th>7016</th>\n",
       "      <td>No</td>\n",
       "      <td>No</td>\n",
       "      <td>19.80</td>\n",
       "      <td>71</td>\n",
       "      <td>1388.45</td>\n",
       "      <td>0</td>\n",
       "    </tr>\n",
       "    <tr>\n",
       "      <th>7035</th>\n",
       "      <td>No</td>\n",
       "      <td>No</td>\n",
       "      <td>24.40</td>\n",
       "      <td>64</td>\n",
       "      <td>1548.65</td>\n",
       "      <td>0</td>\n",
       "    </tr>\n",
       "  </tbody>\n",
       "</table>\n",
       "<p>1520 rows × 6 columns</p>\n",
       "</div>"
      ],
      "text/plain": [
       "     Churn Internet Service  Monthly Charges  Tenure  Total Charges  \\\n",
       "11      No               No            18.95      16         326.80   \n",
       "16      No               No            20.65      52        1022.95   \n",
       "21      No               No            19.80      12         202.25   \n",
       "22     Yes               No            20.15       1          20.15   \n",
       "33      No               No            20.20       1          20.20   \n",
       "...    ...              ...              ...     ...            ...   \n",
       "6871    No               No            19.35      44         847.25   \n",
       "6938    No               No            25.00      72        1802.55   \n",
       "7015    No               No            19.50      68        1193.55   \n",
       "7016    No               No            19.80      71        1388.45   \n",
       "7035    No               No            24.40      64        1548.65   \n",
       "\n",
       "      churn_bool  \n",
       "11             0  \n",
       "16             0  \n",
       "21             0  \n",
       "22             1  \n",
       "33             0  \n",
       "...          ...  \n",
       "6871           0  \n",
       "6938           0  \n",
       "7015           0  \n",
       "7016           0  \n",
       "7035           0  \n",
       "\n",
       "[1520 rows x 6 columns]"
      ]
     },
     "execution_count": 79,
     "metadata": {},
     "output_type": "execute_result"
    }
   ],
   "source": [
    "telco_no = telco_mini_clean[telco_mini_clean['Internet Service'] == 'No']\n",
    "telco_no"
   ]
  },
  {
   "cell_type": "code",
   "execution_count": 80,
   "id": "4706f4ae",
   "metadata": {},
   "outputs": [
    {
     "name": "stderr",
     "output_type": "stream",
     "text": [
      "/var/folders/ty/2pnn6wsj06n_glzjgbmxzlkw0000gn/T/ipykernel_1376/3718113919.py:1: SettingWithCopyWarning: \n",
      "A value is trying to be set on a copy of a slice from a DataFrame.\n",
      "Try using .loc[row_indexer,col_indexer] = value instead\n",
      "\n",
      "See the caveats in the documentation: https://pandas.pydata.org/pandas-docs/stable/user_guide/indexing.html#returning-a-view-versus-a-copy\n",
      "  telco_no['churn_bool'] = np.where(telco_no.Churn == 'Yes',1,0)\n"
     ]
    },
    {
     "data": {
      "text/html": [
       "<div>\n",
       "<style scoped>\n",
       "    .dataframe tbody tr th:only-of-type {\n",
       "        vertical-align: middle;\n",
       "    }\n",
       "\n",
       "    .dataframe tbody tr th {\n",
       "        vertical-align: top;\n",
       "    }\n",
       "\n",
       "    .dataframe thead th {\n",
       "        text-align: right;\n",
       "    }\n",
       "</style>\n",
       "<table border=\"1\" class=\"dataframe\">\n",
       "  <thead>\n",
       "    <tr style=\"text-align: right;\">\n",
       "      <th></th>\n",
       "      <th>Churn</th>\n",
       "      <th>Internet Service</th>\n",
       "      <th>Monthly Charges</th>\n",
       "      <th>Tenure</th>\n",
       "      <th>Total Charges</th>\n",
       "      <th>churn_bool</th>\n",
       "    </tr>\n",
       "  </thead>\n",
       "  <tbody>\n",
       "    <tr>\n",
       "      <th>11</th>\n",
       "      <td>No</td>\n",
       "      <td>No</td>\n",
       "      <td>18.95</td>\n",
       "      <td>16</td>\n",
       "      <td>326.80</td>\n",
       "      <td>0</td>\n",
       "    </tr>\n",
       "    <tr>\n",
       "      <th>16</th>\n",
       "      <td>No</td>\n",
       "      <td>No</td>\n",
       "      <td>20.65</td>\n",
       "      <td>52</td>\n",
       "      <td>1022.95</td>\n",
       "      <td>0</td>\n",
       "    </tr>\n",
       "    <tr>\n",
       "      <th>21</th>\n",
       "      <td>No</td>\n",
       "      <td>No</td>\n",
       "      <td>19.80</td>\n",
       "      <td>12</td>\n",
       "      <td>202.25</td>\n",
       "      <td>0</td>\n",
       "    </tr>\n",
       "    <tr>\n",
       "      <th>22</th>\n",
       "      <td>Yes</td>\n",
       "      <td>No</td>\n",
       "      <td>20.15</td>\n",
       "      <td>1</td>\n",
       "      <td>20.15</td>\n",
       "      <td>1</td>\n",
       "    </tr>\n",
       "    <tr>\n",
       "      <th>33</th>\n",
       "      <td>No</td>\n",
       "      <td>No</td>\n",
       "      <td>20.20</td>\n",
       "      <td>1</td>\n",
       "      <td>20.20</td>\n",
       "      <td>0</td>\n",
       "    </tr>\n",
       "    <tr>\n",
       "      <th>...</th>\n",
       "      <td>...</td>\n",
       "      <td>...</td>\n",
       "      <td>...</td>\n",
       "      <td>...</td>\n",
       "      <td>...</td>\n",
       "      <td>...</td>\n",
       "    </tr>\n",
       "    <tr>\n",
       "      <th>6871</th>\n",
       "      <td>No</td>\n",
       "      <td>No</td>\n",
       "      <td>19.35</td>\n",
       "      <td>44</td>\n",
       "      <td>847.25</td>\n",
       "      <td>0</td>\n",
       "    </tr>\n",
       "    <tr>\n",
       "      <th>6938</th>\n",
       "      <td>No</td>\n",
       "      <td>No</td>\n",
       "      <td>25.00</td>\n",
       "      <td>72</td>\n",
       "      <td>1802.55</td>\n",
       "      <td>0</td>\n",
       "    </tr>\n",
       "    <tr>\n",
       "      <th>7015</th>\n",
       "      <td>No</td>\n",
       "      <td>No</td>\n",
       "      <td>19.50</td>\n",
       "      <td>68</td>\n",
       "      <td>1193.55</td>\n",
       "      <td>0</td>\n",
       "    </tr>\n",
       "    <tr>\n",
       "      <th>7016</th>\n",
       "      <td>No</td>\n",
       "      <td>No</td>\n",
       "      <td>19.80</td>\n",
       "      <td>71</td>\n",
       "      <td>1388.45</td>\n",
       "      <td>0</td>\n",
       "    </tr>\n",
       "    <tr>\n",
       "      <th>7035</th>\n",
       "      <td>No</td>\n",
       "      <td>No</td>\n",
       "      <td>24.40</td>\n",
       "      <td>64</td>\n",
       "      <td>1548.65</td>\n",
       "      <td>0</td>\n",
       "    </tr>\n",
       "  </tbody>\n",
       "</table>\n",
       "<p>1520 rows × 6 columns</p>\n",
       "</div>"
      ],
      "text/plain": [
       "     Churn Internet Service  Monthly Charges  Tenure  Total Charges  \\\n",
       "11      No               No            18.95      16         326.80   \n",
       "16      No               No            20.65      52        1022.95   \n",
       "21      No               No            19.80      12         202.25   \n",
       "22     Yes               No            20.15       1          20.15   \n",
       "33      No               No            20.20       1          20.20   \n",
       "...    ...              ...              ...     ...            ...   \n",
       "6871    No               No            19.35      44         847.25   \n",
       "6938    No               No            25.00      72        1802.55   \n",
       "7015    No               No            19.50      68        1193.55   \n",
       "7016    No               No            19.80      71        1388.45   \n",
       "7035    No               No            24.40      64        1548.65   \n",
       "\n",
       "      churn_bool  \n",
       "11             0  \n",
       "16             0  \n",
       "21             0  \n",
       "22             1  \n",
       "33             0  \n",
       "...          ...  \n",
       "6871           0  \n",
       "6938           0  \n",
       "7015           0  \n",
       "7016           0  \n",
       "7035           0  \n",
       "\n",
       "[1520 rows x 6 columns]"
      ]
     },
     "execution_count": 80,
     "metadata": {},
     "output_type": "execute_result"
    }
   ],
   "source": [
    "telco_no['churn_bool'] = np.where(telco_no.Churn == 'Yes',1,0)\n",
    "telco_no"
   ]
  },
  {
   "cell_type": "code",
   "execution_count": null,
   "id": "8cb1e201",
   "metadata": {},
   "outputs": [],
   "source": []
  },
  {
   "cell_type": "markdown",
   "id": "cb4aba8c",
   "metadata": {},
   "source": [
    "H$_o$ : No linear relationship exists between tenure and DSL\n",
    "\n",
    "H$_a$ : A linear relationship exists between tenure and DSL"
   ]
  },
  {
   "cell_type": "code",
   "execution_count": 81,
   "id": "4fcf013c",
   "metadata": {},
   "outputs": [
    {
     "data": {
      "text/plain": [
       "0.18998344370860928"
      ]
     },
     "execution_count": 81,
     "metadata": {},
     "output_type": "execute_result"
    }
   ],
   "source": [
    "dsl_churn_rate = telco_dsl['churn_bool'].mean()\n",
    "dsl_churn_rate"
   ]
  },
  {
   "cell_type": "code",
   "execution_count": 82,
   "id": "4e657c94",
   "metadata": {},
   "outputs": [
    {
     "data": {
      "text/plain": [
       "0.26578498293515357"
      ]
     },
     "execution_count": 82,
     "metadata": {},
     "output_type": "execute_result"
    }
   ],
   "source": [
    "overall_churn_rate = telco_mini_clean.churn_bool.mean()\n",
    "overall_churn_rate"
   ]
  },
  {
   "cell_type": "markdown",
   "id": "ae197ffc",
   "metadata": {},
   "source": [
    "H$_o$ : No relationship exists between churn and dsl_service\n",
    "\n",
    "H$_a$ : A relationship exists between churn and dsl_service"
   ]
  },
  {
   "cell_type": "code",
   "execution_count": 83,
   "id": "0225cd4d",
   "metadata": {},
   "outputs": [
    {
     "data": {
      "text/plain": [
       "Ttest_1sampResult(statistic=-9.495804535789087, pvalue=5.05932654935854e-21)"
      ]
     },
     "execution_count": 83,
     "metadata": {},
     "output_type": "execute_result"
    }
   ],
   "source": [
    "# DOES TENURE CORRELATE with DSL?\n",
    "\n",
    "# ACTUALLY DO THE TEST NOW\n",
    "\n",
    "stats.ttest_1samp(telco_dsl.churn_bool,overall_churn_rate)\n",
    "# with a p_value close to ZERO, reject the NULL"
   ]
  },
  {
   "cell_type": "markdown",
   "id": "f8ad634d",
   "metadata": {},
   "source": [
    "H$_o$ : No relationship exists between tenure and fiber_service\n",
    "\n",
    "H$_a$ : A relationship exists between tenure and fiber_service"
   ]
  },
  {
   "cell_type": "code",
   "execution_count": 84,
   "id": "b440d8f9",
   "metadata": {},
   "outputs": [
    {
     "data": {
      "text/plain": [
       "Ttest_1sampResult(statistic=17.2679948813092, pvalue=7.33932462434686e-64)"
      ]
     },
     "execution_count": 84,
     "metadata": {},
     "output_type": "execute_result"
    }
   ],
   "source": [
    "# DOES TENURE CORRELATE with FIBER?\n",
    "\n",
    "# ACTUALLY DO THE TEST NOW\n",
    "\n",
    "stats.ttest_1samp(telco_fiber.churn_bool,overall_churn_rate)\n",
    "# with a p_value close to ZERO, reject the NULL"
   ]
  },
  {
   "cell_type": "code",
   "execution_count": 85,
   "id": "b5c2d4de",
   "metadata": {
    "scrolled": true
   },
   "outputs": [
    {
     "data": {
      "text/plain": [
       "0.4189276485788114"
      ]
     },
     "execution_count": 85,
     "metadata": {},
     "output_type": "execute_result"
    }
   ],
   "source": [
    "fiber_churn_rate = telco_fiber['churn_bool'].mean()\n",
    "fiber_churn_rate"
   ]
  },
  {
   "cell_type": "markdown",
   "id": "1cdea4d6",
   "metadata": {},
   "source": [
    "H$_o$ : No relationship exists between tenure and no_service\n",
    "\n",
    "H$_a$ : A relationship exists between tenure and no_service"
   ]
  },
  {
   "cell_type": "code",
   "execution_count": 86,
   "id": "ea371cd7",
   "metadata": {},
   "outputs": [
    {
     "data": {
      "text/plain": [
       "Ttest_1sampResult(statistic=-28.443001104822972, pvalue=5.117051100400308e-143)"
      ]
     },
     "execution_count": 86,
     "metadata": {},
     "output_type": "execute_result"
    }
   ],
   "source": [
    "# DOES TENURE CORRELATE with No?\n",
    "\n",
    "# ACTUALLY DO THE TEST NOW\n",
    "\n",
    "stats.ttest_1samp(telco_no.churn_bool,overall_churn_rate)\n",
    "# with a p_value close to ZERO, reject the NULL"
   ]
  },
  {
   "cell_type": "code",
   "execution_count": null,
   "id": "faed93ec",
   "metadata": {},
   "outputs": [],
   "source": []
  },
  {
   "cell_type": "code",
   "execution_count": 87,
   "id": "9708c1ec",
   "metadata": {},
   "outputs": [],
   "source": [
    "import env\n",
    "# [protocol]://[user]:[password]@[host]/[database_name]\n",
    "# mysql+pymysql://codeup:p@assw0rd@123.123.123.123/some_db\n",
    "# def get_db_url(u_name,pwd,h_name,db_name):\n",
    "#     url = f'mysql+pymysql://{u_name}:{pwd}@{h_name}/{db_name}'\n",
    "#     return url\n",
    "query_emp = 'SELECT e.emp_no, e.hire_date, s.to_date, s.salary,\\\n",
    "DATEDIFF(\"2002-01-01\",e.hire_date),COUNT(t.title) \\\n",
    "FROM employees as e JOIN salaries as s ON e.emp_no = s.emp_no JOIN titles as t ON e.emp_no = t.emp_no \\\n",
    "WHERE YEAR(s.to_date) = 9999 GROUP BY e.emp_no,s.to_date,s.salary;'\n"
   ]
  },
  {
   "cell_type": "code",
   "execution_count": 88,
   "id": "88639c56",
   "metadata": {},
   "outputs": [
    {
     "data": {
      "text/html": [
       "<div>\n",
       "<style scoped>\n",
       "    .dataframe tbody tr th:only-of-type {\n",
       "        vertical-align: middle;\n",
       "    }\n",
       "\n",
       "    .dataframe tbody tr th {\n",
       "        vertical-align: top;\n",
       "    }\n",
       "\n",
       "    .dataframe thead th {\n",
       "        text-align: right;\n",
       "    }\n",
       "</style>\n",
       "<table border=\"1\" class=\"dataframe\">\n",
       "  <thead>\n",
       "    <tr style=\"text-align: right;\">\n",
       "      <th></th>\n",
       "      <th>emp_no</th>\n",
       "      <th>hire_date</th>\n",
       "      <th>to_date</th>\n",
       "      <th>salary</th>\n",
       "      <th>DATEDIFF(\"2002-01-01\",e.hire_date)</th>\n",
       "      <th>COUNT(t.title)</th>\n",
       "    </tr>\n",
       "  </thead>\n",
       "  <tbody>\n",
       "    <tr>\n",
       "      <th>0</th>\n",
       "      <td>10001</td>\n",
       "      <td>1986-06-26</td>\n",
       "      <td>9999-01-01</td>\n",
       "      <td>88958</td>\n",
       "      <td>5668</td>\n",
       "      <td>1</td>\n",
       "    </tr>\n",
       "    <tr>\n",
       "      <th>1</th>\n",
       "      <td>10002</td>\n",
       "      <td>1985-11-21</td>\n",
       "      <td>9999-01-01</td>\n",
       "      <td>72527</td>\n",
       "      <td>5885</td>\n",
       "      <td>1</td>\n",
       "    </tr>\n",
       "    <tr>\n",
       "      <th>2</th>\n",
       "      <td>10003</td>\n",
       "      <td>1986-08-28</td>\n",
       "      <td>9999-01-01</td>\n",
       "      <td>43311</td>\n",
       "      <td>5605</td>\n",
       "      <td>1</td>\n",
       "    </tr>\n",
       "    <tr>\n",
       "      <th>3</th>\n",
       "      <td>10004</td>\n",
       "      <td>1986-12-01</td>\n",
       "      <td>9999-01-01</td>\n",
       "      <td>74057</td>\n",
       "      <td>5510</td>\n",
       "      <td>2</td>\n",
       "    </tr>\n",
       "    <tr>\n",
       "      <th>4</th>\n",
       "      <td>10005</td>\n",
       "      <td>1989-09-12</td>\n",
       "      <td>9999-01-01</td>\n",
       "      <td>94692</td>\n",
       "      <td>4494</td>\n",
       "      <td>2</td>\n",
       "    </tr>\n",
       "    <tr>\n",
       "      <th>...</th>\n",
       "      <td>...</td>\n",
       "      <td>...</td>\n",
       "      <td>...</td>\n",
       "      <td>...</td>\n",
       "      <td>...</td>\n",
       "      <td>...</td>\n",
       "    </tr>\n",
       "    <tr>\n",
       "      <th>240119</th>\n",
       "      <td>499995</td>\n",
       "      <td>1993-01-12</td>\n",
       "      <td>9999-01-01</td>\n",
       "      <td>52868</td>\n",
       "      <td>3276</td>\n",
       "      <td>1</td>\n",
       "    </tr>\n",
       "    <tr>\n",
       "      <th>240120</th>\n",
       "      <td>499996</td>\n",
       "      <td>1990-09-27</td>\n",
       "      <td>9999-01-01</td>\n",
       "      <td>69501</td>\n",
       "      <td>4114</td>\n",
       "      <td>2</td>\n",
       "    </tr>\n",
       "    <tr>\n",
       "      <th>240121</th>\n",
       "      <td>499997</td>\n",
       "      <td>1986-04-21</td>\n",
       "      <td>9999-01-01</td>\n",
       "      <td>83441</td>\n",
       "      <td>5734</td>\n",
       "      <td>2</td>\n",
       "    </tr>\n",
       "    <tr>\n",
       "      <th>240122</th>\n",
       "      <td>499998</td>\n",
       "      <td>1993-10-13</td>\n",
       "      <td>9999-01-01</td>\n",
       "      <td>55003</td>\n",
       "      <td>3002</td>\n",
       "      <td>2</td>\n",
       "    </tr>\n",
       "    <tr>\n",
       "      <th>240123</th>\n",
       "      <td>499999</td>\n",
       "      <td>1997-11-30</td>\n",
       "      <td>9999-01-01</td>\n",
       "      <td>77303</td>\n",
       "      <td>1493</td>\n",
       "      <td>1</td>\n",
       "    </tr>\n",
       "  </tbody>\n",
       "</table>\n",
       "<p>240124 rows × 6 columns</p>\n",
       "</div>"
      ],
      "text/plain": [
       "        emp_no   hire_date     to_date  salary  \\\n",
       "0        10001  1986-06-26  9999-01-01   88958   \n",
       "1        10002  1985-11-21  9999-01-01   72527   \n",
       "2        10003  1986-08-28  9999-01-01   43311   \n",
       "3        10004  1986-12-01  9999-01-01   74057   \n",
       "4        10005  1989-09-12  9999-01-01   94692   \n",
       "...        ...         ...         ...     ...   \n",
       "240119  499995  1993-01-12  9999-01-01   52868   \n",
       "240120  499996  1990-09-27  9999-01-01   69501   \n",
       "240121  499997  1986-04-21  9999-01-01   83441   \n",
       "240122  499998  1993-10-13  9999-01-01   55003   \n",
       "240123  499999  1997-11-30  9999-01-01   77303   \n",
       "\n",
       "        DATEDIFF(\"2002-01-01\",e.hire_date)  COUNT(t.title)  \n",
       "0                                     5668               1  \n",
       "1                                     5885               1  \n",
       "2                                     5605               1  \n",
       "3                                     5510               2  \n",
       "4                                     4494               2  \n",
       "...                                    ...             ...  \n",
       "240119                                3276               1  \n",
       "240120                                4114               2  \n",
       "240121                                5734               2  \n",
       "240122                                3002               2  \n",
       "240123                                1493               1  \n",
       "\n",
       "[240124 rows x 6 columns]"
      ]
     },
     "execution_count": 88,
     "metadata": {},
     "output_type": "execute_result"
    }
   ],
   "source": [
    "emp_df = pd.read_sql(query_emp,env.get_db_url(env.uname,env.pwd,env.host,'employees'))\n",
    "emp_df"
   ]
  },
  {
   "cell_type": "code",
   "execution_count": 89,
   "id": "07eff48e",
   "metadata": {},
   "outputs": [
    {
     "data": {
      "text/html": [
       "<div>\n",
       "<style scoped>\n",
       "    .dataframe tbody tr th:only-of-type {\n",
       "        vertical-align: middle;\n",
       "    }\n",
       "\n",
       "    .dataframe tbody tr th {\n",
       "        vertical-align: top;\n",
       "    }\n",
       "\n",
       "    .dataframe thead th {\n",
       "        text-align: right;\n",
       "    }\n",
       "</style>\n",
       "<table border=\"1\" class=\"dataframe\">\n",
       "  <thead>\n",
       "    <tr style=\"text-align: right;\">\n",
       "      <th></th>\n",
       "      <th>emp_no</th>\n",
       "      <th>hire_date</th>\n",
       "      <th>to_date</th>\n",
       "      <th>salary</th>\n",
       "      <th>days</th>\n",
       "      <th>COUNT(t.title)</th>\n",
       "    </tr>\n",
       "  </thead>\n",
       "  <tbody>\n",
       "    <tr>\n",
       "      <th>0</th>\n",
       "      <td>10001</td>\n",
       "      <td>1986-06-26</td>\n",
       "      <td>9999-01-01</td>\n",
       "      <td>88958</td>\n",
       "      <td>5668</td>\n",
       "      <td>1</td>\n",
       "    </tr>\n",
       "    <tr>\n",
       "      <th>1</th>\n",
       "      <td>10002</td>\n",
       "      <td>1985-11-21</td>\n",
       "      <td>9999-01-01</td>\n",
       "      <td>72527</td>\n",
       "      <td>5885</td>\n",
       "      <td>1</td>\n",
       "    </tr>\n",
       "    <tr>\n",
       "      <th>2</th>\n",
       "      <td>10003</td>\n",
       "      <td>1986-08-28</td>\n",
       "      <td>9999-01-01</td>\n",
       "      <td>43311</td>\n",
       "      <td>5605</td>\n",
       "      <td>1</td>\n",
       "    </tr>\n",
       "    <tr>\n",
       "      <th>3</th>\n",
       "      <td>10004</td>\n",
       "      <td>1986-12-01</td>\n",
       "      <td>9999-01-01</td>\n",
       "      <td>74057</td>\n",
       "      <td>5510</td>\n",
       "      <td>2</td>\n",
       "    </tr>\n",
       "    <tr>\n",
       "      <th>4</th>\n",
       "      <td>10005</td>\n",
       "      <td>1989-09-12</td>\n",
       "      <td>9999-01-01</td>\n",
       "      <td>94692</td>\n",
       "      <td>4494</td>\n",
       "      <td>2</td>\n",
       "    </tr>\n",
       "    <tr>\n",
       "      <th>...</th>\n",
       "      <td>...</td>\n",
       "      <td>...</td>\n",
       "      <td>...</td>\n",
       "      <td>...</td>\n",
       "      <td>...</td>\n",
       "      <td>...</td>\n",
       "    </tr>\n",
       "    <tr>\n",
       "      <th>240119</th>\n",
       "      <td>499995</td>\n",
       "      <td>1993-01-12</td>\n",
       "      <td>9999-01-01</td>\n",
       "      <td>52868</td>\n",
       "      <td>3276</td>\n",
       "      <td>1</td>\n",
       "    </tr>\n",
       "    <tr>\n",
       "      <th>240120</th>\n",
       "      <td>499996</td>\n",
       "      <td>1990-09-27</td>\n",
       "      <td>9999-01-01</td>\n",
       "      <td>69501</td>\n",
       "      <td>4114</td>\n",
       "      <td>2</td>\n",
       "    </tr>\n",
       "    <tr>\n",
       "      <th>240121</th>\n",
       "      <td>499997</td>\n",
       "      <td>1986-04-21</td>\n",
       "      <td>9999-01-01</td>\n",
       "      <td>83441</td>\n",
       "      <td>5734</td>\n",
       "      <td>2</td>\n",
       "    </tr>\n",
       "    <tr>\n",
       "      <th>240122</th>\n",
       "      <td>499998</td>\n",
       "      <td>1993-10-13</td>\n",
       "      <td>9999-01-01</td>\n",
       "      <td>55003</td>\n",
       "      <td>3002</td>\n",
       "      <td>2</td>\n",
       "    </tr>\n",
       "    <tr>\n",
       "      <th>240123</th>\n",
       "      <td>499999</td>\n",
       "      <td>1997-11-30</td>\n",
       "      <td>9999-01-01</td>\n",
       "      <td>77303</td>\n",
       "      <td>1493</td>\n",
       "      <td>1</td>\n",
       "    </tr>\n",
       "  </tbody>\n",
       "</table>\n",
       "<p>240124 rows × 6 columns</p>\n",
       "</div>"
      ],
      "text/plain": [
       "        emp_no   hire_date     to_date  salary  days  COUNT(t.title)\n",
       "0        10001  1986-06-26  9999-01-01   88958  5668               1\n",
       "1        10002  1985-11-21  9999-01-01   72527  5885               1\n",
       "2        10003  1986-08-28  9999-01-01   43311  5605               1\n",
       "3        10004  1986-12-01  9999-01-01   74057  5510               2\n",
       "4        10005  1989-09-12  9999-01-01   94692  4494               2\n",
       "...        ...         ...         ...     ...   ...             ...\n",
       "240119  499995  1993-01-12  9999-01-01   52868  3276               1\n",
       "240120  499996  1990-09-27  9999-01-01   69501  4114               2\n",
       "240121  499997  1986-04-21  9999-01-01   83441  5734               2\n",
       "240122  499998  1993-10-13  9999-01-01   55003  3002               2\n",
       "240123  499999  1997-11-30  9999-01-01   77303  1493               1\n",
       "\n",
       "[240124 rows x 6 columns]"
      ]
     },
     "execution_count": 89,
     "metadata": {},
     "output_type": "execute_result"
    }
   ],
   "source": [
    "emp_df.rename(columns={'DATEDIFF(\"2002-01-01\",e.hire_date)':'days'},inplace=True)\n",
    "emp_df"
   ]
  },
  {
   "cell_type": "code",
   "execution_count": 90,
   "id": "747b4b25",
   "metadata": {},
   "outputs": [
    {
     "data": {
      "image/png": "[encoded data removed]",
      "text/plain": [
       "<Figure size 1000x1000 with 14 Axes>"
      ]
     },
     "metadata": {},
     "output_type": "display_data"
    }
   ],
   "source": [
    "sns.pairplot(emp_df, corner=True)\n",
    "plt.show()"
   ]
  },
  {
   "cell_type": "markdown",
   "id": "cd99475a",
   "metadata": {},
   "source": [
    "H$_o$ : No linear relationship exists between days and salary\n",
    "\n",
    "H$_a$ : A linear relationship exists between days and salary"
   ]
  },
  {
   "cell_type": "code",
   "execution_count": 91,
   "id": "467d0b50",
   "metadata": {},
   "outputs": [
    {
     "data": {
      "text/plain": [
       "(0.3064625613186014, 0.0)"
      ]
     },
     "execution_count": 91,
     "metadata": {},
     "output_type": "execute_result"
    }
   ],
   "source": [
    "days = emp_df['days']\n",
    "salary = emp_df.salary\n",
    "r,p = stats.pearsonr(days,salary)\n",
    "r,p"
   ]
  },
  {
   "cell_type": "code",
   "execution_count": 92,
   "id": "f8b03235",
   "metadata": {},
   "outputs": [
    {
     "data": {
      "text/plain": [
       "True"
      ]
     },
     "execution_count": 92,
     "metadata": {},
     "output_type": "execute_result"
    }
   ],
   "source": [
    "# confidence level : 0.95\n",
    "check_α = 0.05\n",
    "p < check_α # We can REJECT the null...ie a linear relationship exists, but it is very weak r = 0.306"
   ]
  },
  {
   "cell_type": "markdown",
   "id": "ec441d79",
   "metadata": {},
   "source": [
    "H$_o$ : No linear relationship exists between days and COUNT(titles)\n",
    "\n",
    "H$_a$ : A linear relationship exists between days and COUNT(titles)"
   ]
  },
  {
   "cell_type": "code",
   "execution_count": 93,
   "id": "ede8e86d",
   "metadata": {},
   "outputs": [
    {
     "data": {
      "text/plain": [
       "(0.2871267889704734, 0.0)"
      ]
     },
     "execution_count": 93,
     "metadata": {},
     "output_type": "execute_result"
    }
   ],
   "source": [
    "days = emp_df['days']\n",
    "titles = emp_df['COUNT(t.title)']\n",
    "r,p = stats.pearsonr(days,titles)\n",
    "r,p"
   ]
  },
  {
   "cell_type": "code",
   "execution_count": 94,
   "id": "853f7771",
   "metadata": {},
   "outputs": [
    {
     "data": {
      "text/plain": [
       "True"
      ]
     },
     "execution_count": 94,
     "metadata": {},
     "output_type": "execute_result"
    }
   ],
   "source": [
    "# confidence level : 0.95\n",
    "check_α = 0.05\n",
    "p < check_α # We can REJECT the null...ie a linear relationship exists, but it is very weak r = 0.287"
   ]
  },
  {
   "cell_type": "markdown",
   "id": "51427b6e",
   "metadata": {},
   "source": [
    "###### SLEEPSTUDY"
   ]
  },
  {
   "cell_type": "code",
   "execution_count": 95,
   "id": "aac2db15",
   "metadata": {},
   "outputs": [
    {
     "data": {
      "text/html": [
       "<div>\n",
       "<style scoped>\n",
       "    .dataframe tbody tr th:only-of-type {\n",
       "        vertical-align: middle;\n",
       "    }\n",
       "\n",
       "    .dataframe tbody tr th {\n",
       "        vertical-align: top;\n",
       "    }\n",
       "\n",
       "    .dataframe thead th {\n",
       "        text-align: right;\n",
       "    }\n",
       "</style>\n",
       "<table border=\"1\" class=\"dataframe\">\n",
       "  <thead>\n",
       "    <tr style=\"text-align: right;\">\n",
       "      <th></th>\n",
       "      <th>Reaction</th>\n",
       "      <th>Days</th>\n",
       "      <th>Subject</th>\n",
       "    </tr>\n",
       "  </thead>\n",
       "  <tbody>\n",
       "    <tr>\n",
       "      <th>1</th>\n",
       "      <td>249.5600</td>\n",
       "      <td>0</td>\n",
       "      <td>308</td>\n",
       "    </tr>\n",
       "    <tr>\n",
       "      <th>2</th>\n",
       "      <td>258.7047</td>\n",
       "      <td>1</td>\n",
       "      <td>308</td>\n",
       "    </tr>\n",
       "    <tr>\n",
       "      <th>3</th>\n",
       "      <td>250.8006</td>\n",
       "      <td>2</td>\n",
       "      <td>308</td>\n",
       "    </tr>\n",
       "    <tr>\n",
       "      <th>4</th>\n",
       "      <td>321.4398</td>\n",
       "      <td>3</td>\n",
       "      <td>308</td>\n",
       "    </tr>\n",
       "    <tr>\n",
       "      <th>5</th>\n",
       "      <td>356.8519</td>\n",
       "      <td>4</td>\n",
       "      <td>308</td>\n",
       "    </tr>\n",
       "  </tbody>\n",
       "</table>\n",
       "</div>"
      ],
      "text/plain": [
       "   Reaction  Days  Subject\n",
       "1  249.5600     0      308\n",
       "2  258.7047     1      308\n",
       "3  250.8006     2      308\n",
       "4  321.4398     3      308\n",
       "5  356.8519     4      308"
      ]
     },
     "execution_count": 95,
     "metadata": {},
     "output_type": "execute_result"
    }
   ],
   "source": [
    "sleep = data('sleepstudy')\n",
    "sleep.head()"
   ]
  },
  {
   "cell_type": "code",
   "execution_count": 96,
   "id": "ef7f8315",
   "metadata": {},
   "outputs": [
    {
     "name": "stdout",
     "output_type": "stream",
     "text": [
      "<class 'pandas.core.frame.DataFrame'>\n",
      "Int64Index: 180 entries, 1 to 180\n",
      "Data columns (total 3 columns):\n",
      " #   Column    Non-Null Count  Dtype  \n",
      "---  ------    --------------  -----  \n",
      " 0   Reaction  180 non-null    float64\n",
      " 1   Days      180 non-null    int64  \n",
      " 2   Subject   180 non-null    int64  \n",
      "dtypes: float64(1), int64(2)\n",
      "memory usage: 5.6 KB\n"
     ]
    }
   ],
   "source": [
    "sleep.info()"
   ]
  },
  {
   "cell_type": "code",
   "execution_count": null,
   "id": "f595b3ce",
   "metadata": {},
   "outputs": [],
   "source": [
    "# RElationship between DAYS and REACTION TIME?"
   ]
  },
  {
   "cell_type": "code",
   "execution_count": 97,
   "id": "a5d93379",
   "metadata": {
    "scrolled": true
   },
   "outputs": [
    {
     "data": {
      "image/png": "[encoded data removed]",
      "text/plain": [
       "<Figure size 750x750 with 12 Axes>"
      ]
     },
     "metadata": {},
     "output_type": "display_data"
    }
   ],
   "source": [
    "sns.pairplot(sleep, corner=False)\n",
    "plt.show()"
   ]
  },
  {
   "cell_type": "markdown",
   "id": "427937bd",
   "metadata": {},
   "source": [
    "H$_o$ : No linear relationship exists between days and reaction time\n",
    "\n",
    "H$_a$ : A linear relationship exists between days and reaction time"
   ]
  },
  {
   "cell_type": "code",
   "execution_count": 98,
   "id": "253bb1fd",
   "metadata": {},
   "outputs": [
    {
     "data": {
      "text/plain": [
       "(0.5352302262650255, 9.89409632221439e-15)"
      ]
     },
     "execution_count": 98,
     "metadata": {},
     "output_type": "execute_result"
    }
   ],
   "source": [
    "days = sleep.Days\n",
    "react_time = sleep.Reaction\n",
    "r,p = stats.pearsonr(days,react_time)\n",
    "r,p"
   ]
  },
  {
   "cell_type": "code",
   "execution_count": 99,
   "id": "945ba6a8",
   "metadata": {},
   "outputs": [
    {
     "data": {
      "text/plain": [
       "True"
      ]
     },
     "execution_count": 99,
     "metadata": {},
     "output_type": "execute_result"
    }
   ],
   "source": [
    "# confidence level : 0.95\n",
    "check_α = 0.05\n",
    "p < check_α # We can REJECT the null...ie a linear relationship exists, but it is not strong r = 0.535"
   ]
  },
  {
   "cell_type": "markdown",
   "id": "e8e301de",
   "metadata": {},
   "source": [
    "## COMPARISON of GROUPS"
   ]
  },
  {
   "cell_type": "code",
   "execution_count": null,
   "id": "71afed78",
   "metadata": {},
   "outputs": [],
   "source": [
    "# 1a Better grades if Rubber Duck?   2-sample, 1-tailed T-Test_ind\n",
    "# 1b Smoking  Chi-Square Test (two categorical)\n",
    "# 1c Gender independent of Blood Type? Chi-Square (two categorical)\n",
    "# 1d New fertilizer IMPROVE yield?  1-sample, 1-tailed  T-test_1samp\n",
    "# 1e Length of lecture correlated with student grade?  Pearson's r test for correlation\n",
    "# 1f Peeps with dogs live in apts more than those with cats?  Using rates of apt_living, use 2-sample, 1-tailed T-test_ind\n"
   ]
  },
  {
   "cell_type": "code",
   "execution_count": null,
   "id": "69b8bd03",
   "metadata": {},
   "outputs": [],
   "source": [
    "# 2 USing a MACBOOK and being a codeup student are independent of each other"
   ]
  },
  {
   "cell_type": "code",
   "execution_count": 100,
   "id": "1fe25e82",
   "metadata": {},
   "outputs": [],
   "source": [
    "# Build the DF:\n",
    "\n",
    "macbook_df = pd.DataFrame({\n",
    "                           'Codeup':[49,1],\n",
    "                           'Not_Codeup':[20,30]\n",
    "                            }\n",
    "                         )"
   ]
  },
  {
   "cell_type": "code",
   "execution_count": 101,
   "id": "bc3eca09",
   "metadata": {},
   "outputs": [
    {
     "data": {
      "text/html": [
       "<div>\n",
       "<style scoped>\n",
       "    .dataframe tbody tr th:only-of-type {\n",
       "        vertical-align: middle;\n",
       "    }\n",
       "\n",
       "    .dataframe tbody tr th {\n",
       "        vertical-align: top;\n",
       "    }\n",
       "\n",
       "    .dataframe thead th {\n",
       "        text-align: right;\n",
       "    }\n",
       "</style>\n",
       "<table border=\"1\" class=\"dataframe\">\n",
       "  <thead>\n",
       "    <tr style=\"text-align: right;\">\n",
       "      <th></th>\n",
       "      <th>Codeup</th>\n",
       "      <th>Not_Codeup</th>\n",
       "    </tr>\n",
       "  </thead>\n",
       "  <tbody>\n",
       "    <tr>\n",
       "      <th>0</th>\n",
       "      <td>49</td>\n",
       "      <td>20</td>\n",
       "    </tr>\n",
       "    <tr>\n",
       "      <th>1</th>\n",
       "      <td>1</td>\n",
       "      <td>30</td>\n",
       "    </tr>\n",
       "  </tbody>\n",
       "</table>\n",
       "</div>"
      ],
      "text/plain": [
       "   Codeup  Not_Codeup\n",
       "0      49          20\n",
       "1       1          30"
      ]
     },
     "execution_count": 101,
     "metadata": {},
     "output_type": "execute_result"
    }
   ],
   "source": [
    "macbook_df"
   ]
  },
  {
   "cell_type": "code",
   "execution_count": 102,
   "id": "150b2c1b",
   "metadata": {},
   "outputs": [
    {
     "data": {
      "text/html": [
       "<div>\n",
       "<style scoped>\n",
       "    .dataframe tbody tr th:only-of-type {\n",
       "        vertical-align: middle;\n",
       "    }\n",
       "\n",
       "    .dataframe tbody tr th {\n",
       "        vertical-align: top;\n",
       "    }\n",
       "\n",
       "    .dataframe thead th {\n",
       "        text-align: right;\n",
       "    }\n",
       "</style>\n",
       "<table border=\"1\" class=\"dataframe\">\n",
       "  <thead>\n",
       "    <tr style=\"text-align: right;\">\n",
       "      <th></th>\n",
       "      <th>Codeup</th>\n",
       "      <th>Not_Codeup</th>\n",
       "    </tr>\n",
       "  </thead>\n",
       "  <tbody>\n",
       "    <tr>\n",
       "      <th>UseMac</th>\n",
       "      <td>49</td>\n",
       "      <td>20</td>\n",
       "    </tr>\n",
       "    <tr>\n",
       "      <th>NoMac</th>\n",
       "      <td>1</td>\n",
       "      <td>30</td>\n",
       "    </tr>\n",
       "  </tbody>\n",
       "</table>\n",
       "</div>"
      ],
      "text/plain": [
       "        Codeup  Not_Codeup\n",
       "UseMac      49          20\n",
       "NoMac        1          30"
      ]
     },
     "execution_count": 102,
     "metadata": {},
     "output_type": "execute_result"
    }
   ],
   "source": [
    "macbook_df.rename(index={0:'UseMac',1:'NoMac'},inplace=True)\n",
    "macbook_df"
   ]
  },
  {
   "cell_type": "markdown",
   "id": "52592570",
   "metadata": {},
   "source": [
    "H$_o$ : The variables of MAC and CODEUP are independent of one another\n",
    "\n",
    "H$_a$ : There is dependency between vehicle MAC and CODEUP"
   ]
  },
  {
   "cell_type": "code",
   "execution_count": 103,
   "id": "c2398267",
   "metadata": {},
   "outputs": [
    {
     "data": {
      "text/plain": [
       "(36.65264142122487,\n",
       " 1.4116760526193828e-09,\n",
       " 1,\n",
       " array([[34.5, 34.5],\n",
       "        [15.5, 15.5]]))"
      ]
     },
     "execution_count": 103,
     "metadata": {},
     "output_type": "execute_result"
    }
   ],
   "source": [
    "stats.chi2_contingency(macbook_df)"
   ]
  },
  {
   "cell_type": "code",
   "execution_count": 104,
   "id": "3d5e4d8d",
   "metadata": {},
   "outputs": [
    {
     "data": {
      "text/plain": [
       "1.4116760526193828e-09"
      ]
     },
     "execution_count": 104,
     "metadata": {},
     "output_type": "execute_result"
    }
   ],
   "source": [
    "chi2,p,dof,exp_val = stats.chi2_contingency(macbook_df)\n",
    "p"
   ]
  },
  {
   "cell_type": "code",
   "execution_count": 105,
   "id": "c8c9de28",
   "metadata": {},
   "outputs": [
    {
     "data": {
      "text/plain": [
       "True"
      ]
     },
     "execution_count": 105,
     "metadata": {},
     "output_type": "execute_result"
    }
   ],
   "source": [
    "p < check_α # REJECT the NULL, with 95% confidence, there is evidence to suggest that a dependency exists \n",
    "# between MAC USE and CODEUP STATUS"
   ]
  },
  {
   "cell_type": "code",
   "execution_count": null,
   "id": "d4c606c7",
   "metadata": {},
   "outputs": [],
   "source": []
  },
  {
   "cell_type": "code",
   "execution_count": null,
   "id": "23f823ed",
   "metadata": {},
   "outputs": [],
   "source": [
    "# 3 Using MPG dataset, choose 2 categorical variables and perform chi-square"
   ]
  },
  {
   "cell_type": "code",
   "execution_count": 106,
   "id": "ac85fabe",
   "metadata": {},
   "outputs": [
    {
     "name": "stdout",
     "output_type": "stream",
     "text": [
      "<class 'pandas.core.frame.DataFrame'>\n",
      "Int64Index: 234 entries, 1 to 234\n",
      "Data columns (total 11 columns):\n",
      " #   Column        Non-Null Count  Dtype  \n",
      "---  ------        --------------  -----  \n",
      " 0   manufacturer  234 non-null    object \n",
      " 1   model         234 non-null    object \n",
      " 2   displ         234 non-null    float64\n",
      " 3   year          234 non-null    int64  \n",
      " 4   cyl           234 non-null    int64  \n",
      " 5   trans         234 non-null    object \n",
      " 6   drv           234 non-null    object \n",
      " 7   cty           234 non-null    int64  \n",
      " 8   hwy           234 non-null    int64  \n",
      " 9   fl            234 non-null    object \n",
      " 10  class         234 non-null    object \n",
      "dtypes: float64(1), int64(4), object(6)\n",
      "memory usage: 21.9+ KB\n"
     ]
    }
   ],
   "source": [
    "mpg= data('mpg')\n",
    "mpg.info()"
   ]
  },
  {
   "cell_type": "code",
   "execution_count": 107,
   "id": "11d46186",
   "metadata": {
    "scrolled": true
   },
   "outputs": [
    {
     "data": {
      "text/html": [
       "<div>\n",
       "<style scoped>\n",
       "    .dataframe tbody tr th:only-of-type {\n",
       "        vertical-align: middle;\n",
       "    }\n",
       "\n",
       "    .dataframe tbody tr th {\n",
       "        vertical-align: top;\n",
       "    }\n",
       "\n",
       "    .dataframe thead th {\n",
       "        text-align: right;\n",
       "    }\n",
       "</style>\n",
       "<table border=\"1\" class=\"dataframe\">\n",
       "  <thead>\n",
       "    <tr style=\"text-align: right;\">\n",
       "      <th>class</th>\n",
       "      <th>2seater</th>\n",
       "      <th>compact</th>\n",
       "      <th>midsize</th>\n",
       "      <th>minivan</th>\n",
       "      <th>pickup</th>\n",
       "      <th>subcompact</th>\n",
       "      <th>suv</th>\n",
       "      <th>All</th>\n",
       "    </tr>\n",
       "    <tr>\n",
       "      <th>manufacturer</th>\n",
       "      <th></th>\n",
       "      <th></th>\n",
       "      <th></th>\n",
       "      <th></th>\n",
       "      <th></th>\n",
       "      <th></th>\n",
       "      <th></th>\n",
       "      <th></th>\n",
       "    </tr>\n",
       "  </thead>\n",
       "  <tbody>\n",
       "    <tr>\n",
       "      <th>audi</th>\n",
       "      <td>0</td>\n",
       "      <td>15</td>\n",
       "      <td>3</td>\n",
       "      <td>0</td>\n",
       "      <td>0</td>\n",
       "      <td>0</td>\n",
       "      <td>0</td>\n",
       "      <td>18</td>\n",
       "    </tr>\n",
       "    <tr>\n",
       "      <th>chevrolet</th>\n",
       "      <td>5</td>\n",
       "      <td>0</td>\n",
       "      <td>5</td>\n",
       "      <td>0</td>\n",
       "      <td>0</td>\n",
       "      <td>0</td>\n",
       "      <td>9</td>\n",
       "      <td>19</td>\n",
       "    </tr>\n",
       "    <tr>\n",
       "      <th>dodge</th>\n",
       "      <td>0</td>\n",
       "      <td>0</td>\n",
       "      <td>0</td>\n",
       "      <td>11</td>\n",
       "      <td>19</td>\n",
       "      <td>0</td>\n",
       "      <td>7</td>\n",
       "      <td>37</td>\n",
       "    </tr>\n",
       "    <tr>\n",
       "      <th>ford</th>\n",
       "      <td>0</td>\n",
       "      <td>0</td>\n",
       "      <td>0</td>\n",
       "      <td>0</td>\n",
       "      <td>7</td>\n",
       "      <td>9</td>\n",
       "      <td>9</td>\n",
       "      <td>25</td>\n",
       "    </tr>\n",
       "    <tr>\n",
       "      <th>honda</th>\n",
       "      <td>0</td>\n",
       "      <td>0</td>\n",
       "      <td>0</td>\n",
       "      <td>0</td>\n",
       "      <td>0</td>\n",
       "      <td>9</td>\n",
       "      <td>0</td>\n",
       "      <td>9</td>\n",
       "    </tr>\n",
       "    <tr>\n",
       "      <th>hyundai</th>\n",
       "      <td>0</td>\n",
       "      <td>0</td>\n",
       "      <td>7</td>\n",
       "      <td>0</td>\n",
       "      <td>0</td>\n",
       "      <td>7</td>\n",
       "      <td>0</td>\n",
       "      <td>14</td>\n",
       "    </tr>\n",
       "    <tr>\n",
       "      <th>jeep</th>\n",
       "      <td>0</td>\n",
       "      <td>0</td>\n",
       "      <td>0</td>\n",
       "      <td>0</td>\n",
       "      <td>0</td>\n",
       "      <td>0</td>\n",
       "      <td>8</td>\n",
       "      <td>8</td>\n",
       "    </tr>\n",
       "    <tr>\n",
       "      <th>land rover</th>\n",
       "      <td>0</td>\n",
       "      <td>0</td>\n",
       "      <td>0</td>\n",
       "      <td>0</td>\n",
       "      <td>0</td>\n",
       "      <td>0</td>\n",
       "      <td>4</td>\n",
       "      <td>4</td>\n",
       "    </tr>\n",
       "    <tr>\n",
       "      <th>lincoln</th>\n",
       "      <td>0</td>\n",
       "      <td>0</td>\n",
       "      <td>0</td>\n",
       "      <td>0</td>\n",
       "      <td>0</td>\n",
       "      <td>0</td>\n",
       "      <td>3</td>\n",
       "      <td>3</td>\n",
       "    </tr>\n",
       "    <tr>\n",
       "      <th>mercury</th>\n",
       "      <td>0</td>\n",
       "      <td>0</td>\n",
       "      <td>0</td>\n",
       "      <td>0</td>\n",
       "      <td>0</td>\n",
       "      <td>0</td>\n",
       "      <td>4</td>\n",
       "      <td>4</td>\n",
       "    </tr>\n",
       "    <tr>\n",
       "      <th>nissan</th>\n",
       "      <td>0</td>\n",
       "      <td>2</td>\n",
       "      <td>7</td>\n",
       "      <td>0</td>\n",
       "      <td>0</td>\n",
       "      <td>0</td>\n",
       "      <td>4</td>\n",
       "      <td>13</td>\n",
       "    </tr>\n",
       "    <tr>\n",
       "      <th>pontiac</th>\n",
       "      <td>0</td>\n",
       "      <td>0</td>\n",
       "      <td>5</td>\n",
       "      <td>0</td>\n",
       "      <td>0</td>\n",
       "      <td>0</td>\n",
       "      <td>0</td>\n",
       "      <td>5</td>\n",
       "    </tr>\n",
       "    <tr>\n",
       "      <th>subaru</th>\n",
       "      <td>0</td>\n",
       "      <td>4</td>\n",
       "      <td>0</td>\n",
       "      <td>0</td>\n",
       "      <td>0</td>\n",
       "      <td>4</td>\n",
       "      <td>6</td>\n",
       "      <td>14</td>\n",
       "    </tr>\n",
       "    <tr>\n",
       "      <th>toyota</th>\n",
       "      <td>0</td>\n",
       "      <td>12</td>\n",
       "      <td>7</td>\n",
       "      <td>0</td>\n",
       "      <td>7</td>\n",
       "      <td>0</td>\n",
       "      <td>8</td>\n",
       "      <td>34</td>\n",
       "    </tr>\n",
       "    <tr>\n",
       "      <th>volkswagen</th>\n",
       "      <td>0</td>\n",
       "      <td>14</td>\n",
       "      <td>7</td>\n",
       "      <td>0</td>\n",
       "      <td>0</td>\n",
       "      <td>6</td>\n",
       "      <td>0</td>\n",
       "      <td>27</td>\n",
       "    </tr>\n",
       "    <tr>\n",
       "      <th>All</th>\n",
       "      <td>5</td>\n",
       "      <td>47</td>\n",
       "      <td>41</td>\n",
       "      <td>11</td>\n",
       "      <td>33</td>\n",
       "      <td>35</td>\n",
       "      <td>62</td>\n",
       "      <td>234</td>\n",
       "    </tr>\n",
       "  </tbody>\n",
       "</table>\n",
       "</div>"
      ],
      "text/plain": [
       "class         2seater  compact  midsize  minivan  pickup  subcompact  suv  All\n",
       "manufacturer                                                                  \n",
       "audi                0       15        3        0       0           0    0   18\n",
       "chevrolet           5        0        5        0       0           0    9   19\n",
       "dodge               0        0        0       11      19           0    7   37\n",
       "ford                0        0        0        0       7           9    9   25\n",
       "honda               0        0        0        0       0           9    0    9\n",
       "hyundai             0        0        7        0       0           7    0   14\n",
       "jeep                0        0        0        0       0           0    8    8\n",
       "land rover          0        0        0        0       0           0    4    4\n",
       "lincoln             0        0        0        0       0           0    3    3\n",
       "mercury             0        0        0        0       0           0    4    4\n",
       "nissan              0        2        7        0       0           0    4   13\n",
       "pontiac             0        0        5        0       0           0    0    5\n",
       "subaru              0        4        0        0       0           4    6   14\n",
       "toyota              0       12        7        0       7           0    8   34\n",
       "volkswagen          0       14        7        0       0           6    0   27\n",
       "All                 5       47       41       11      33          35   62  234"
      ]
     },
     "execution_count": 107,
     "metadata": {},
     "output_type": "execute_result"
    }
   ],
   "source": [
    "pd.crosstab(mpg['manufacturer'],mpg['class'], margins=True)"
   ]
  },
  {
   "cell_type": "markdown",
   "id": "367e673e",
   "metadata": {},
   "source": [
    "H$_o$ : The variables of MANUFACTURER and CLASS are independent of one another\n",
    "\n",
    "H$_a$ : There is dependency between vehicle MANUFACTURER and CLASS"
   ]
  },
  {
   "cell_type": "code",
   "execution_count": 108,
   "id": "9f7ed91b",
   "metadata": {},
   "outputs": [],
   "source": [
    "mpg_manu_x_class =pd.crosstab(mpg['manufacturer'],mpg['class'])"
   ]
  },
  {
   "cell_type": "code",
   "execution_count": 109,
   "id": "2e4a590c",
   "metadata": {},
   "outputs": [
    {
     "data": {
      "text/plain": [
       "(464.37214690582,\n",
       " 5.267718408816259e-54,\n",
       " 84,\n",
       " array([[0.38461538, 3.61538462, 3.15384615, 0.84615385, 2.53846154,\n",
       "         2.69230769, 4.76923077],\n",
       "        [0.40598291, 3.81623932, 3.32905983, 0.89316239, 2.67948718,\n",
       "         2.84188034, 5.03418803],\n",
       "        [0.79059829, 7.43162393, 6.48290598, 1.73931624, 5.21794872,\n",
       "         5.53418803, 9.8034188 ],\n",
       "        [0.53418803, 5.02136752, 4.38034188, 1.17521368, 3.52564103,\n",
       "         3.73931624, 6.62393162],\n",
       "        [0.19230769, 1.80769231, 1.57692308, 0.42307692, 1.26923077,\n",
       "         1.34615385, 2.38461538],\n",
       "        [0.2991453 , 2.81196581, 2.45299145, 0.65811966, 1.97435897,\n",
       "         2.09401709, 3.70940171],\n",
       "        [0.17094017, 1.60683761, 1.4017094 , 0.37606838, 1.12820513,\n",
       "         1.1965812 , 2.11965812],\n",
       "        [0.08547009, 0.8034188 , 0.7008547 , 0.18803419, 0.56410256,\n",
       "         0.5982906 , 1.05982906],\n",
       "        [0.06410256, 0.6025641 , 0.52564103, 0.14102564, 0.42307692,\n",
       "         0.44871795, 0.79487179],\n",
       "        [0.08547009, 0.8034188 , 0.7008547 , 0.18803419, 0.56410256,\n",
       "         0.5982906 , 1.05982906],\n",
       "        [0.27777778, 2.61111111, 2.27777778, 0.61111111, 1.83333333,\n",
       "         1.94444444, 3.44444444],\n",
       "        [0.10683761, 1.0042735 , 0.87606838, 0.23504274, 0.70512821,\n",
       "         0.74786325, 1.32478632],\n",
       "        [0.2991453 , 2.81196581, 2.45299145, 0.65811966, 1.97435897,\n",
       "         2.09401709, 3.70940171],\n",
       "        [0.72649573, 6.82905983, 5.95726496, 1.5982906 , 4.79487179,\n",
       "         5.08547009, 9.00854701],\n",
       "        [0.57692308, 5.42307692, 4.73076923, 1.26923077, 3.80769231,\n",
       "         4.03846154, 7.15384615]]))"
      ]
     },
     "execution_count": 109,
     "metadata": {},
     "output_type": "execute_result"
    }
   ],
   "source": [
    "stats.chi2_contingency(mpg_manu_x_class)"
   ]
  },
  {
   "cell_type": "code",
   "execution_count": 110,
   "id": "1b40f56d",
   "metadata": {},
   "outputs": [
    {
     "data": {
      "text/plain": [
       "5.267718408816259e-54"
      ]
     },
     "execution_count": 110,
     "metadata": {},
     "output_type": "execute_result"
    }
   ],
   "source": [
    "chi2,p,dof,exp_val = stats.chi2_contingency(mpg_manu_x_class)\n",
    "p"
   ]
  },
  {
   "cell_type": "code",
   "execution_count": 111,
   "id": "c7a43cf0",
   "metadata": {},
   "outputs": [
    {
     "data": {
      "text/plain": [
       "True"
      ]
     },
     "execution_count": 111,
     "metadata": {},
     "output_type": "execute_result"
    }
   ],
   "source": [
    "p < check_α # REJECT the NULL, with 95% confidence, we conclude that a dependency exists between MANUFACTURER\n",
    "# and CAR CLASS"
   ]
  },
  {
   "cell_type": "code",
   "execution_count": null,
   "id": "0f232121",
   "metadata": {},
   "outputs": [],
   "source": [
    "# 4 From employee DB, employee GENDER independent of dept_name SALES or MARKETING"
   ]
  },
  {
   "cell_type": "code",
   "execution_count": 112,
   "id": "55f6a4d1",
   "metadata": {},
   "outputs": [],
   "source": [
    "import env\n",
    "# [protocol]://[user]:[password]@[host]/[database_name]\n",
    "# mysql+pymysql://codeup:p@assw0rd@123.123.123.123/some_db\n",
    "# def get_db_url(u_name,pwd,h_name,db_name):\n",
    "#     url = f'mysql+pymysql://{u_name}:{pwd}@{h_name}/{db_name}'\n",
    "#     return url\n",
    "query_emp_gend = \"SELECT e.emp_no, e.gender, de.dept_no, d.dept_name FROM employees as e JOIN salaries as s ON e.emp_no = s.emp_no JOIN dept_emp as de ON e.emp_no = de.emp_no JOIN departments as d ON de.dept_no = d.dept_no WHERE YEAR(s.to_date) = 9999 AND d.dept_name IN ('Marketing','Sales');\"\n"
   ]
  },
  {
   "cell_type": "code",
   "execution_count": 113,
   "id": "f437eb4c",
   "metadata": {},
   "outputs": [
    {
     "data": {
      "text/html": [
       "<div>\n",
       "<style scoped>\n",
       "    .dataframe tbody tr th:only-of-type {\n",
       "        vertical-align: middle;\n",
       "    }\n",
       "\n",
       "    .dataframe tbody tr th {\n",
       "        vertical-align: top;\n",
       "    }\n",
       "\n",
       "    .dataframe thead th {\n",
       "        text-align: right;\n",
       "    }\n",
       "</style>\n",
       "<table border=\"1\" class=\"dataframe\">\n",
       "  <thead>\n",
       "    <tr style=\"text-align: right;\">\n",
       "      <th></th>\n",
       "      <th>emp_no</th>\n",
       "      <th>gender</th>\n",
       "      <th>dept_no</th>\n",
       "      <th>dept_name</th>\n",
       "    </tr>\n",
       "  </thead>\n",
       "  <tbody>\n",
       "    <tr>\n",
       "      <th>0</th>\n",
       "      <td>10017</td>\n",
       "      <td>F</td>\n",
       "      <td>d001</td>\n",
       "      <td>Marketing</td>\n",
       "    </tr>\n",
       "    <tr>\n",
       "      <th>1</th>\n",
       "      <td>10058</td>\n",
       "      <td>M</td>\n",
       "      <td>d001</td>\n",
       "      <td>Marketing</td>\n",
       "    </tr>\n",
       "    <tr>\n",
       "      <th>2</th>\n",
       "      <td>10140</td>\n",
       "      <td>F</td>\n",
       "      <td>d001</td>\n",
       "      <td>Marketing</td>\n",
       "    </tr>\n",
       "    <tr>\n",
       "      <th>3</th>\n",
       "      <td>10228</td>\n",
       "      <td>F</td>\n",
       "      <td>d001</td>\n",
       "      <td>Marketing</td>\n",
       "    </tr>\n",
       "    <tr>\n",
       "      <th>4</th>\n",
       "      <td>10239</td>\n",
       "      <td>F</td>\n",
       "      <td>d001</td>\n",
       "      <td>Marketing</td>\n",
       "    </tr>\n",
       "    <tr>\n",
       "      <th>...</th>\n",
       "      <td>...</td>\n",
       "      <td>...</td>\n",
       "      <td>...</td>\n",
       "      <td>...</td>\n",
       "    </tr>\n",
       "    <tr>\n",
       "      <th>58247</th>\n",
       "      <td>499966</td>\n",
       "      <td>F</td>\n",
       "      <td>d007</td>\n",
       "      <td>Sales</td>\n",
       "    </tr>\n",
       "    <tr>\n",
       "      <th>58248</th>\n",
       "      <td>499976</td>\n",
       "      <td>M</td>\n",
       "      <td>d007</td>\n",
       "      <td>Sales</td>\n",
       "    </tr>\n",
       "    <tr>\n",
       "      <th>58249</th>\n",
       "      <td>499980</td>\n",
       "      <td>M</td>\n",
       "      <td>d007</td>\n",
       "      <td>Sales</td>\n",
       "    </tr>\n",
       "    <tr>\n",
       "      <th>58250</th>\n",
       "      <td>499986</td>\n",
       "      <td>F</td>\n",
       "      <td>d007</td>\n",
       "      <td>Sales</td>\n",
       "    </tr>\n",
       "    <tr>\n",
       "      <th>58251</th>\n",
       "      <td>499987</td>\n",
       "      <td>F</td>\n",
       "      <td>d007</td>\n",
       "      <td>Sales</td>\n",
       "    </tr>\n",
       "  </tbody>\n",
       "</table>\n",
       "<p>58252 rows × 4 columns</p>\n",
       "</div>"
      ],
      "text/plain": [
       "       emp_no gender dept_no  dept_name\n",
       "0       10017      F    d001  Marketing\n",
       "1       10058      M    d001  Marketing\n",
       "2       10140      F    d001  Marketing\n",
       "3       10228      F    d001  Marketing\n",
       "4       10239      F    d001  Marketing\n",
       "...       ...    ...     ...        ...\n",
       "58247  499966      F    d007      Sales\n",
       "58248  499976      M    d007      Sales\n",
       "58249  499980      M    d007      Sales\n",
       "58250  499986      F    d007      Sales\n",
       "58251  499987      F    d007      Sales\n",
       "\n",
       "[58252 rows x 4 columns]"
      ]
     },
     "execution_count": 113,
     "metadata": {},
     "output_type": "execute_result"
    }
   ],
   "source": [
    "emp_gender_df = pd.read_sql(query_emp_gend,env.get_db_url(env.uname,env.pwd,env.host,'employees'))\n",
    "emp_gender_df"
   ]
  },
  {
   "cell_type": "code",
   "execution_count": null,
   "id": "ae9f6c1f",
   "metadata": {},
   "outputs": [],
   "source": [
    "# SELECT e.emp_no, e.gender, de.dept_no, d.dept_name\n",
    "# FROM employees as e\n",
    "# \tJOIN salaries as s \n",
    "# \t\tON e.emp_no = s.emp_no\n",
    "# \tJOIN dept_emp as de\n",
    "# \t\tON e.emp_no = de.emp_no\n",
    "# \tJOIN departments as d\n",
    "# \t\tON de.dept_no = d.dept_no\n",
    "# WHERE YEAR(s.to_date) = 9999 AND d.dept_name IN ('Marketing','Sales')"
   ]
  },
  {
   "cell_type": "code",
   "execution_count": null,
   "id": "c5081de4",
   "metadata": {},
   "outputs": [],
   "source": []
  },
  {
   "cell_type": "markdown",
   "id": "fc6ae038",
   "metadata": {},
   "source": [
    "H$_o$ : The variables of GENDER and DEPT are independent of one another\n",
    "\n",
    "H$_a$ : There is dependency between vehicle DEPT and GENDER"
   ]
  },
  {
   "cell_type": "code",
   "execution_count": 114,
   "id": "dd4714c1",
   "metadata": {},
   "outputs": [
    {
     "data": {
      "text/html": [
       "<div>\n",
       "<style scoped>\n",
       "    .dataframe tbody tr th:only-of-type {\n",
       "        vertical-align: middle;\n",
       "    }\n",
       "\n",
       "    .dataframe tbody tr th {\n",
       "        vertical-align: top;\n",
       "    }\n",
       "\n",
       "    .dataframe thead th {\n",
       "        text-align: right;\n",
       "    }\n",
       "</style>\n",
       "<table border=\"1\" class=\"dataframe\">\n",
       "  <thead>\n",
       "    <tr style=\"text-align: right;\">\n",
       "      <th></th>\n",
       "      <th>emp_no</th>\n",
       "      <th>gender</th>\n",
       "      <th>dept_no</th>\n",
       "      <th>dept_name</th>\n",
       "    </tr>\n",
       "  </thead>\n",
       "  <tbody>\n",
       "    <tr>\n",
       "      <th>0</th>\n",
       "      <td>10017</td>\n",
       "      <td>F</td>\n",
       "      <td>d001</td>\n",
       "      <td>Marketing</td>\n",
       "    </tr>\n",
       "    <tr>\n",
       "      <th>1</th>\n",
       "      <td>10058</td>\n",
       "      <td>M</td>\n",
       "      <td>d001</td>\n",
       "      <td>Marketing</td>\n",
       "    </tr>\n",
       "    <tr>\n",
       "      <th>2</th>\n",
       "      <td>10140</td>\n",
       "      <td>F</td>\n",
       "      <td>d001</td>\n",
       "      <td>Marketing</td>\n",
       "    </tr>\n",
       "    <tr>\n",
       "      <th>3</th>\n",
       "      <td>10228</td>\n",
       "      <td>F</td>\n",
       "      <td>d001</td>\n",
       "      <td>Marketing</td>\n",
       "    </tr>\n",
       "    <tr>\n",
       "      <th>4</th>\n",
       "      <td>10239</td>\n",
       "      <td>F</td>\n",
       "      <td>d001</td>\n",
       "      <td>Marketing</td>\n",
       "    </tr>\n",
       "  </tbody>\n",
       "</table>\n",
       "</div>"
      ],
      "text/plain": [
       "   emp_no gender dept_no  dept_name\n",
       "0   10017      F    d001  Marketing\n",
       "1   10058      M    d001  Marketing\n",
       "2   10140      F    d001  Marketing\n",
       "3   10228      F    d001  Marketing\n",
       "4   10239      F    d001  Marketing"
      ]
     },
     "execution_count": 114,
     "metadata": {},
     "output_type": "execute_result"
    }
   ],
   "source": [
    "emp_gender_df.head()"
   ]
  },
  {
   "cell_type": "code",
   "execution_count": 115,
   "id": "abd3c911",
   "metadata": {},
   "outputs": [
    {
     "data": {
      "text/html": [
       "<div>\n",
       "<style scoped>\n",
       "    .dataframe tbody tr th:only-of-type {\n",
       "        vertical-align: middle;\n",
       "    }\n",
       "\n",
       "    .dataframe tbody tr th {\n",
       "        vertical-align: top;\n",
       "    }\n",
       "\n",
       "    .dataframe thead th {\n",
       "        text-align: right;\n",
       "    }\n",
       "</style>\n",
       "<table border=\"1\" class=\"dataframe\">\n",
       "  <thead>\n",
       "    <tr style=\"text-align: right;\">\n",
       "      <th>dept_name</th>\n",
       "      <th>Marketing</th>\n",
       "      <th>Sales</th>\n",
       "    </tr>\n",
       "    <tr>\n",
       "      <th>gender</th>\n",
       "      <th></th>\n",
       "      <th></th>\n",
       "    </tr>\n",
       "  </thead>\n",
       "  <tbody>\n",
       "    <tr>\n",
       "      <th>F</th>\n",
       "      <td>6429</td>\n",
       "      <td>16698</td>\n",
       "    </tr>\n",
       "    <tr>\n",
       "      <th>M</th>\n",
       "      <td>9823</td>\n",
       "      <td>25302</td>\n",
       "    </tr>\n",
       "  </tbody>\n",
       "</table>\n",
       "</div>"
      ],
      "text/plain": [
       "dept_name  Marketing  Sales\n",
       "gender                     \n",
       "F               6429  16698\n",
       "M               9823  25302"
      ]
     },
     "execution_count": 115,
     "metadata": {},
     "output_type": "execute_result"
    }
   ],
   "source": [
    "pd.crosstab(emp_gender_df.gender,emp_gender_df.dept_name)"
   ]
  },
  {
   "cell_type": "code",
   "execution_count": 116,
   "id": "75c0a19e",
   "metadata": {},
   "outputs": [],
   "source": [
    "emp_gend_xtab = pd.crosstab(emp_gender_df.gender,emp_gender_df.dept_name)"
   ]
  },
  {
   "cell_type": "code",
   "execution_count": 117,
   "id": "3599e4e2",
   "metadata": {},
   "outputs": [
    {
     "data": {
      "text/plain": [
       "(0.18548924445258216,\n",
       " 0.6666977011651685,\n",
       " 1,\n",
       " array([[ 6452.31071895, 16674.68928105],\n",
       "        [ 9799.68928105, 25325.31071895]]))"
      ]
     },
     "execution_count": 117,
     "metadata": {},
     "output_type": "execute_result"
    }
   ],
   "source": [
    "stats.chi2_contingency(emp_gend_xtab)"
   ]
  },
  {
   "cell_type": "code",
   "execution_count": 118,
   "id": "f73e5284",
   "metadata": {},
   "outputs": [
    {
     "data": {
      "text/plain": [
       "0.6666977011651685"
      ]
     },
     "execution_count": 118,
     "metadata": {},
     "output_type": "execute_result"
    }
   ],
   "source": [
    "chi2,p,dof,exp_val = stats.chi2_contingency(emp_gend_xtab)\n",
    "p"
   ]
  },
  {
   "cell_type": "code",
   "execution_count": 119,
   "id": "d5868214",
   "metadata": {},
   "outputs": [
    {
     "data": {
      "text/plain": [
       "False"
      ]
     },
     "execution_count": 119,
     "metadata": {},
     "output_type": "execute_result"
    }
   ],
   "source": [
    "p < check_α # FAIL to REJECT the NULL, with 95% confidence, there is evidence to suggest that a dependency \n",
    "# DOES NOT exist between GENDER and DEPT"
   ]
  },
  {
   "cell_type": "code",
   "execution_count": null,
   "id": "83241389",
   "metadata": {},
   "outputs": [],
   "source": [
    "# 4b Is GENDER independent from MANAGER STATUS"
   ]
  },
  {
   "cell_type": "code",
   "execution_count": 120,
   "id": "709096af",
   "metadata": {},
   "outputs": [],
   "source": [
    "import env\n",
    "# [protocol]://[user]:[password]@[host]/[database_name]\n",
    "# mysql+pymysql://codeup:p@assw0rd@123.123.123.123/some_db\n",
    "# def get_db_url(u_name,pwd,h_name,db_name):\n",
    "#     url = f'mysql+pymysql://{u_name}:{pwd}@{h_name}/{db_name}'\n",
    "#     return url\n",
    "query_emp_manager = \"SELECT emp_no, gender, dept_no,dept_no is not null as mngr FROM employees LEFT JOIN dept_manager USING(emp_no)\"\n"
   ]
  },
  {
   "cell_type": "code",
   "execution_count": null,
   "id": "820f57be",
   "metadata": {},
   "outputs": [],
   "source": [
    "# SELECT emp_no, gender, dept_no,to_date\n",
    "# FROM employees\n",
    "# \tJOIN dept_manager\n",
    "# \t\tUSING(emp_no)"
   ]
  },
  {
   "cell_type": "code",
   "execution_count": 121,
   "id": "760bd384",
   "metadata": {
    "scrolled": true
   },
   "outputs": [
    {
     "data": {
      "text/html": [
       "<div>\n",
       "<style scoped>\n",
       "    .dataframe tbody tr th:only-of-type {\n",
       "        vertical-align: middle;\n",
       "    }\n",
       "\n",
       "    .dataframe tbody tr th {\n",
       "        vertical-align: top;\n",
       "    }\n",
       "\n",
       "    .dataframe thead th {\n",
       "        text-align: right;\n",
       "    }\n",
       "</style>\n",
       "<table border=\"1\" class=\"dataframe\">\n",
       "  <thead>\n",
       "    <tr style=\"text-align: right;\">\n",
       "      <th></th>\n",
       "      <th>emp_no</th>\n",
       "      <th>gender</th>\n",
       "      <th>dept_no</th>\n",
       "      <th>mngr</th>\n",
       "    </tr>\n",
       "  </thead>\n",
       "  <tbody>\n",
       "    <tr>\n",
       "      <th>0</th>\n",
       "      <td>10001</td>\n",
       "      <td>M</td>\n",
       "      <td>None</td>\n",
       "      <td>0</td>\n",
       "    </tr>\n",
       "    <tr>\n",
       "      <th>1</th>\n",
       "      <td>10002</td>\n",
       "      <td>F</td>\n",
       "      <td>None</td>\n",
       "      <td>0</td>\n",
       "    </tr>\n",
       "    <tr>\n",
       "      <th>2</th>\n",
       "      <td>10003</td>\n",
       "      <td>M</td>\n",
       "      <td>None</td>\n",
       "      <td>0</td>\n",
       "    </tr>\n",
       "    <tr>\n",
       "      <th>3</th>\n",
       "      <td>10004</td>\n",
       "      <td>M</td>\n",
       "      <td>None</td>\n",
       "      <td>0</td>\n",
       "    </tr>\n",
       "    <tr>\n",
       "      <th>4</th>\n",
       "      <td>10005</td>\n",
       "      <td>M</td>\n",
       "      <td>None</td>\n",
       "      <td>0</td>\n",
       "    </tr>\n",
       "    <tr>\n",
       "      <th>...</th>\n",
       "      <td>...</td>\n",
       "      <td>...</td>\n",
       "      <td>...</td>\n",
       "      <td>...</td>\n",
       "    </tr>\n",
       "    <tr>\n",
       "      <th>300019</th>\n",
       "      <td>499995</td>\n",
       "      <td>F</td>\n",
       "      <td>None</td>\n",
       "      <td>0</td>\n",
       "    </tr>\n",
       "    <tr>\n",
       "      <th>300020</th>\n",
       "      <td>499996</td>\n",
       "      <td>M</td>\n",
       "      <td>None</td>\n",
       "      <td>0</td>\n",
       "    </tr>\n",
       "    <tr>\n",
       "      <th>300021</th>\n",
       "      <td>499997</td>\n",
       "      <td>M</td>\n",
       "      <td>None</td>\n",
       "      <td>0</td>\n",
       "    </tr>\n",
       "    <tr>\n",
       "      <th>300022</th>\n",
       "      <td>499998</td>\n",
       "      <td>M</td>\n",
       "      <td>None</td>\n",
       "      <td>0</td>\n",
       "    </tr>\n",
       "    <tr>\n",
       "      <th>300023</th>\n",
       "      <td>499999</td>\n",
       "      <td>M</td>\n",
       "      <td>None</td>\n",
       "      <td>0</td>\n",
       "    </tr>\n",
       "  </tbody>\n",
       "</table>\n",
       "<p>300024 rows × 4 columns</p>\n",
       "</div>"
      ],
      "text/plain": [
       "        emp_no gender dept_no  mngr\n",
       "0        10001      M    None     0\n",
       "1        10002      F    None     0\n",
       "2        10003      M    None     0\n",
       "3        10004      M    None     0\n",
       "4        10005      M    None     0\n",
       "...        ...    ...     ...   ...\n",
       "300019  499995      F    None     0\n",
       "300020  499996      M    None     0\n",
       "300021  499997      M    None     0\n",
       "300022  499998      M    None     0\n",
       "300023  499999      M    None     0\n",
       "\n",
       "[300024 rows x 4 columns]"
      ]
     },
     "execution_count": 121,
     "metadata": {},
     "output_type": "execute_result"
    }
   ],
   "source": [
    "emp_manager_df = pd.read_sql(query_emp_manager,env.get_db_url(env.uname,env.pwd,env.host,'employees'))\n",
    "emp_manager_df"
   ]
  },
  {
   "cell_type": "markdown",
   "id": "d009db83",
   "metadata": {},
   "source": [
    "H$_o$ : The variables of GENDER and MANAGEMENT STATUS are independent of one another\n",
    "\n",
    "H$_a$ : There is dependency between vehicle DEPT and MANAGEMENT STATUS"
   ]
  },
  {
   "cell_type": "code",
   "execution_count": 122,
   "id": "754846bb",
   "metadata": {},
   "outputs": [
    {
     "data": {
      "text/html": [
       "<div>\n",
       "<style scoped>\n",
       "    .dataframe tbody tr th:only-of-type {\n",
       "        vertical-align: middle;\n",
       "    }\n",
       "\n",
       "    .dataframe tbody tr th {\n",
       "        vertical-align: top;\n",
       "    }\n",
       "\n",
       "    .dataframe thead th {\n",
       "        text-align: right;\n",
       "    }\n",
       "</style>\n",
       "<table border=\"1\" class=\"dataframe\">\n",
       "  <thead>\n",
       "    <tr style=\"text-align: right;\">\n",
       "      <th>mngr</th>\n",
       "      <th>0</th>\n",
       "      <th>1</th>\n",
       "    </tr>\n",
       "    <tr>\n",
       "      <th>gender</th>\n",
       "      <th></th>\n",
       "      <th></th>\n",
       "    </tr>\n",
       "  </thead>\n",
       "  <tbody>\n",
       "    <tr>\n",
       "      <th>F</th>\n",
       "      <td>120038</td>\n",
       "      <td>13</td>\n",
       "    </tr>\n",
       "    <tr>\n",
       "      <th>M</th>\n",
       "      <td>179962</td>\n",
       "      <td>11</td>\n",
       "    </tr>\n",
       "  </tbody>\n",
       "</table>\n",
       "</div>"
      ],
      "text/plain": [
       "mngr         0   1\n",
       "gender            \n",
       "F       120038  13\n",
       "M       179962  11"
      ]
     },
     "execution_count": 122,
     "metadata": {},
     "output_type": "execute_result"
    }
   ],
   "source": [
    "pd.crosstab(emp_manager_df.gender,emp_manager_df.mngr)"
   ]
  },
  {
   "cell_type": "code",
   "execution_count": 123,
   "id": "d277cec1",
   "metadata": {},
   "outputs": [
    {
     "data": {
      "text/html": [
       "<div>\n",
       "<style scoped>\n",
       "    .dataframe tbody tr th:only-of-type {\n",
       "        vertical-align: middle;\n",
       "    }\n",
       "\n",
       "    .dataframe tbody tr th {\n",
       "        vertical-align: top;\n",
       "    }\n",
       "\n",
       "    .dataframe thead th {\n",
       "        text-align: right;\n",
       "    }\n",
       "</style>\n",
       "<table border=\"1\" class=\"dataframe\">\n",
       "  <thead>\n",
       "    <tr style=\"text-align: right;\">\n",
       "      <th>mngr</th>\n",
       "      <th>0</th>\n",
       "      <th>1</th>\n",
       "    </tr>\n",
       "    <tr>\n",
       "      <th>gender</th>\n",
       "      <th></th>\n",
       "      <th></th>\n",
       "    </tr>\n",
       "  </thead>\n",
       "  <tbody>\n",
       "    <tr>\n",
       "      <th>F</th>\n",
       "      <td>120038</td>\n",
       "      <td>13</td>\n",
       "    </tr>\n",
       "    <tr>\n",
       "      <th>M</th>\n",
       "      <td>179962</td>\n",
       "      <td>11</td>\n",
       "    </tr>\n",
       "  </tbody>\n",
       "</table>\n",
       "</div>"
      ],
      "text/plain": [
       "mngr         0   1\n",
       "gender            \n",
       "F       120038  13\n",
       "M       179962  11"
      ]
     },
     "execution_count": 123,
     "metadata": {},
     "output_type": "execute_result"
    }
   ],
   "source": [
    "emp_manager_xtab = pd.crosstab(emp_manager_df.gender,emp_manager_df.mngr)\n",
    "emp_manager_xtab"
   ]
  },
  {
   "cell_type": "code",
   "execution_count": 124,
   "id": "ff3b777e",
   "metadata": {},
   "outputs": [
    {
     "data": {
      "text/plain": [
       "(1.4566857643547197,\n",
       " 0.22745818732810363,\n",
       " 1,\n",
       " array([[1.20041397e+05, 9.60331174e+00],\n",
       "        [1.79958603e+05, 1.43966883e+01]]))"
      ]
     },
     "execution_count": 124,
     "metadata": {},
     "output_type": "execute_result"
    }
   ],
   "source": [
    "stats.chi2_contingency(emp_manager_xtab)"
   ]
  },
  {
   "cell_type": "code",
   "execution_count": 126,
   "id": "95ec2adc",
   "metadata": {},
   "outputs": [
    {
     "data": {
      "text/plain": [
       "0.22745818732810363"
      ]
     },
     "execution_count": 126,
     "metadata": {},
     "output_type": "execute_result"
    }
   ],
   "source": [
    "chi2,p,dof,exp_val = stats.chi2_contingency(emp_manager_xtab)\n",
    "p"
   ]
  },
  {
   "cell_type": "code",
   "execution_count": 127,
   "id": "5120ffe0",
   "metadata": {},
   "outputs": [
    {
     "data": {
      "text/plain": [
       "False"
      ]
     },
     "execution_count": 127,
     "metadata": {},
     "output_type": "execute_result"
    }
   ],
   "source": [
    "p < check_α # FAIL to REJECT the NULL, with 95% confidence, there is evidence to suggest that a dependency \n",
    "# DOES NOT exist between GENDER and MANAGER STATUS"
   ]
  },
  {
   "cell_type": "markdown",
   "id": "ebcbe61d",
   "metadata": {},
   "source": [
    "## Test NOTEs"
   ]
  },
  {
   "cell_type": "code",
   "execution_count": 131,
   "id": "2e47fe3b",
   "metadata": {},
   "outputs": [
    {
     "data": {
      "text/plain": [
       "0.1228196933987875"
      ]
     },
     "execution_count": 131,
     "metadata": {},
     "output_type": "execute_result"
    }
   ],
   "source": [
    "# 5 Cleanup Break Room... 0.03 chance that room is cleaned each day 59.4 students visit \n",
    "\n",
    "yes_survey = stats.binom(618,0.1)\n",
    "yes_survey.sf(70)"
   ]
  },
  {
   "cell_type": "code",
   "execution_count": 137,
   "id": "e4e0188d",
   "metadata": {},
   "outputs": [],
   "source": [
    "# pyplot for plotting\n",
    "# numpy for vectorized array operations\n",
    "# pandas for proper tabular manipulation\n",
    "# scipy stats for our subversions\n",
    "import matplotlib.pyplot as plt\n",
    "import numpy as np\n",
    "import pandas as pd\n",
    "from scipy import stats\n",
    "import seaborn as sns\n",
    "import viz # curriculum viz example code\n",
    "\n",
    "np.random.seed(123)"
   ]
  },
  {
   "cell_type": "code",
   "execution_count": 143,
   "id": "33a94690",
   "metadata": {},
   "outputs": [
    {
     "data": {
      "image/png": "[encoded data removed]",
      "text/plain": [
       "<Figure size 900x600 with 1 Axes>"
      ]
     },
     "metadata": {},
     "output_type": "display_data"
    }
   ],
   "source": [
    "import matplotlib.pyplot as plt\n",
    "# 6 LUNCH with mean =40 stdv =15\n",
    "# 6 LUNCH with mean =15 stdv =3\n",
    "lunch_dist = stats.norm(40,15)\n",
    "x = np.arange(0,100)\n",
    "y =[lunch_dist.pdf(i) for i in x]\n",
    "plt.scatter(x,y)\n",
    "plt.show()"
   ]
  },
  {
   "cell_type": "code",
   "execution_count": 144,
   "id": "80474b78",
   "metadata": {},
   "outputs": [
    {
     "data": {
      "text/plain": [
       "0.7475074624530771"
      ]
     },
     "execution_count": 144,
     "metadata": {},
     "output_type": "execute_result"
    }
   ],
   "source": [
    "lunch_dist.cdf(50)"
   ]
  },
  {
   "cell_type": "code",
   "execution_count": null,
   "id": "dadd6911",
   "metadata": {},
   "outputs": [],
   "source": []
  },
  {
   "cell_type": "code",
   "execution_count": null,
   "id": "125df7d4",
   "metadata": {},
   "outputs": [],
   "source": []
  },
  {
   "cell_type": "code",
   "execution_count": null,
   "id": "5e550cb4",
   "metadata": {},
   "outputs": [],
   "source": []
  },
  {
   "cell_type": "code",
   "execution_count": null,
   "id": "73eef3fa",
   "metadata": {},
   "outputs": [],
   "source": []
  },
  {
   "cell_type": "code",
   "execution_count": null,
   "id": "94b6a5c8",
   "metadata": {},
   "outputs": [],
   "source": []
  },
  {
   "cell_type": "code",
   "execution_count": null,
   "id": "5e4396a4",
   "metadata": {},
   "outputs": [],
   "source": []
  },
  {
   "cell_type": "code",
   "execution_count": null,
   "id": "03a5070c",
   "metadata": {},
   "outputs": [],
   "source": []
  }
 ],
 "metadata": {
  "kernelspec": {
   "display_name": "Python 3 (ipykernel)",
   "language": "python",
   "name": "python3"
  },
  "language_info": {
   "codemirror_mode": {
    "name": "ipython",
    "version": 3
   },
   "file_extension": ".py",
   "mimetype": "text/x-python",
   "name": "python",
   "nbconvert_exporter": "python",
   "pygments_lexer": "ipython3",
   "version": "3.9.13"
  }
 },
 "nbformat": 4,
 "nbformat_minor": 5
}
